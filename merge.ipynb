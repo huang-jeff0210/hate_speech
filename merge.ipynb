{
 "cells": [
  {
   "cell_type": "code",
   "execution_count": 3,
   "source": [
    "import pandas as pd\r\n",
    "df = pd.read_csv('data_fix\\疫苗相關1.csv',low_memory=False,error_bad_lines=False)\r\n",
    "print(df)"
   ],
   "outputs": [
    {
     "output_type": "stream",
     "name": "stdout",
     "text": [
      "     LAKobeBryant             你就不要打啊 一堆人等著打  AstraZeneca\n",
      "0        SRadiant        放心，這說明書我早看過好幾遍了，那你  AstraZeneca\n",
      "1       greensaru             我應該只有高端的命。。。。  AstraZeneca\n",
      "2        SRadiant        有看過英文說明書嗎？你有看過其他幾家  AstraZeneca\n",
      "3        SRadiant                  疫苗的說明書嗎？  AstraZeneca\n",
      "4      sam4105112         4%最愛啊 96%打國產根本沒問題  AstraZeneca\n",
      "...           ...                       ...          ...\n",
      "7422     johnpage               300   88888      Moderna\n",
      "7423       ogcman                     又不是輝瑞      Moderna\n",
      "7424      terry66   英國...印度變種爆發 單日4000以上了..      Moderna\n",
      "7425    strikecbu        今天不是才說疫苗過一手不放心，要中央      Moderna\n",
      "7426    strikecbu        簽約，現在日本來的疫苗就不擔心...      Moderna\n",
      "\n",
      "[7427 rows x 3 columns]\n"
     ]
    },
    {
     "output_type": "stream",
     "name": "stderr",
     "text": [
      "C:\\Users\\jeff0\\AppData\\Local\\Programs\\Python\\Python39\\lib\\site-packages\\IPython\\core\\interactiveshell.py:3441: FutureWarning: The error_bad_lines argument has been deprecated and will be removed in a future version.\n",
      "\n",
      "\n",
      "  exec(code_obj, self.user_global_ns, self.user_ns)\n",
      "b'Skipping line 11: expected 3 fields, saw 4\\nSkipping line 170: expected 3 fields, saw 4\\nSkipping line 244: expected 3 fields, saw 4\\nSkipping line 428: expected 3 fields, saw 5\\nSkipping line 487: expected 3 fields, saw 4\\nSkipping line 563: expected 3 fields, saw 4\\nSkipping line 744: expected 3 fields, saw 5\\nSkipping line 857: expected 3 fields, saw 4\\nSkipping line 935: expected 3 fields, saw 4\\nSkipping line 1014: expected 3 fields, saw 4\\nSkipping line 1105: expected 3 fields, saw 4\\nSkipping line 1129: expected 3 fields, saw 5\\nSkipping line 1177: expected 3 fields, saw 4\\nSkipping line 1303: expected 3 fields, saw 4\\nSkipping line 1313: expected 3 fields, saw 4\\nSkipping line 1424: expected 3 fields, saw 5\\nSkipping line 1442: expected 3 fields, saw 4\\nSkipping line 1466: expected 3 fields, saw 5\\nSkipping line 1506: expected 3 fields, saw 4\\nSkipping line 1603: expected 3 fields, saw 4\\nSkipping line 2201: expected 3 fields, saw 5\\nSkipping line 2313: expected 3 fields, saw 4\\nSkipping line 2414: expected 3 fields, saw 4\\nSkipping line 2516: expected 3 fields, saw 5\\nSkipping line 2517: expected 3 fields, saw 5\\nSkipping line 2518: expected 3 fields, saw 4\\nSkipping line 2519: expected 3 fields, saw 4\\nSkipping line 2520: expected 3 fields, saw 4\\nSkipping line 2806: expected 3 fields, saw 4\\nSkipping line 2813: expected 3 fields, saw 4\\nSkipping line 2820: expected 3 fields, saw 4\\nSkipping line 2847: expected 3 fields, saw 4\\nSkipping line 3075: expected 3 fields, saw 4\\nSkipping line 3076: expected 3 fields, saw 5\\nSkipping line 3367: expected 3 fields, saw 4\\nSkipping line 3386: expected 3 fields, saw 4\\nSkipping line 3468: expected 3 fields, saw 4\\nSkipping line 3482: expected 3 fields, saw 4\\nSkipping line 3590: expected 3 fields, saw 4\\nSkipping line 3658: expected 3 fields, saw 4\\nSkipping line 3686: expected 3 fields, saw 4\\nSkipping line 3860: expected 3 fields, saw 4\\nSkipping line 3862: expected 3 fields, saw 4\\nSkipping line 3887: expected 3 fields, saw 4\\nSkipping line 3908: expected 3 fields, saw 4\\nSkipping line 4106: expected 3 fields, saw 4\\nSkipping line 4119: expected 3 fields, saw 4\\nSkipping line 4350: expected 3 fields, saw 4\\nSkipping line 4516: expected 3 fields, saw 4\\nSkipping line 4628: expected 3 fields, saw 4\\nSkipping line 4632: expected 3 fields, saw 4\\nSkipping line 4678: expected 3 fields, saw 5\\nSkipping line 4812: expected 3 fields, saw 4\\nSkipping line 4866: expected 3 fields, saw 4\\nSkipping line 4946: expected 3 fields, saw 4\\nSkipping line 4948: expected 3 fields, saw 4\\nSkipping line 4955: expected 3 fields, saw 4\\nSkipping line 5005: expected 3 fields, saw 4\\nSkipping line 5039: expected 3 fields, saw 4\\nSkipping line 5225: expected 3 fields, saw 5\\nSkipping line 5458: expected 3 fields, saw 4\\nSkipping line 5608: expected 3 fields, saw 4\\nSkipping line 5756: expected 3 fields, saw 4\\nSkipping line 5771: expected 3 fields, saw 4\\nSkipping line 5942: expected 3 fields, saw 4\\nSkipping line 6015: expected 3 fields, saw 5\\nSkipping line 6032: expected 3 fields, saw 4\\nSkipping line 6171: expected 3 fields, saw 4\\nSkipping line 6172: expected 3 fields, saw 4\\nSkipping line 6254: expected 3 fields, saw 4\\nSkipping line 6257: expected 3 fields, saw 4\\nSkipping line 6280: expected 3 fields, saw 4\\nSkipping line 6294: expected 3 fields, saw 4\\nSkipping line 6352: expected 3 fields, saw 4\\nSkipping line 6360: expected 3 fields, saw 4\\nSkipping line 6446: expected 3 fields, saw 4\\nSkipping line 6599: expected 3 fields, saw 4\\nSkipping line 6605: expected 3 fields, saw 4\\nSkipping line 6675: expected 3 fields, saw 4\\nSkipping line 6682: expected 3 fields, saw 4\\nSkipping line 6714: expected 3 fields, saw 4\\nSkipping line 6760: expected 3 fields, saw 4\\nSkipping line 6949: expected 3 fields, saw 5\\nSkipping line 7133: expected 3 fields, saw 4\\nSkipping line 7281: expected 3 fields, saw 4\\nSkipping line 7321: expected 3 fields, saw 4\\nSkipping line 7389: expected 3 fields, saw 4\\n'\n"
     ]
    }
   ],
   "metadata": {}
  },
  {
   "cell_type": "code",
   "execution_count": 5,
   "source": [
    "df\r\n",
    "df.columns = ['id','contents','key word']\r\n",
    "print(df)"
   ],
   "outputs": [
    {
     "output_type": "stream",
     "name": "stdout",
     "text": [
      "              id                  contents     key word\n",
      "0       SRadiant        放心，這說明書我早看過好幾遍了，那你  AstraZeneca\n",
      "1      greensaru             我應該只有高端的命。。。。  AstraZeneca\n",
      "2       SRadiant        有看過英文說明書嗎？你有看過其他幾家  AstraZeneca\n",
      "3       SRadiant                  疫苗的說明書嗎？  AstraZeneca\n",
      "4     sam4105112         4%最愛啊 96%打國產根本沒問題  AstraZeneca\n",
      "...          ...                       ...          ...\n",
      "7422    johnpage               300   88888      Moderna\n",
      "7423      ogcman                     又不是輝瑞      Moderna\n",
      "7424     terry66   英國...印度變種爆發 單日4000以上了..      Moderna\n",
      "7425   strikecbu        今天不是才說疫苗過一手不放心，要中央      Moderna\n",
      "7426   strikecbu        簽約，現在日本來的疫苗就不擔心...      Moderna\n",
      "\n",
      "[7427 rows x 3 columns]\n"
     ]
    }
   ],
   "metadata": {}
  },
  {
   "cell_type": "code",
   "execution_count": 6,
   "source": [
    "df.to_csv('data_fix\\疫苗相關1.csv',encoding='utf-8-sig',index=False)"
   ],
   "outputs": [],
   "metadata": {}
  },
  {
   "cell_type": "code",
   "execution_count": 1,
   "source": [
    "import pandas as pd\r\n",
    "\r\n",
    "df1 = pd.read_csv('data\\疫苗相關1.csv',low_memory=False)\r\n",
    "print(df1)"
   ],
   "outputs": [
    {
     "output_type": "stream",
     "name": "stdout",
     "text": [
      "                contents     key word\n",
      "0          你就不要打啊 一堆人等著打  AstraZeneca\n",
      "1     放心，這說明書我早看過好幾遍了，那你  AstraZeneca\n",
      "2          我應該只有高端的命。。。。  AstraZeneca\n",
      "3     有看過英文說明書嗎？你有看過其他幾家  AstraZeneca\n",
      "4               疫苗的說明書嗎？  AstraZeneca\n",
      "...                  ...          ...\n",
      "8003    反正川普黑白講也不是一兩天的事D      Moderna\n",
      "8004         這種東西本來就急不出來      Moderna\n",
      "8005          反正選完前一定沒辦法      Moderna\n",
      "8006            禮拜一生技股雪崩      Moderna\n",
      "8007   疫苗這種東西測試時間拉長才會更有效      Moderna\n",
      "\n",
      "[8008 rows x 2 columns]\n"
     ]
    }
   ],
   "metadata": {}
  },
  {
   "cell_type": "code",
   "execution_count": 2,
   "source": [
    "df1 = df1.iloc[0:,0:2]\r\n",
    "df1\r\n",
    "df1.to_csv('data\\疫苗相關1.csv',encoding='utf-8-sig',index=False)"
   ],
   "outputs": [],
   "metadata": {}
  },
  {
   "cell_type": "code",
   "execution_count": 3,
   "source": [
    "df2 = pd.read_csv('data\\疫苗相關2.csv',low_memory=False)\r\n",
    "print(df2)"
   ],
   "outputs": [
    {
     "output_type": "stream",
     "name": "stdout",
     "text": [
      "                                    contents key word\n",
      "0                                          崩       輝瑞\n",
      "1                                          不       輝瑞\n",
      "2                                          應       輝瑞\n",
      "3                                    求你們停了好嗎       輝瑞\n",
      "4                                          蓋       輝瑞\n",
      "...                                      ...      ...\n",
      "224900                           冰箱是強調運送保存方便      莫德納\n",
      "224901                          輝瑞要-40度不是？XD      莫德納\n",
      "224902    越親中共疫情越重防疫有良方https//bit.ly/2SOGCHW      莫德納\n",
      "224903    新冠病毒疫苗研發困境及出路https//bit.ly/3lyk6j6      莫德納\n",
      "224904  如何避大難埃及十災https//youtu.be/0nVNBWKAlhY      莫德納\n",
      "\n",
      "[224905 rows x 2 columns]\n"
     ]
    }
   ],
   "metadata": {}
  },
  {
   "cell_type": "code",
   "execution_count": 4,
   "source": [
    "df2 = df2.iloc[0:,0:2]\r\n",
    "df2\r\n",
    "df2.to_csv('data\\疫苗相關2.csv',encoding='utf-8-sig',index=False)"
   ],
   "outputs": [],
   "metadata": {}
  },
  {
   "cell_type": "code",
   "execution_count": 5,
   "source": [
    "df3 = pd.read_csv('data\\疫苗相關3.csv',low_memory=False,error_bad_lines=False)"
   ],
   "outputs": [
    {
     "output_type": "stream",
     "name": "stderr",
     "text": [
      "C:\\Users\\jeff0\\AppData\\Local\\Programs\\Python\\Python39\\lib\\site-packages\\IPython\\core\\interactiveshell.py:3441: FutureWarning: The error_bad_lines argument has been deprecated and will be removed in a future version.\n",
      "\n",
      "\n",
      "  exec(code_obj, self.user_global_ns, self.user_ns)\n"
     ]
    }
   ],
   "metadata": {}
  },
  {
   "cell_type": "code",
   "execution_count": 6,
   "source": [
    "df3\r\n",
    "df3.columns = ['contents','key word']\r\n",
    "print(df3)"
   ],
   "outputs": [
    {
     "output_type": "stream",
     "name": "stdout",
     "text": [
      "                            contents key word\n",
      "0                 昨天八卦版不是有一個人po他的太太打       AZ\n",
      "1                           完就引發這種病？       AZ\n",
      "2                                推高端       AZ\n",
      "3                     高端有副作用耶！ 滯支高潮中       AZ\n",
      "4                      通篇沒提到這個症有什麼症狀       AZ\n",
      "...                              ...      ...\n",
      "1335698  https//youtu.be/gD14iiXq7Xw       高端\n",
      "1335699                         這首送你       高端\n",
      "1335700            有錢當然住大城市方便 然後遊山玩水       高端\n",
      "1335701                 高端人會住市郊不會住鄉下       高端\n",
      "1335702             高端兩邊都有房子 愛住哪邊看心情       高端\n",
      "\n",
      "[1335703 rows x 2 columns]\n"
     ]
    }
   ],
   "metadata": {}
  },
  {
   "cell_type": "code",
   "execution_count": 7,
   "source": [
    "df3.to_csv('data\\疫苗相關3.csv',encoding='utf-8-sig',index=False)"
   ],
   "outputs": [],
   "metadata": {}
  },
  {
   "cell_type": "code",
   "execution_count": 8,
   "source": [
    "df4 = pd.read_csv('data\\疫苗相關4.csv',low_memory=False,error_bad_lines=False)"
   ],
   "outputs": [
    {
     "output_type": "stream",
     "name": "stderr",
     "text": [
      "C:\\Users\\jeff0\\AppData\\Local\\Programs\\Python\\Python39\\lib\\site-packages\\IPython\\core\\interactiveshell.py:3441: FutureWarning: The error_bad_lines argument has been deprecated and will be removed in a future version.\n",
      "\n",
      "\n",
      "  exec(code_obj, self.user_global_ns, self.user_ns)\n"
     ]
    }
   ],
   "metadata": {}
  },
  {
   "cell_type": "code",
   "execution_count": 9,
   "source": [
    "df4\r\n",
    "df4.columns = ['contents','key word']\r\n",
    "print(df4)"
   ],
   "outputs": [
    {
     "output_type": "stream",
     "name": "stdout",
     "text": [
      "                                   contents key word\n",
      "0                                     只賺200       疫苗\n",
      "1                               我一棟房子只賺你兩百塊       疫苗\n",
      "2                        他當然有能力從小建案開始練習，他不會       疫苗\n",
      "3                                         做       疫苗\n",
      "4                                     高端：嘻嘻       疫苗\n",
      "...                                     ...      ...\n",
      "1812667                    那時候疫苗有沒有效尚未知，不敢賭       疫苗\n",
      "1812668                       韓國買了一億人份疫苗好嗎？       疫苗\n",
      "1812669  https//www.cna.com.tw/news/aopl/20       疫苗\n",
      "1812670                     2104240186.aspx       疫苗\n",
      "1812671              https//reurl.cc/KAK34e       疫苗\n",
      "\n",
      "[1812672 rows x 2 columns]\n"
     ]
    }
   ],
   "metadata": {}
  },
  {
   "cell_type": "code",
   "execution_count": 10,
   "source": [
    "df4.to_csv('data\\疫苗相關4.csv',encoding='utf-8-sig',index=False)"
   ],
   "outputs": [],
   "metadata": {}
  },
  {
   "cell_type": "code",
   "execution_count": 11,
   "source": [
    "df1 = pd.read_csv('data\\疫苗相關1.csv',low_memory=False)\r\n",
    "df2 = pd.read_csv('data\\疫苗相關2.csv',low_memory=False)\r\n",
    "df3 = pd.read_csv('data\\疫苗相關3.csv',low_memory=False)\r\n",
    "df4 = pd.read_csv('data\\疫苗相關4.csv',low_memory=False)"
   ],
   "outputs": [],
   "metadata": {}
  },
  {
   "cell_type": "code",
   "execution_count": 12,
   "source": [
    "df_all = pd.concat([df1,df2,df3,df4],axis=0,ignore_index=True)\r\n",
    "df_all"
   ],
   "outputs": [
    {
     "output_type": "execute_result",
     "data": {
      "text/html": [
       "<div>\n",
       "<style scoped>\n",
       "    .dataframe tbody tr th:only-of-type {\n",
       "        vertical-align: middle;\n",
       "    }\n",
       "\n",
       "    .dataframe tbody tr th {\n",
       "        vertical-align: top;\n",
       "    }\n",
       "\n",
       "    .dataframe thead th {\n",
       "        text-align: right;\n",
       "    }\n",
       "</style>\n",
       "<table border=\"1\" class=\"dataframe\">\n",
       "  <thead>\n",
       "    <tr style=\"text-align: right;\">\n",
       "      <th></th>\n",
       "      <th>contents</th>\n",
       "      <th>key word</th>\n",
       "    </tr>\n",
       "  </thead>\n",
       "  <tbody>\n",
       "    <tr>\n",
       "      <th>0</th>\n",
       "      <td>你就不要打啊 一堆人等著打</td>\n",
       "      <td>AstraZeneca</td>\n",
       "    </tr>\n",
       "    <tr>\n",
       "      <th>1</th>\n",
       "      <td>放心，這說明書我早看過好幾遍了，那你</td>\n",
       "      <td>AstraZeneca</td>\n",
       "    </tr>\n",
       "    <tr>\n",
       "      <th>2</th>\n",
       "      <td>我應該只有高端的命。。。。</td>\n",
       "      <td>AstraZeneca</td>\n",
       "    </tr>\n",
       "    <tr>\n",
       "      <th>3</th>\n",
       "      <td>有看過英文說明書嗎？你有看過其他幾家</td>\n",
       "      <td>AstraZeneca</td>\n",
       "    </tr>\n",
       "    <tr>\n",
       "      <th>4</th>\n",
       "      <td>疫苗的說明書嗎？</td>\n",
       "      <td>AstraZeneca</td>\n",
       "    </tr>\n",
       "    <tr>\n",
       "      <th>...</th>\n",
       "      <td>...</td>\n",
       "      <td>...</td>\n",
       "    </tr>\n",
       "    <tr>\n",
       "      <th>3381283</th>\n",
       "      <td>那時候疫苗有沒有效尚未知，不敢賭</td>\n",
       "      <td>疫苗</td>\n",
       "    </tr>\n",
       "    <tr>\n",
       "      <th>3381284</th>\n",
       "      <td>韓國買了一億人份疫苗好嗎？</td>\n",
       "      <td>疫苗</td>\n",
       "    </tr>\n",
       "    <tr>\n",
       "      <th>3381285</th>\n",
       "      <td>https//www.cna.com.tw/news/aopl/20</td>\n",
       "      <td>疫苗</td>\n",
       "    </tr>\n",
       "    <tr>\n",
       "      <th>3381286</th>\n",
       "      <td>2104240186.aspx</td>\n",
       "      <td>疫苗</td>\n",
       "    </tr>\n",
       "    <tr>\n",
       "      <th>3381287</th>\n",
       "      <td>https//reurl.cc/KAK34e</td>\n",
       "      <td>疫苗</td>\n",
       "    </tr>\n",
       "  </tbody>\n",
       "</table>\n",
       "<p>3381288 rows × 2 columns</p>\n",
       "</div>"
      ],
      "text/plain": [
       "                                   contents     key word\n",
       "0                             你就不要打啊 一堆人等著打  AstraZeneca\n",
       "1                        放心，這說明書我早看過好幾遍了，那你  AstraZeneca\n",
       "2                             我應該只有高端的命。。。。  AstraZeneca\n",
       "3                        有看過英文說明書嗎？你有看過其他幾家  AstraZeneca\n",
       "4                                  疫苗的說明書嗎？  AstraZeneca\n",
       "...                                     ...          ...\n",
       "3381283                    那時候疫苗有沒有效尚未知，不敢賭           疫苗\n",
       "3381284                       韓國買了一億人份疫苗好嗎？           疫苗\n",
       "3381285  https//www.cna.com.tw/news/aopl/20           疫苗\n",
       "3381286                     2104240186.aspx           疫苗\n",
       "3381287              https//reurl.cc/KAK34e           疫苗\n",
       "\n",
       "[3381288 rows x 2 columns]"
      ]
     },
     "metadata": {},
     "execution_count": 12
    }
   ],
   "metadata": {}
  },
  {
   "cell_type": "code",
   "execution_count": 16,
   "source": [
    "df_all.drop_duplicates(['contents'],ignore_index=True,inplace=True)"
   ],
   "outputs": [],
   "metadata": {}
  },
  {
   "cell_type": "code",
   "execution_count": 17,
   "source": [
    "df_all"
   ],
   "outputs": [
    {
     "output_type": "execute_result",
     "data": {
      "text/html": [
       "<div>\n",
       "<style scoped>\n",
       "    .dataframe tbody tr th:only-of-type {\n",
       "        vertical-align: middle;\n",
       "    }\n",
       "\n",
       "    .dataframe tbody tr th {\n",
       "        vertical-align: top;\n",
       "    }\n",
       "\n",
       "    .dataframe thead th {\n",
       "        text-align: right;\n",
       "    }\n",
       "</style>\n",
       "<table border=\"1\" class=\"dataframe\">\n",
       "  <thead>\n",
       "    <tr style=\"text-align: right;\">\n",
       "      <th></th>\n",
       "      <th>contents</th>\n",
       "      <th>key word</th>\n",
       "    </tr>\n",
       "  </thead>\n",
       "  <tbody>\n",
       "    <tr>\n",
       "      <th>0</th>\n",
       "      <td>你就不要打啊 一堆人等著打</td>\n",
       "      <td>AstraZeneca</td>\n",
       "    </tr>\n",
       "    <tr>\n",
       "      <th>1</th>\n",
       "      <td>放心，這說明書我早看過好幾遍了，那你</td>\n",
       "      <td>AstraZeneca</td>\n",
       "    </tr>\n",
       "    <tr>\n",
       "      <th>2</th>\n",
       "      <td>我應該只有高端的命。。。。</td>\n",
       "      <td>AstraZeneca</td>\n",
       "    </tr>\n",
       "    <tr>\n",
       "      <th>3</th>\n",
       "      <td>有看過英文說明書嗎？你有看過其他幾家</td>\n",
       "      <td>AstraZeneca</td>\n",
       "    </tr>\n",
       "    <tr>\n",
       "      <th>4</th>\n",
       "      <td>疫苗的說明書嗎？</td>\n",
       "      <td>AstraZeneca</td>\n",
       "    </tr>\n",
       "    <tr>\n",
       "      <th>...</th>\n",
       "      <td>...</td>\n",
       "      <td>...</td>\n",
       "    </tr>\n",
       "    <tr>\n",
       "      <th>2419334</th>\n",
       "      <td>那時候疫苗有沒有效尚未知，不敢賭</td>\n",
       "      <td>疫苗</td>\n",
       "    </tr>\n",
       "    <tr>\n",
       "      <th>2419335</th>\n",
       "      <td>韓國買了一億人份疫苗好嗎？</td>\n",
       "      <td>疫苗</td>\n",
       "    </tr>\n",
       "    <tr>\n",
       "      <th>2419336</th>\n",
       "      <td>https//www.cna.com.tw/news/aopl/20</td>\n",
       "      <td>疫苗</td>\n",
       "    </tr>\n",
       "    <tr>\n",
       "      <th>2419337</th>\n",
       "      <td>2104240186.aspx</td>\n",
       "      <td>疫苗</td>\n",
       "    </tr>\n",
       "    <tr>\n",
       "      <th>2419338</th>\n",
       "      <td>https//reurl.cc/KAK34e</td>\n",
       "      <td>疫苗</td>\n",
       "    </tr>\n",
       "  </tbody>\n",
       "</table>\n",
       "<p>2419339 rows × 2 columns</p>\n",
       "</div>"
      ],
      "text/plain": [
       "                                   contents     key word\n",
       "0                             你就不要打啊 一堆人等著打  AstraZeneca\n",
       "1                        放心，這說明書我早看過好幾遍了，那你  AstraZeneca\n",
       "2                             我應該只有高端的命。。。。  AstraZeneca\n",
       "3                        有看過英文說明書嗎？你有看過其他幾家  AstraZeneca\n",
       "4                                  疫苗的說明書嗎？  AstraZeneca\n",
       "...                                     ...          ...\n",
       "2419334                    那時候疫苗有沒有效尚未知，不敢賭           疫苗\n",
       "2419335                       韓國買了一億人份疫苗好嗎？           疫苗\n",
       "2419336  https//www.cna.com.tw/news/aopl/20           疫苗\n",
       "2419337                     2104240186.aspx           疫苗\n",
       "2419338              https//reurl.cc/KAK34e           疫苗\n",
       "\n",
       "[2419339 rows x 2 columns]"
      ]
     },
     "metadata": {},
     "execution_count": 17
    }
   ],
   "metadata": {}
  },
  {
   "cell_type": "code",
   "execution_count": 18,
   "source": [
    "df_all.to_csv('data\\疫苗相關all.csv',encoding='utf-8-sig',index=False)\r\n"
   ],
   "outputs": [],
   "metadata": {}
  },
  {
   "cell_type": "code",
   "execution_count": null,
   "source": [],
   "outputs": [],
   "metadata": {}
  }
 ],
 "metadata": {
  "orig_nbformat": 4,
  "language_info": {
   "name": "python",
   "version": "3.9.7",
   "mimetype": "text/x-python",
   "codemirror_mode": {
    "name": "ipython",
    "version": 3
   },
   "pygments_lexer": "ipython3",
   "nbconvert_exporter": "python",
   "file_extension": ".py"
  },
  "kernelspec": {
   "name": "python3",
   "display_name": "Python 3.9.7 64-bit"
  },
  "interpreter": {
   "hash": "6b24c107649004459c65f34c896e2d1b40ea1d32dc5bbe16c91bbc2f39c8c8c5"
  }
 },
 "nbformat": 4,
 "nbformat_minor": 2
}