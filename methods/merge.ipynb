{
 "cells": [
  {
   "cell_type": "markdown",
   "source": [
    "# data_fix"
   ],
   "metadata": {}
  },
  {
   "cell_type": "code",
   "execution_count": 6,
   "source": [
    "import pandas as pd\r\n",
    "df = pd.read_csv('..\\data\\康希諾.csv',low_memory=False)\r\n",
    "print(df)"
   ],
   "outputs": [
    {
     "output_type": "stream",
     "name": "stdout",
     "text": [
      "     /bbs/Gossiping/M.1623680413.A.455.html    deathbead  \\\n",
      "0    /bbs/Gossiping/M.1623680413.A.455.html   trevor5566   \n",
      "1    /bbs/Gossiping/M.1623680413.A.455.html   kerorobear   \n",
      "2    /bbs/Gossiping/M.1623680413.A.455.html    l11111111   \n",
      "3    /bbs/Gossiping/M.1623680413.A.455.html     james732   \n",
      "4    /bbs/Gossiping/M.1623680413.A.455.html  WolfTeacher   \n",
      "..                                      ...          ...   \n",
      "159  /bbs/Gossiping/M.1622520093.A.A6B.html     SRadiant   \n",
      "160  /bbs/Gossiping/M.1622520093.A.A6B.html       jeff52   \n",
      "161  /bbs/Gossiping/M.1622520093.A.A6B.html       Binzer   \n",
      "162  /bbs/Gossiping/M.1622520093.A.A6B.html       Binzer   \n",
      "163  /bbs/Gossiping/M.1622520093.A.A6B.html         TBEX   \n",
      "\n",
      "                          炒股？  康希諾     42.77.73.217 06/14 22:20   \n",
      "0                        樓下先吸  康希諾  223.141.224.208 06/14 22:20   \n",
      "1                   不愧是電子菸發明國  康希諾    1.171.244.170 06/14 22:20   \n",
      "2           想到去年綠共蟑螂還在酸「相信政府」  康希諾    36.234.59.143 06/14 22:21   \n",
      "3            這才叫高科技好ㄇ，反觀那個二期的  康希諾  223.140.139.223 06/14 22:21   \n",
      "4                   蟑螂只會推這你敢吸  康希諾    180.176.0.145 06/14 22:21   \n",
      "..                        ...  ...                           ...  \n",
      "159               65.7%才是正式數據  康希諾   223.137.152.90 06/01 12:14   \n",
      "160      casino不是賭場的意思買？賭場疫苗？  康希諾    42.77.218.178 06/01 12:18   \n",
      "161   cansino康希諾，樓上別自以為幽默秀下限搞  康希諾   114.41.220.117 06/01 12:23   \n",
      "162                         笑  康希諾   114.41.220.117 06/01 12:23   \n",
      "163                當然要支持江西南國產  康希諾    36.228.66.163 06/01 12:29   \n",
      "\n",
      "[164 rows x 5 columns]\n"
     ]
    }
   ],
   "metadata": {}
  },
  {
   "cell_type": "code",
   "execution_count": null,
   "source": [
    "df\r\n",
    "df.columns = ['id','contents','key word']\r\n",
    "print(df)"
   ],
   "outputs": [],
   "metadata": {}
  },
  {
   "cell_type": "code",
   "execution_count": null,
   "source": [
    "df.to_csv('data_fix\\疫苗相關1.csv',encoding='utf-8-sig',index=False)"
   ],
   "outputs": [],
   "metadata": {}
  },
  {
   "cell_type": "code",
   "execution_count": null,
   "source": [
    "import pandas as pd\r\n",
    "df = pd.read_csv('..\\data\\疫苗相關5.csv',low_memory=False,error_bad_lines=False)\r\n"
   ],
   "outputs": [],
   "metadata": {}
  },
  {
   "cell_type": "code",
   "execution_count": null,
   "source": [
    "df"
   ],
   "outputs": [],
   "metadata": {}
  },
  {
   "cell_type": "code",
   "execution_count": null,
   "source": [
    "df.columns = ['id','contents','key word','date']\r\n",
    "print(df)"
   ],
   "outputs": [],
   "metadata": {}
  },
  {
   "cell_type": "code",
   "execution_count": null,
   "source": [
    "df.to_csv('..\\data_fix\\疫苗相關5.csv',encoding='utf-8-sig',index=False)"
   ],
   "outputs": [],
   "metadata": {}
  },
  {
   "cell_type": "code",
   "execution_count": null,
   "source": [
    "import pandas as pd\r\n",
    "df = pd.read_csv('data_fix\\疫苗相關2.csv',low_memory=False,error_bad_lines=False)\r\n",
    "print(df)"
   ],
   "outputs": [],
   "metadata": {}
  },
  {
   "cell_type": "code",
   "execution_count": null,
   "source": [
    "df\r\n",
    "df.columns = ['id','contents','key word']\r\n",
    "print(df)"
   ],
   "outputs": [],
   "metadata": {}
  },
  {
   "cell_type": "code",
   "execution_count": null,
   "source": [
    "df.to_csv('data_fix\\疫苗相關2.csv',encoding='utf-8-sig',index=False)"
   ],
   "outputs": [],
   "metadata": {}
  },
  {
   "cell_type": "code",
   "execution_count": null,
   "source": [
    "import pandas as pd\r\n",
    "df = pd.read_csv('data\\疫苗相關3.csv',low_memory=False,error_bad_lines=False)\r\n",
    "df.columns = ['id','contents','key word']\r\n",
    "print(df)"
   ],
   "outputs": [],
   "metadata": {}
  },
  {
   "cell_type": "code",
   "execution_count": null,
   "source": [
    "df.to_csv('data_fix\\疫苗相關3_fix.csv',encoding='utf-8-sig',index=False)"
   ],
   "outputs": [],
   "metadata": {}
  },
  {
   "cell_type": "code",
   "execution_count": null,
   "source": [
    "df = pd.read_csv('data_fix\\疫苗相關4_fix.csv',low_memory=False,error_bad_lines=False)\r\n",
    "#df.columns = ['id','contents','key word']\r\n",
    "#df.drop(\"Unnamed: 0\"], axis=1)\r\n",
    "print(df)"
   ],
   "outputs": [],
   "metadata": {}
  },
  {
   "cell_type": "code",
   "execution_count": null,
   "source": [
    "df.to_csv('data_fix\\疫苗相關4.csv',encoding='utf-8-sig',index=False)"
   ],
   "outputs": [],
   "metadata": {}
  },
  {
   "cell_type": "code",
   "execution_count": null,
   "source": [
    "import pandas as pd\r\n",
    "df1 = pd.read_csv('data_fix\\疫苗相關1_fix.csv',low_memory=False)\r\n",
    "df2 = pd.read_csv('data_fix\\疫苗相關2_fix.csv',low_memory=False)\r\n",
    "df3 = pd.read_csv('data_fix\\疫苗相關3_fix.csv',low_memory=False)\r\n",
    "df4 = pd.read_csv('data_fix\\疫苗相關4_fix.csv',low_memory=False)"
   ],
   "outputs": [],
   "metadata": {}
  },
  {
   "cell_type": "code",
   "execution_count": null,
   "source": [
    "df_all = pd.concat([df1,df2,df3,df4],axis=0,ignore_index=True)\r\n",
    "df_all"
   ],
   "outputs": [],
   "metadata": {}
  },
  {
   "cell_type": "code",
   "execution_count": null,
   "source": [
    "df_all.drop_duplicates(['contents'],ignore_index=True,inplace=True)\r\n",
    "df_all"
   ],
   "outputs": [],
   "metadata": {}
  },
  {
   "cell_type": "code",
   "execution_count": null,
   "source": [
    "df_all.to_csv('data\\疫苗相關all.csv',encoding='utf-8-sig',index=False)"
   ],
   "outputs": [],
   "metadata": {}
  },
  {
   "cell_type": "markdown",
   "source": [
    "# time select data"
   ],
   "metadata": {}
  },
  {
   "cell_type": "code",
   "execution_count": 1,
   "source": [
    "import pandas as pd\r\n",
    "from glob import glob\r\n",
    " \r\n",
    "files = glob('..\\\\timeSelect\\output\\*.csv')\r\n",
    "print(files)\r\n",
    "\r\n"
   ],
   "outputs": [
    {
     "output_type": "stream",
     "name": "stdout",
     "text": [
      "['..\\\\timeSelect\\\\output\\\\AstraZeneca.csv', '..\\\\timeSelect\\\\output\\\\AZ.csv', '..\\\\timeSelect\\\\output\\\\BioNTech.csv', '..\\\\timeSelect\\\\output\\\\bnt.csv', '..\\\\timeSelect\\\\output\\\\Moderna.csv', '..\\\\timeSelect\\\\output\\\\國藥.csv', '..\\\\timeSelect\\\\output\\\\嬌生.csv', '..\\\\timeSelect\\\\output\\\\康希諾.csv', '..\\\\timeSelect\\\\output\\\\疫苗.csv', '..\\\\timeSelect\\\\output\\\\科興.csv', '..\\\\timeSelect\\\\output\\\\聯亞.csv', '..\\\\timeSelect\\\\output\\\\莫德納.csv', '..\\\\timeSelect\\\\output\\\\輝瑞.csv', '..\\\\timeSelect\\\\output\\\\阿斯特捷利康.csv', '..\\\\timeSelect\\\\output\\\\高端.csv']\n"
     ]
    }
   ],
   "metadata": {}
  },
  {
   "cell_type": "code",
   "execution_count": 2,
   "source": [
    "df = pd.concat(\r\n",
    "    (pd.read_csv(file, low_memory=False) for file in files), ignore_index=True)\r\n",
    " \r\n",
    "print(df)"
   ],
   "outputs": [
    {
     "output_type": "stream",
     "name": "stdout",
     "text": [
      "                                           href            id  \\\n",
      "0        /bbs/Gossiping/M.1624832365.A.785.html  LAKobeBryant   \n",
      "1        /bbs/Gossiping/M.1624832365.A.785.html      SRadiant   \n",
      "2        /bbs/Gossiping/M.1624832365.A.785.html     greensaru   \n",
      "3        /bbs/Gossiping/M.1624832365.A.785.html      SRadiant   \n",
      "4        /bbs/Gossiping/M.1624832365.A.785.html    sam4105112   \n",
      "...                                         ...           ...   \n",
      "3269125  /bbs/Gossiping/M.1614729507.A.281.html    krousxchen   \n",
      "3269126  /bbs/Gossiping/M.1614729507.A.281.html      Kunimoto   \n",
      "3269127  /bbs/Gossiping/M.1614729507.A.281.html     puj506afd   \n",
      "3269128  /bbs/Gossiping/M.1614729507.A.281.html         icome   \n",
      "3269129  /bbs/Gossiping/M.1614729507.A.281.html         coiwa   \n",
      "\n",
      "                            contents          key  \\\n",
      "0                      你就不要打啊 一堆人等著打  AstraZeneca   \n",
      "1                 放心，這說明書我早看過好幾遍了，那你  AstraZeneca   \n",
      "2                      我應該只有高端的命。。。。  AstraZeneca   \n",
      "3         有看過英文說明書嗎？你有看過其他幾家疫苗的說明書嗎？  AstraZeneca   \n",
      "4                  4%最愛啊 96%打國產根本沒問題  AstraZeneca   \n",
      "...                              ...          ...   \n",
      "3269125                   給台灣人綠卡就可以了           高端   \n",
      "3269126                          東歐啊           高端   \n",
      "3269127                   你當intel塑膠喔           高端   \n",
      "3269128                    很簡單 請亞裔員工           高端   \n",
      "3269129                  可以吧 只是會很貴而已           高端   \n",
      "\n",
      "                                 date  contents_order  \n",
      "0          111.240.80.56 06/28 06:21                1  \n",
      "1        223.140.190.250 06/28 06:21                2  \n",
      "2          111.71.54.153 06/28 06:21                3  \n",
      "3        223.140.190.250 06/28 06:21                4  \n",
      "4         122.116.195.94 06/28 06:21                5  \n",
      "...                               ...             ...  \n",
      "3269125                  03/03 08:54               24  \n",
      "3269126                  03/03 10:07               25  \n",
      "3269127                  03/03 12:33               26  \n",
      "3269128                  03/03 12:51               27  \n",
      "3269129                  04/10 19:15               28  \n",
      "\n",
      "[3269130 rows x 6 columns]\n"
     ]
    }
   ],
   "metadata": {}
  },
  {
   "cell_type": "code",
   "execution_count": 3,
   "source": [
    "df = df.drop_duplicates(['contents'])\r\n",
    "df"
   ],
   "outputs": [
    {
     "output_type": "execute_result",
     "data": {
      "text/html": [
       "<div>\n",
       "<style scoped>\n",
       "    .dataframe tbody tr th:only-of-type {\n",
       "        vertical-align: middle;\n",
       "    }\n",
       "\n",
       "    .dataframe tbody tr th {\n",
       "        vertical-align: top;\n",
       "    }\n",
       "\n",
       "    .dataframe thead th {\n",
       "        text-align: right;\n",
       "    }\n",
       "</style>\n",
       "<table border=\"1\" class=\"dataframe\">\n",
       "  <thead>\n",
       "    <tr style=\"text-align: right;\">\n",
       "      <th></th>\n",
       "      <th>href</th>\n",
       "      <th>id</th>\n",
       "      <th>contents</th>\n",
       "      <th>key</th>\n",
       "      <th>date</th>\n",
       "      <th>contents_order</th>\n",
       "    </tr>\n",
       "  </thead>\n",
       "  <tbody>\n",
       "    <tr>\n",
       "      <th>0</th>\n",
       "      <td>/bbs/Gossiping/M.1624832365.A.785.html</td>\n",
       "      <td>LAKobeBryant</td>\n",
       "      <td>你就不要打啊 一堆人等著打</td>\n",
       "      <td>AstraZeneca</td>\n",
       "      <td>111.240.80.56 06/28 06:21</td>\n",
       "      <td>1</td>\n",
       "    </tr>\n",
       "    <tr>\n",
       "      <th>1</th>\n",
       "      <td>/bbs/Gossiping/M.1624832365.A.785.html</td>\n",
       "      <td>SRadiant</td>\n",
       "      <td>放心，這說明書我早看過好幾遍了，那你</td>\n",
       "      <td>AstraZeneca</td>\n",
       "      <td>223.140.190.250 06/28 06:21</td>\n",
       "      <td>2</td>\n",
       "    </tr>\n",
       "    <tr>\n",
       "      <th>2</th>\n",
       "      <td>/bbs/Gossiping/M.1624832365.A.785.html</td>\n",
       "      <td>greensaru</td>\n",
       "      <td>我應該只有高端的命。。。。</td>\n",
       "      <td>AstraZeneca</td>\n",
       "      <td>111.71.54.153 06/28 06:21</td>\n",
       "      <td>3</td>\n",
       "    </tr>\n",
       "    <tr>\n",
       "      <th>3</th>\n",
       "      <td>/bbs/Gossiping/M.1624832365.A.785.html</td>\n",
       "      <td>SRadiant</td>\n",
       "      <td>有看過英文說明書嗎？你有看過其他幾家疫苗的說明書嗎？</td>\n",
       "      <td>AstraZeneca</td>\n",
       "      <td>223.140.190.250 06/28 06:21</td>\n",
       "      <td>4</td>\n",
       "    </tr>\n",
       "    <tr>\n",
       "      <th>4</th>\n",
       "      <td>/bbs/Gossiping/M.1624832365.A.785.html</td>\n",
       "      <td>sam4105112</td>\n",
       "      <td>4%最愛啊 96%打國產根本沒問題</td>\n",
       "      <td>AstraZeneca</td>\n",
       "      <td>122.116.195.94 06/28 06:21</td>\n",
       "      <td>5</td>\n",
       "    </tr>\n",
       "    <tr>\n",
       "      <th>...</th>\n",
       "      <td>...</td>\n",
       "      <td>...</td>\n",
       "      <td>...</td>\n",
       "      <td>...</td>\n",
       "      <td>...</td>\n",
       "      <td>...</td>\n",
       "    </tr>\n",
       "    <tr>\n",
       "      <th>3269125</th>\n",
       "      <td>/bbs/Gossiping/M.1614729507.A.281.html</td>\n",
       "      <td>krousxchen</td>\n",
       "      <td>給台灣人綠卡就可以了</td>\n",
       "      <td>高端</td>\n",
       "      <td>03/03 08:54</td>\n",
       "      <td>24</td>\n",
       "    </tr>\n",
       "    <tr>\n",
       "      <th>3269126</th>\n",
       "      <td>/bbs/Gossiping/M.1614729507.A.281.html</td>\n",
       "      <td>Kunimoto</td>\n",
       "      <td>東歐啊</td>\n",
       "      <td>高端</td>\n",
       "      <td>03/03 10:07</td>\n",
       "      <td>25</td>\n",
       "    </tr>\n",
       "    <tr>\n",
       "      <th>3269127</th>\n",
       "      <td>/bbs/Gossiping/M.1614729507.A.281.html</td>\n",
       "      <td>puj506afd</td>\n",
       "      <td>你當intel塑膠喔</td>\n",
       "      <td>高端</td>\n",
       "      <td>03/03 12:33</td>\n",
       "      <td>26</td>\n",
       "    </tr>\n",
       "    <tr>\n",
       "      <th>3269128</th>\n",
       "      <td>/bbs/Gossiping/M.1614729507.A.281.html</td>\n",
       "      <td>icome</td>\n",
       "      <td>很簡單 請亞裔員工</td>\n",
       "      <td>高端</td>\n",
       "      <td>03/03 12:51</td>\n",
       "      <td>27</td>\n",
       "    </tr>\n",
       "    <tr>\n",
       "      <th>3269129</th>\n",
       "      <td>/bbs/Gossiping/M.1614729507.A.281.html</td>\n",
       "      <td>coiwa</td>\n",
       "      <td>可以吧 只是會很貴而已</td>\n",
       "      <td>高端</td>\n",
       "      <td>04/10 19:15</td>\n",
       "      <td>28</td>\n",
       "    </tr>\n",
       "  </tbody>\n",
       "</table>\n",
       "<p>2283664 rows × 6 columns</p>\n",
       "</div>"
      ],
      "text/plain": [
       "                                           href            id  \\\n",
       "0        /bbs/Gossiping/M.1624832365.A.785.html  LAKobeBryant   \n",
       "1        /bbs/Gossiping/M.1624832365.A.785.html      SRadiant   \n",
       "2        /bbs/Gossiping/M.1624832365.A.785.html     greensaru   \n",
       "3        /bbs/Gossiping/M.1624832365.A.785.html      SRadiant   \n",
       "4        /bbs/Gossiping/M.1624832365.A.785.html    sam4105112   \n",
       "...                                         ...           ...   \n",
       "3269125  /bbs/Gossiping/M.1614729507.A.281.html    krousxchen   \n",
       "3269126  /bbs/Gossiping/M.1614729507.A.281.html      Kunimoto   \n",
       "3269127  /bbs/Gossiping/M.1614729507.A.281.html     puj506afd   \n",
       "3269128  /bbs/Gossiping/M.1614729507.A.281.html         icome   \n",
       "3269129  /bbs/Gossiping/M.1614729507.A.281.html         coiwa   \n",
       "\n",
       "                            contents          key  \\\n",
       "0                      你就不要打啊 一堆人等著打  AstraZeneca   \n",
       "1                 放心，這說明書我早看過好幾遍了，那你  AstraZeneca   \n",
       "2                      我應該只有高端的命。。。。  AstraZeneca   \n",
       "3         有看過英文說明書嗎？你有看過其他幾家疫苗的說明書嗎？  AstraZeneca   \n",
       "4                  4%最愛啊 96%打國產根本沒問題  AstraZeneca   \n",
       "...                              ...          ...   \n",
       "3269125                   給台灣人綠卡就可以了           高端   \n",
       "3269126                          東歐啊           高端   \n",
       "3269127                   你當intel塑膠喔           高端   \n",
       "3269128                    很簡單 請亞裔員工           高端   \n",
       "3269129                  可以吧 只是會很貴而已           高端   \n",
       "\n",
       "                                 date  contents_order  \n",
       "0          111.240.80.56 06/28 06:21                1  \n",
       "1        223.140.190.250 06/28 06:21                2  \n",
       "2          111.71.54.153 06/28 06:21                3  \n",
       "3        223.140.190.250 06/28 06:21                4  \n",
       "4         122.116.195.94 06/28 06:21                5  \n",
       "...                               ...             ...  \n",
       "3269125                  03/03 08:54               24  \n",
       "3269126                  03/03 10:07               25  \n",
       "3269127                  03/03 12:33               26  \n",
       "3269128                  03/03 12:51               27  \n",
       "3269129                  04/10 19:15               28  \n",
       "\n",
       "[2283664 rows x 6 columns]"
      ]
     },
     "metadata": {},
     "execution_count": 3
    }
   ],
   "metadata": {}
  },
  {
   "cell_type": "code",
   "execution_count": 4,
   "source": [
    "df.to_csv('..\\data\\疫苗相關all.csv',encoding='utf-8-sig',index=False)"
   ],
   "outputs": [],
   "metadata": {}
  },
  {
   "cell_type": "markdown",
   "source": [
    "# data"
   ],
   "metadata": {}
  },
  {
   "cell_type": "code",
   "execution_count": 3,
   "source": [
    "import pandas as pd\r\n",
    "\r\n",
    "df1 = pd.read_csv('..\\data\\疫苗相關all.csv',low_memory=False)\r\n",
    "df2 = pd.read_csv('..\\data_fix\\疫苗相關5_fix.csv',low_memory=False)\r\n",
    "df = pd.concat([df1,df2], ignore_index=True)\r\n",
    "df = df.drop(labels=['date'],axis=1)\r\n",
    "df = df.drop_duplicates(['contents'])\r\n",
    "df\r\n",
    "\r\n"
   ],
   "outputs": [
    {
     "output_type": "execute_result",
     "data": {
      "text/html": [
       "<div>\n",
       "<style scoped>\n",
       "    .dataframe tbody tr th:only-of-type {\n",
       "        vertical-align: middle;\n",
       "    }\n",
       "\n",
       "    .dataframe tbody tr th {\n",
       "        vertical-align: top;\n",
       "    }\n",
       "\n",
       "    .dataframe thead th {\n",
       "        text-align: right;\n",
       "    }\n",
       "</style>\n",
       "<table border=\"1\" class=\"dataframe\">\n",
       "  <thead>\n",
       "    <tr style=\"text-align: right;\">\n",
       "      <th></th>\n",
       "      <th>id</th>\n",
       "      <th>contents</th>\n",
       "      <th>key word</th>\n",
       "    </tr>\n",
       "  </thead>\n",
       "  <tbody>\n",
       "    <tr>\n",
       "      <th>0</th>\n",
       "      <td>SRadiant</td>\n",
       "      <td>放心，這說明書我早看過好幾遍了，那你</td>\n",
       "      <td>AstraZeneca</td>\n",
       "    </tr>\n",
       "    <tr>\n",
       "      <th>1</th>\n",
       "      <td>greensaru</td>\n",
       "      <td>我應該只有高端的命。。。。</td>\n",
       "      <td>AstraZeneca</td>\n",
       "    </tr>\n",
       "    <tr>\n",
       "      <th>2</th>\n",
       "      <td>SRadiant</td>\n",
       "      <td>有看過英文說明書嗎？你有看過其他幾家疫苗的說明書嗎？</td>\n",
       "      <td>AstraZeneca</td>\n",
       "    </tr>\n",
       "    <tr>\n",
       "      <th>3</th>\n",
       "      <td>sam4105112</td>\n",
       "      <td>4%最愛啊 96%打國產根本沒問題</td>\n",
       "      <td>AstraZeneca</td>\n",
       "    </tr>\n",
       "    <tr>\n",
       "      <th>4</th>\n",
       "      <td>warwolf</td>\n",
       "      <td>因為你只看新聞才不知道這些</td>\n",
       "      <td>AstraZeneca</td>\n",
       "    </tr>\n",
       "    <tr>\n",
       "      <th>...</th>\n",
       "      <td>...</td>\n",
       "      <td>...</td>\n",
       "      <td>...</td>\n",
       "    </tr>\n",
       "    <tr>\n",
       "      <th>2293129</th>\n",
       "      <td>sinoca</td>\n",
       "      <td>你是國中生還是國中生家長? 趕快考趕快結束懂嗎?</td>\n",
       "      <td>聯亞</td>\n",
       "    </tr>\n",
       "    <tr>\n",
       "      <th>2293130</th>\n",
       "      <td>Wl02509806</td>\n",
       "      <td>還在闈場的人：</td>\n",
       "      <td>聯亞</td>\n",
       "    </tr>\n",
       "    <tr>\n",
       "      <th>2293131</th>\n",
       "      <td>show282</td>\n",
       "      <td>聯亞昨天停電都進度delay了</td>\n",
       "      <td>聯亞</td>\n",
       "    </tr>\n",
       "    <tr>\n",
       "      <th>2293132</th>\n",
       "      <td>biggest1983</td>\n",
       "      <td>這個不食人間煙火的，比記者還慘</td>\n",
       "      <td>聯亞</td>\n",
       "    </tr>\n",
       "    <tr>\n",
       "      <th>2293176</th>\n",
       "      <td>i376ers</td>\n",
       "      <td>要接手了？</td>\n",
       "      <td>聯亞</td>\n",
       "    </tr>\n",
       "  </tbody>\n",
       "</table>\n",
       "<p>2233916 rows × 3 columns</p>\n",
       "</div>"
      ],
      "text/plain": [
       "                  id                     contents     key word\n",
       "0           SRadiant           放心，這說明書我早看過好幾遍了，那你  AstraZeneca\n",
       "1          greensaru                我應該只有高端的命。。。。  AstraZeneca\n",
       "2           SRadiant   有看過英文說明書嗎？你有看過其他幾家疫苗的說明書嗎？  AstraZeneca\n",
       "3         sam4105112            4%最愛啊 96%打國產根本沒問題  AstraZeneca\n",
       "4            warwolf                因為你只看新聞才不知道這些  AstraZeneca\n",
       "...              ...                          ...          ...\n",
       "2293129       sinoca     你是國中生還是國中生家長? 趕快考趕快結束懂嗎?           聯亞\n",
       "2293130   Wl02509806                      還在闈場的人：           聯亞\n",
       "2293131      show282              聯亞昨天停電都進度delay了           聯亞\n",
       "2293132  biggest1983              這個不食人間煙火的，比記者還慘           聯亞\n",
       "2293176      i376ers                        要接手了？           聯亞\n",
       "\n",
       "[2233916 rows x 3 columns]"
      ]
     },
     "metadata": {},
     "execution_count": 3
    }
   ],
   "metadata": {}
  },
  {
   "cell_type": "code",
   "execution_count": 5,
   "source": [
    "df.to_csv('..\\data\\疫苗相關all.csv',encoding='utf-8-sig',index=False)\r\n"
   ],
   "outputs": [],
   "metadata": {}
  },
  {
   "cell_type": "code",
   "execution_count": null,
   "source": [],
   "outputs": [],
   "metadata": {}
  }
 ],
 "metadata": {
  "orig_nbformat": 4,
  "language_info": {
   "name": "python",
   "version": "3.9.7",
   "mimetype": "text/x-python",
   "codemirror_mode": {
    "name": "ipython",
    "version": 3
   },
   "pygments_lexer": "ipython3",
   "nbconvert_exporter": "python",
   "file_extension": ".py"
  },
  "kernelspec": {
   "name": "python3",
   "display_name": "Python 3.9.7 64-bit"
  },
  "interpreter": {
   "hash": "6b24c107649004459c65f34c896e2d1b40ea1d32dc5bbe16c91bbc2f39c8c8c5"
  }
 },
 "nbformat": 4,
 "nbformat_minor": 2
}