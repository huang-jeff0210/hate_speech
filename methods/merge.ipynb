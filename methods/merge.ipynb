{
 "cells": [
  {
   "cell_type": "markdown",
   "source": [
    "# data_fix"
   ],
   "metadata": {}
  },
  {
   "cell_type": "code",
   "execution_count": null,
   "source": [
    "import pandas as pd\r\n",
    "df = pd.read_csv('data_fix\\疫苗相關1.csv',low_memory=False,error_bad_lines=False)\r\n",
    "print(df)"
   ],
   "outputs": [],
   "metadata": {}
  },
  {
   "cell_type": "code",
   "execution_count": null,
   "source": [
    "df\r\n",
    "df.columns = ['id','contents','key word']\r\n",
    "print(df)"
   ],
   "outputs": [],
   "metadata": {}
  },
  {
   "cell_type": "code",
   "execution_count": null,
   "source": [
    "df.to_csv('data_fix\\疫苗相關1.csv',encoding='utf-8-sig',index=False)"
   ],
   "outputs": [],
   "metadata": {}
  },
  {
   "cell_type": "code",
   "execution_count": null,
   "source": [
    "import pandas as pd\r\n",
    "df = pd.read_csv('..\\data\\疫苗相關5.csv',low_memory=False,error_bad_lines=False)\r\n"
   ],
   "outputs": [],
   "metadata": {}
  },
  {
   "cell_type": "code",
   "execution_count": null,
   "source": [
    "df"
   ],
   "outputs": [],
   "metadata": {}
  },
  {
   "cell_type": "code",
   "execution_count": null,
   "source": [
    "df.columns = ['id','contents','key word','date']\r\n",
    "print(df)"
   ],
   "outputs": [],
   "metadata": {}
  },
  {
   "cell_type": "code",
   "execution_count": null,
   "source": [
    "df.to_csv('..\\data_fix\\疫苗相關5.csv',encoding='utf-8-sig',index=False)"
   ],
   "outputs": [],
   "metadata": {}
  },
  {
   "cell_type": "code",
   "execution_count": null,
   "source": [
    "import pandas as pd\r\n",
    "df = pd.read_csv('data_fix\\疫苗相關2.csv',low_memory=False,error_bad_lines=False)\r\n",
    "print(df)"
   ],
   "outputs": [],
   "metadata": {}
  },
  {
   "cell_type": "code",
   "execution_count": null,
   "source": [
    "df\r\n",
    "df.columns = ['id','contents','key word']\r\n",
    "print(df)"
   ],
   "outputs": [],
   "metadata": {}
  },
  {
   "cell_type": "code",
   "execution_count": null,
   "source": [
    "df.to_csv('data_fix\\疫苗相關2.csv',encoding='utf-8-sig',index=False)"
   ],
   "outputs": [],
   "metadata": {}
  },
  {
   "cell_type": "code",
   "execution_count": null,
   "source": [
    "import pandas as pd\r\n",
    "df = pd.read_csv('data\\疫苗相關3.csv',low_memory=False,error_bad_lines=False)\r\n",
    "df.columns = ['id','contents','key word']\r\n",
    "print(df)"
   ],
   "outputs": [],
   "metadata": {}
  },
  {
   "cell_type": "code",
   "execution_count": null,
   "source": [
    "df.to_csv('data_fix\\疫苗相關3_fix.csv',encoding='utf-8-sig',index=False)"
   ],
   "outputs": [],
   "metadata": {}
  },
  {
   "cell_type": "code",
   "execution_count": null,
   "source": [
    "df = pd.read_csv('data_fix\\疫苗相關4_fix.csv',low_memory=False,error_bad_lines=False)\r\n",
    "#df.columns = ['id','contents','key word']\r\n",
    "#df.drop(\"Unnamed: 0\"], axis=1)\r\n",
    "print(df)"
   ],
   "outputs": [],
   "metadata": {}
  },
  {
   "cell_type": "code",
   "execution_count": null,
   "source": [
    "df.to_csv('data_fix\\疫苗相關4.csv',encoding='utf-8-sig',index=False)"
   ],
   "outputs": [],
   "metadata": {}
  },
  {
   "cell_type": "code",
   "execution_count": null,
   "source": [
    "import pandas as pd\r\n",
    "df1 = pd.read_csv('data_fix\\疫苗相關1_fix.csv',low_memory=False)\r\n",
    "df2 = pd.read_csv('data_fix\\疫苗相關2_fix.csv',low_memory=False)\r\n",
    "df3 = pd.read_csv('data_fix\\疫苗相關3_fix.csv',low_memory=False)\r\n",
    "df4 = pd.read_csv('data_fix\\疫苗相關4_fix.csv',low_memory=False)"
   ],
   "outputs": [],
   "metadata": {}
  },
  {
   "cell_type": "code",
   "execution_count": null,
   "source": [
    "df_all = pd.concat([df1,df2,df3,df4],axis=0,ignore_index=True)\r\n",
    "df_all"
   ],
   "outputs": [],
   "metadata": {}
  },
  {
   "cell_type": "code",
   "execution_count": null,
   "source": [
    "df_all.drop_duplicates(['contents'],ignore_index=True,inplace=True)\r\n",
    "df_all"
   ],
   "outputs": [],
   "metadata": {}
  },
  {
   "cell_type": "code",
   "execution_count": null,
   "source": [
    "df_all.to_csv('data\\疫苗相關all.csv',encoding='utf-8-sig',index=False)"
   ],
   "outputs": [],
   "metadata": {}
  },
  {
   "cell_type": "markdown",
   "source": [
    "# time select data"
   ],
   "metadata": {}
  },
  {
   "cell_type": "code",
   "execution_count": 1,
   "source": [
    "import pandas as pd\r\n",
    "from glob import glob\r\n",
    " \r\n",
    "files = glob('..\\\\timeSelect\\output2\\*.csv')\r\n",
    "print(files)\r\n",
    "\r\n"
   ],
   "outputs": [
    {
     "output_type": "stream",
     "name": "stdout",
     "text": [
      "['..\\\\timeSelect\\\\output2\\\\國藥.csv', '..\\\\timeSelect\\\\output2\\\\嬌生.csv', '..\\\\timeSelect\\\\output2\\\\康希諾.csv', '..\\\\timeSelect\\\\output2\\\\科興.csv', '..\\\\timeSelect\\\\output2\\\\聯亞.csv', '..\\\\timeSelect\\\\output2\\\\莫德納.csv', '..\\\\timeSelect\\\\output2\\\\輝瑞.csv']\n"
     ]
    }
   ],
   "metadata": {}
  },
  {
   "cell_type": "code",
   "execution_count": 2,
   "source": [
    "df = pd.concat(\r\n",
    "    (pd.read_csv(file, low_memory=False) for file in files), ignore_index=True)\r\n",
    " \r\n",
    "print(df)"
   ],
   "outputs": [
    {
     "output_type": "stream",
     "name": "stdout",
     "text": [
      "              id             contents key word                          date\n",
      "0        cs09312        我們高端也能去印尼阿 嘻嘻       國藥    27.52.225.225 09/26 11:54 \n",
      "1       snow3804            世界怎麼跟得上台灣       國藥    1.164.181.127 09/26 11:54 \n",
      "2        lee0820                  高端呢       國藥     42.77.161.93 09/26 11:54 \n",
      "3         matico      又如何？世界不是只有美國！！！       國藥     140.113.3.12 09/26 11:54 \n",
      "4       Ceferino            美國中共同路人認證       國藥  123.192.235.113 09/26 11:54 \n",
      "...          ...                  ...      ...                           ...\n",
      "257025   nan0205           加量不加價，佛心義國       輝瑞                           NaN\n",
      "257026    flyqoo                  綠巨人       輝瑞                           NaN\n",
      "257027  oantonyo         多打幾倍而已不至於有問題       輝瑞                           NaN\n",
      "257028  best5551                一輩子免疫       輝瑞                           NaN\n",
      "257029      ron7   會問還要不要追加的 一定不是三類哈哈       輝瑞                           NaN\n",
      "\n",
      "[257030 rows x 4 columns]\n"
     ]
    }
   ],
   "metadata": {}
  },
  {
   "cell_type": "code",
   "execution_count": 3,
   "source": [
    "df = df.drop(labels=['date'],axis=1)\r\n",
    "df"
   ],
   "outputs": [
    {
     "output_type": "execute_result",
     "data": {
      "text/html": [
       "<div>\n",
       "<style scoped>\n",
       "    .dataframe tbody tr th:only-of-type {\n",
       "        vertical-align: middle;\n",
       "    }\n",
       "\n",
       "    .dataframe tbody tr th {\n",
       "        vertical-align: top;\n",
       "    }\n",
       "\n",
       "    .dataframe thead th {\n",
       "        text-align: right;\n",
       "    }\n",
       "</style>\n",
       "<table border=\"1\" class=\"dataframe\">\n",
       "  <thead>\n",
       "    <tr style=\"text-align: right;\">\n",
       "      <th></th>\n",
       "      <th>id</th>\n",
       "      <th>contents</th>\n",
       "      <th>key word</th>\n",
       "    </tr>\n",
       "  </thead>\n",
       "  <tbody>\n",
       "    <tr>\n",
       "      <th>0</th>\n",
       "      <td>cs09312</td>\n",
       "      <td>我們高端也能去印尼阿 嘻嘻</td>\n",
       "      <td>國藥</td>\n",
       "    </tr>\n",
       "    <tr>\n",
       "      <th>1</th>\n",
       "      <td>snow3804</td>\n",
       "      <td>世界怎麼跟得上台灣</td>\n",
       "      <td>國藥</td>\n",
       "    </tr>\n",
       "    <tr>\n",
       "      <th>2</th>\n",
       "      <td>lee0820</td>\n",
       "      <td>高端呢</td>\n",
       "      <td>國藥</td>\n",
       "    </tr>\n",
       "    <tr>\n",
       "      <th>3</th>\n",
       "      <td>matico</td>\n",
       "      <td>又如何？世界不是只有美國！！！</td>\n",
       "      <td>國藥</td>\n",
       "    </tr>\n",
       "    <tr>\n",
       "      <th>4</th>\n",
       "      <td>Ceferino</td>\n",
       "      <td>美國中共同路人認證</td>\n",
       "      <td>國藥</td>\n",
       "    </tr>\n",
       "    <tr>\n",
       "      <th>...</th>\n",
       "      <td>...</td>\n",
       "      <td>...</td>\n",
       "      <td>...</td>\n",
       "    </tr>\n",
       "    <tr>\n",
       "      <th>257025</th>\n",
       "      <td>nan0205</td>\n",
       "      <td>加量不加價，佛心義國</td>\n",
       "      <td>輝瑞</td>\n",
       "    </tr>\n",
       "    <tr>\n",
       "      <th>257026</th>\n",
       "      <td>flyqoo</td>\n",
       "      <td>綠巨人</td>\n",
       "      <td>輝瑞</td>\n",
       "    </tr>\n",
       "    <tr>\n",
       "      <th>257027</th>\n",
       "      <td>oantonyo</td>\n",
       "      <td>多打幾倍而已不至於有問題</td>\n",
       "      <td>輝瑞</td>\n",
       "    </tr>\n",
       "    <tr>\n",
       "      <th>257028</th>\n",
       "      <td>best5551</td>\n",
       "      <td>一輩子免疫</td>\n",
       "      <td>輝瑞</td>\n",
       "    </tr>\n",
       "    <tr>\n",
       "      <th>257029</th>\n",
       "      <td>ron7</td>\n",
       "      <td>會問還要不要追加的 一定不是三類哈哈</td>\n",
       "      <td>輝瑞</td>\n",
       "    </tr>\n",
       "  </tbody>\n",
       "</table>\n",
       "<p>257030 rows × 3 columns</p>\n",
       "</div>"
      ],
      "text/plain": [
       "              id             contents key word\n",
       "0        cs09312        我們高端也能去印尼阿 嘻嘻       國藥\n",
       "1       snow3804            世界怎麼跟得上台灣       國藥\n",
       "2        lee0820                  高端呢       國藥\n",
       "3         matico      又如何？世界不是只有美國！！！       國藥\n",
       "4       Ceferino            美國中共同路人認證       國藥\n",
       "...          ...                  ...      ...\n",
       "257025   nan0205           加量不加價，佛心義國       輝瑞\n",
       "257026    flyqoo                  綠巨人       輝瑞\n",
       "257027  oantonyo         多打幾倍而已不至於有問題       輝瑞\n",
       "257028  best5551                一輩子免疫       輝瑞\n",
       "257029      ron7   會問還要不要追加的 一定不是三類哈哈       輝瑞\n",
       "\n",
       "[257030 rows x 3 columns]"
      ]
     },
     "metadata": {},
     "execution_count": 3
    }
   ],
   "metadata": {}
  },
  {
   "cell_type": "code",
   "execution_count": 4,
   "source": [
    "df = df.drop_duplicates(['contents'])\r\n",
    "df"
   ],
   "outputs": [
    {
     "output_type": "execute_result",
     "data": {
      "text/html": [
       "<div>\n",
       "<style scoped>\n",
       "    .dataframe tbody tr th:only-of-type {\n",
       "        vertical-align: middle;\n",
       "    }\n",
       "\n",
       "    .dataframe tbody tr th {\n",
       "        vertical-align: top;\n",
       "    }\n",
       "\n",
       "    .dataframe thead th {\n",
       "        text-align: right;\n",
       "    }\n",
       "</style>\n",
       "<table border=\"1\" class=\"dataframe\">\n",
       "  <thead>\n",
       "    <tr style=\"text-align: right;\">\n",
       "      <th></th>\n",
       "      <th>id</th>\n",
       "      <th>contents</th>\n",
       "      <th>key word</th>\n",
       "    </tr>\n",
       "  </thead>\n",
       "  <tbody>\n",
       "    <tr>\n",
       "      <th>0</th>\n",
       "      <td>cs09312</td>\n",
       "      <td>我們高端也能去印尼阿 嘻嘻</td>\n",
       "      <td>國藥</td>\n",
       "    </tr>\n",
       "    <tr>\n",
       "      <th>1</th>\n",
       "      <td>snow3804</td>\n",
       "      <td>世界怎麼跟得上台灣</td>\n",
       "      <td>國藥</td>\n",
       "    </tr>\n",
       "    <tr>\n",
       "      <th>2</th>\n",
       "      <td>lee0820</td>\n",
       "      <td>高端呢</td>\n",
       "      <td>國藥</td>\n",
       "    </tr>\n",
       "    <tr>\n",
       "      <th>3</th>\n",
       "      <td>matico</td>\n",
       "      <td>又如何？世界不是只有美國！！！</td>\n",
       "      <td>國藥</td>\n",
       "    </tr>\n",
       "    <tr>\n",
       "      <th>4</th>\n",
       "      <td>Ceferino</td>\n",
       "      <td>美國中共同路人認證</td>\n",
       "      <td>國藥</td>\n",
       "    </tr>\n",
       "    <tr>\n",
       "      <th>...</th>\n",
       "      <td>...</td>\n",
       "      <td>...</td>\n",
       "      <td>...</td>\n",
       "    </tr>\n",
       "    <tr>\n",
       "      <th>257025</th>\n",
       "      <td>nan0205</td>\n",
       "      <td>加量不加價，佛心義國</td>\n",
       "      <td>輝瑞</td>\n",
       "    </tr>\n",
       "    <tr>\n",
       "      <th>257026</th>\n",
       "      <td>flyqoo</td>\n",
       "      <td>綠巨人</td>\n",
       "      <td>輝瑞</td>\n",
       "    </tr>\n",
       "    <tr>\n",
       "      <th>257027</th>\n",
       "      <td>oantonyo</td>\n",
       "      <td>多打幾倍而已不至於有問題</td>\n",
       "      <td>輝瑞</td>\n",
       "    </tr>\n",
       "    <tr>\n",
       "      <th>257028</th>\n",
       "      <td>best5551</td>\n",
       "      <td>一輩子免疫</td>\n",
       "      <td>輝瑞</td>\n",
       "    </tr>\n",
       "    <tr>\n",
       "      <th>257029</th>\n",
       "      <td>ron7</td>\n",
       "      <td>會問還要不要追加的 一定不是三類哈哈</td>\n",
       "      <td>輝瑞</td>\n",
       "    </tr>\n",
       "  </tbody>\n",
       "</table>\n",
       "<p>219969 rows × 3 columns</p>\n",
       "</div>"
      ],
      "text/plain": [
       "              id             contents key word\n",
       "0        cs09312        我們高端也能去印尼阿 嘻嘻       國藥\n",
       "1       snow3804            世界怎麼跟得上台灣       國藥\n",
       "2        lee0820                  高端呢       國藥\n",
       "3         matico      又如何？世界不是只有美國！！！       國藥\n",
       "4       Ceferino            美國中共同路人認證       國藥\n",
       "...          ...                  ...      ...\n",
       "257025   nan0205           加量不加價，佛心義國       輝瑞\n",
       "257026    flyqoo                  綠巨人       輝瑞\n",
       "257027  oantonyo         多打幾倍而已不至於有問題       輝瑞\n",
       "257028  best5551                一輩子免疫       輝瑞\n",
       "257029      ron7   會問還要不要追加的 一定不是三類哈哈       輝瑞\n",
       "\n",
       "[219969 rows x 3 columns]"
      ]
     },
     "metadata": {},
     "execution_count": 4
    }
   ],
   "metadata": {}
  },
  {
   "cell_type": "code",
   "execution_count": 5,
   "source": [
    "df.to_csv('..\\data\\疫苗相關all_time2.csv',encoding='utf-8-sig',index=False)"
   ],
   "outputs": [],
   "metadata": {}
  },
  {
   "cell_type": "markdown",
   "source": [
    "# data"
   ],
   "metadata": {}
  },
  {
   "cell_type": "code",
   "execution_count": 3,
   "source": [
    "import pandas as pd\r\n",
    "\r\n",
    "df1 = pd.read_csv('..\\data\\疫苗相關all.csv',low_memory=False)\r\n",
    "df2 = pd.read_csv('..\\data_fix\\疫苗相關5_fix.csv',low_memory=False)\r\n",
    "df = pd.concat([df1,df2], ignore_index=True)\r\n",
    "df = df.drop(labels=['date'],axis=1)\r\n",
    "df = df.drop_duplicates(['contents'])\r\n",
    "df\r\n",
    "\r\n"
   ],
   "outputs": [
    {
     "output_type": "execute_result",
     "data": {
      "text/html": [
       "<div>\n",
       "<style scoped>\n",
       "    .dataframe tbody tr th:only-of-type {\n",
       "        vertical-align: middle;\n",
       "    }\n",
       "\n",
       "    .dataframe tbody tr th {\n",
       "        vertical-align: top;\n",
       "    }\n",
       "\n",
       "    .dataframe thead th {\n",
       "        text-align: right;\n",
       "    }\n",
       "</style>\n",
       "<table border=\"1\" class=\"dataframe\">\n",
       "  <thead>\n",
       "    <tr style=\"text-align: right;\">\n",
       "      <th></th>\n",
       "      <th>id</th>\n",
       "      <th>contents</th>\n",
       "      <th>key word</th>\n",
       "    </tr>\n",
       "  </thead>\n",
       "  <tbody>\n",
       "    <tr>\n",
       "      <th>0</th>\n",
       "      <td>SRadiant</td>\n",
       "      <td>放心，這說明書我早看過好幾遍了，那你</td>\n",
       "      <td>AstraZeneca</td>\n",
       "    </tr>\n",
       "    <tr>\n",
       "      <th>1</th>\n",
       "      <td>greensaru</td>\n",
       "      <td>我應該只有高端的命。。。。</td>\n",
       "      <td>AstraZeneca</td>\n",
       "    </tr>\n",
       "    <tr>\n",
       "      <th>2</th>\n",
       "      <td>SRadiant</td>\n",
       "      <td>有看過英文說明書嗎？你有看過其他幾家疫苗的說明書嗎？</td>\n",
       "      <td>AstraZeneca</td>\n",
       "    </tr>\n",
       "    <tr>\n",
       "      <th>3</th>\n",
       "      <td>sam4105112</td>\n",
       "      <td>4%最愛啊 96%打國產根本沒問題</td>\n",
       "      <td>AstraZeneca</td>\n",
       "    </tr>\n",
       "    <tr>\n",
       "      <th>4</th>\n",
       "      <td>warwolf</td>\n",
       "      <td>因為你只看新聞才不知道這些</td>\n",
       "      <td>AstraZeneca</td>\n",
       "    </tr>\n",
       "    <tr>\n",
       "      <th>...</th>\n",
       "      <td>...</td>\n",
       "      <td>...</td>\n",
       "      <td>...</td>\n",
       "    </tr>\n",
       "    <tr>\n",
       "      <th>2293129</th>\n",
       "      <td>sinoca</td>\n",
       "      <td>你是國中生還是國中生家長? 趕快考趕快結束懂嗎?</td>\n",
       "      <td>聯亞</td>\n",
       "    </tr>\n",
       "    <tr>\n",
       "      <th>2293130</th>\n",
       "      <td>Wl02509806</td>\n",
       "      <td>還在闈場的人：</td>\n",
       "      <td>聯亞</td>\n",
       "    </tr>\n",
       "    <tr>\n",
       "      <th>2293131</th>\n",
       "      <td>show282</td>\n",
       "      <td>聯亞昨天停電都進度delay了</td>\n",
       "      <td>聯亞</td>\n",
       "    </tr>\n",
       "    <tr>\n",
       "      <th>2293132</th>\n",
       "      <td>biggest1983</td>\n",
       "      <td>這個不食人間煙火的，比記者還慘</td>\n",
       "      <td>聯亞</td>\n",
       "    </tr>\n",
       "    <tr>\n",
       "      <th>2293176</th>\n",
       "      <td>i376ers</td>\n",
       "      <td>要接手了？</td>\n",
       "      <td>聯亞</td>\n",
       "    </tr>\n",
       "  </tbody>\n",
       "</table>\n",
       "<p>2233916 rows × 3 columns</p>\n",
       "</div>"
      ],
      "text/plain": [
       "                  id                     contents     key word\n",
       "0           SRadiant           放心，這說明書我早看過好幾遍了，那你  AstraZeneca\n",
       "1          greensaru                我應該只有高端的命。。。。  AstraZeneca\n",
       "2           SRadiant   有看過英文說明書嗎？你有看過其他幾家疫苗的說明書嗎？  AstraZeneca\n",
       "3         sam4105112            4%最愛啊 96%打國產根本沒問題  AstraZeneca\n",
       "4            warwolf                因為你只看新聞才不知道這些  AstraZeneca\n",
       "...              ...                          ...          ...\n",
       "2293129       sinoca     你是國中生還是國中生家長? 趕快考趕快結束懂嗎?           聯亞\n",
       "2293130   Wl02509806                      還在闈場的人：           聯亞\n",
       "2293131      show282              聯亞昨天停電都進度delay了           聯亞\n",
       "2293132  biggest1983              這個不食人間煙火的，比記者還慘           聯亞\n",
       "2293176      i376ers                        要接手了？           聯亞\n",
       "\n",
       "[2233916 rows x 3 columns]"
      ]
     },
     "metadata": {},
     "execution_count": 3
    }
   ],
   "metadata": {}
  },
  {
   "cell_type": "code",
   "execution_count": 5,
   "source": [
    "df.to_csv('..\\data\\疫苗相關all.csv',encoding='utf-8-sig',index=False)\r\n"
   ],
   "outputs": [],
   "metadata": {}
  },
  {
   "cell_type": "code",
   "execution_count": null,
   "source": [],
   "outputs": [],
   "metadata": {}
  }
 ],
 "metadata": {
  "orig_nbformat": 4,
  "language_info": {
   "name": "python",
   "version": "3.9.7",
   "mimetype": "text/x-python",
   "codemirror_mode": {
    "name": "ipython",
    "version": 3
   },
   "pygments_lexer": "ipython3",
   "nbconvert_exporter": "python",
   "file_extension": ".py"
  },
  "kernelspec": {
   "name": "python3",
   "display_name": "Python 3.9.7 64-bit"
  },
  "interpreter": {
   "hash": "6b24c107649004459c65f34c896e2d1b40ea1d32dc5bbe16c91bbc2f39c8c8c5"
  }
 },
 "nbformat": 4,
 "nbformat_minor": 2
}