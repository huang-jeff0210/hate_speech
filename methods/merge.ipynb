{
 "cells": [
  {
   "cell_type": "markdown",
   "source": [
    "# data_fix"
   ],
   "metadata": {}
  },
  {
   "cell_type": "code",
   "execution_count": 6,
   "source": [
    "import pandas as pd\r\n",
    "df = pd.read_csv('..\\data\\康希諾.csv',low_memory=False)\r\n",
    "print(df)"
   ],
   "outputs": [
    {
     "output_type": "stream",
     "name": "stdout",
     "text": [
      "     /bbs/Gossiping/M.1623680413.A.455.html    deathbead  \\\n",
      "0    /bbs/Gossiping/M.1623680413.A.455.html   trevor5566   \n",
      "1    /bbs/Gossiping/M.1623680413.A.455.html   kerorobear   \n",
      "2    /bbs/Gossiping/M.1623680413.A.455.html    l11111111   \n",
      "3    /bbs/Gossiping/M.1623680413.A.455.html     james732   \n",
      "4    /bbs/Gossiping/M.1623680413.A.455.html  WolfTeacher   \n",
      "..                                      ...          ...   \n",
      "159  /bbs/Gossiping/M.1622520093.A.A6B.html     SRadiant   \n",
      "160  /bbs/Gossiping/M.1622520093.A.A6B.html       jeff52   \n",
      "161  /bbs/Gossiping/M.1622520093.A.A6B.html       Binzer   \n",
      "162  /bbs/Gossiping/M.1622520093.A.A6B.html       Binzer   \n",
      "163  /bbs/Gossiping/M.1622520093.A.A6B.html         TBEX   \n",
      "\n",
      "                          炒股？  康希諾     42.77.73.217 06/14 22:20   \n",
      "0                        樓下先吸  康希諾  223.141.224.208 06/14 22:20   \n",
      "1                   不愧是電子菸發明國  康希諾    1.171.244.170 06/14 22:20   \n",
      "2           想到去年綠共蟑螂還在酸「相信政府」  康希諾    36.234.59.143 06/14 22:21   \n",
      "3            這才叫高科技好ㄇ，反觀那個二期的  康希諾  223.140.139.223 06/14 22:21   \n",
      "4                   蟑螂只會推這你敢吸  康希諾    180.176.0.145 06/14 22:21   \n",
      "..                        ...  ...                           ...  \n",
      "159               65.7%才是正式數據  康希諾   223.137.152.90 06/01 12:14   \n",
      "160      casino不是賭場的意思買？賭場疫苗？  康希諾    42.77.218.178 06/01 12:18   \n",
      "161   cansino康希諾，樓上別自以為幽默秀下限搞  康希諾   114.41.220.117 06/01 12:23   \n",
      "162                         笑  康希諾   114.41.220.117 06/01 12:23   \n",
      "163                當然要支持江西南國產  康希諾    36.228.66.163 06/01 12:29   \n",
      "\n",
      "[164 rows x 5 columns]\n"
     ]
    }
   ],
   "metadata": {}
  },
  {
   "cell_type": "code",
   "execution_count": null,
   "source": [
    "df\r\n",
    "df.columns = ['id','contents','key word']\r\n",
    "print(df)"
   ],
   "outputs": [],
   "metadata": {}
  },
  {
   "cell_type": "code",
   "execution_count": null,
   "source": [
    "df.to_csv('data_fix\\疫苗相關1.csv',encoding='utf-8-sig',index=False)"
   ],
   "outputs": [],
   "metadata": {}
  },
  {
   "cell_type": "code",
   "execution_count": null,
   "source": [
    "import pandas as pd\r\n",
    "df = pd.read_csv('..\\data\\疫苗相關5.csv',low_memory=False,error_bad_lines=False)\r\n"
   ],
   "outputs": [],
   "metadata": {}
  },
  {
   "cell_type": "code",
   "execution_count": null,
   "source": [
    "df"
   ],
   "outputs": [],
   "metadata": {}
  },
  {
   "cell_type": "code",
   "execution_count": null,
   "source": [
    "df.columns = ['id','contents','key word','date']\r\n",
    "print(df)"
   ],
   "outputs": [],
   "metadata": {}
  },
  {
   "cell_type": "code",
   "execution_count": null,
   "source": [
    "df.to_csv('..\\data_fix\\疫苗相關5.csv',encoding='utf-8-sig',index=False)"
   ],
   "outputs": [],
   "metadata": {}
  },
  {
   "cell_type": "code",
   "execution_count": null,
   "source": [
    "import pandas as pd\r\n",
    "df = pd.read_csv('data_fix\\疫苗相關2.csv',low_memory=False,error_bad_lines=False)\r\n",
    "print(df)"
   ],
   "outputs": [],
   "metadata": {}
  },
  {
   "cell_type": "code",
   "execution_count": null,
   "source": [
    "df\r\n",
    "df.columns = ['id','contents','key word']\r\n",
    "print(df)"
   ],
   "outputs": [],
   "metadata": {}
  },
  {
   "cell_type": "code",
   "execution_count": null,
   "source": [
    "df.to_csv('data_fix\\疫苗相關2.csv',encoding='utf-8-sig',index=False)"
   ],
   "outputs": [],
   "metadata": {}
  },
  {
   "cell_type": "code",
   "execution_count": null,
   "source": [
    "import pandas as pd\r\n",
    "df = pd.read_csv('data\\疫苗相關3.csv',low_memory=False,error_bad_lines=False)\r\n",
    "df.columns = ['id','contents','key word']\r\n",
    "print(df)"
   ],
   "outputs": [],
   "metadata": {}
  },
  {
   "cell_type": "code",
   "execution_count": null,
   "source": [
    "df.to_csv('data_fix\\疫苗相關3_fix.csv',encoding='utf-8-sig',index=False)"
   ],
   "outputs": [],
   "metadata": {}
  },
  {
   "cell_type": "code",
   "execution_count": null,
   "source": [
    "df = pd.read_csv('data_fix\\疫苗相關4_fix.csv',low_memory=False,error_bad_lines=False)\r\n",
    "#df.columns = ['id','contents','key word']\r\n",
    "#df.drop(\"Unnamed: 0\"], axis=1)\r\n",
    "print(df)"
   ],
   "outputs": [],
   "metadata": {}
  },
  {
   "cell_type": "code",
   "execution_count": null,
   "source": [
    "df.to_csv('data_fix\\疫苗相關4.csv',encoding='utf-8-sig',index=False)"
   ],
   "outputs": [],
   "metadata": {}
  },
  {
   "cell_type": "code",
   "execution_count": null,
   "source": [
    "import pandas as pd\r\n",
    "df1 = pd.read_csv('data_fix\\疫苗相關1_fix.csv',low_memory=False)\r\n",
    "df2 = pd.read_csv('data_fix\\疫苗相關2_fix.csv',low_memory=False)\r\n",
    "df3 = pd.read_csv('data_fix\\疫苗相關3_fix.csv',low_memory=False)\r\n",
    "df4 = pd.read_csv('data_fix\\疫苗相關4_fix.csv',low_memory=False)"
   ],
   "outputs": [],
   "metadata": {}
  },
  {
   "cell_type": "code",
   "execution_count": null,
   "source": [
    "df_all = pd.concat([df1,df2,df3,df4],axis=0,ignore_index=True)\r\n",
    "df_all"
   ],
   "outputs": [],
   "metadata": {}
  },
  {
   "cell_type": "code",
   "execution_count": null,
   "source": [
    "df_all.drop_duplicates(['contents'],ignore_index=True,inplace=True)\r\n",
    "df_all"
   ],
   "outputs": [],
   "metadata": {}
  },
  {
   "cell_type": "code",
   "execution_count": null,
   "source": [
    "df_all.to_csv('data\\疫苗相關all.csv',encoding='utf-8-sig',index=False)"
   ],
   "outputs": [],
   "metadata": {}
  },
  {
   "cell_type": "markdown",
   "source": [
    "# time select data"
   ],
   "metadata": {}
  },
  {
   "cell_type": "code",
   "execution_count": 6,
   "source": [
    "import pandas as pd\r\n",
    "from glob import glob\r\n",
    " \r\n",
    "files = glob('..\\\\timeSelect\\output2\\*.csv')\r\n",
    "print(files)\r\n",
    "\r\n"
   ],
   "outputs": [
    {
     "output_type": "stream",
     "name": "stdout",
     "text": [
      "['..\\\\timeSelect\\\\output2\\\\AstraZeneca.csv', '..\\\\timeSelect\\\\output2\\\\az.csv', '..\\\\timeSelect\\\\output2\\\\BioNTech.csv', '..\\\\timeSelect\\\\output2\\\\bnt.csv', '..\\\\timeSelect\\\\output2\\\\Moderna.csv', '..\\\\timeSelect\\\\output2\\\\國藥.csv', '..\\\\timeSelect\\\\output2\\\\嬌生.csv', '..\\\\timeSelect\\\\output2\\\\康希諾.csv', '..\\\\timeSelect\\\\output2\\\\科興.csv', '..\\\\timeSelect\\\\output2\\\\聯亞.csv', '..\\\\timeSelect\\\\output2\\\\莫德納.csv', '..\\\\timeSelect\\\\output2\\\\輝瑞.csv', '..\\\\timeSelect\\\\output2\\\\阿斯特捷利康.csv', '..\\\\timeSelect\\\\output2\\\\高端.csv']\n"
     ]
    }
   ],
   "metadata": {}
  },
  {
   "cell_type": "code",
   "execution_count": 7,
   "source": [
    "df = pd.concat(\r\n",
    "    (pd.read_csv(file, low_memory=False) for file in files), ignore_index=True)\r\n",
    " \r\n",
    "print(df)"
   ],
   "outputs": [
    {
     "output_type": "stream",
     "name": "stdout",
     "text": [
      "                 id                       contents     key word date\n",
      "0          SRadiant             放心，這說明書我早看過好幾遍了，那你  AstraZeneca  NaN\n",
      "1         greensaru                  我應該只有高端的命。。。。  AstraZeneca  NaN\n",
      "2          SRadiant     有看過英文說明書嗎？你有看過其他幾家疫苗的說明書嗎？  AstraZeneca  NaN\n",
      "3        sam4105112              4%最愛啊 96%打國產根本沒問題  AstraZeneca  NaN\n",
      "4           warwolf                  因為你只看新聞才不知道這些  AstraZeneca  NaN\n",
      "...             ...                            ...          ...  ...\n",
      "1367798       PSptt                     下面八成有還沒爆的阿           高端  NaN\n",
      "1367799  MgEuCuLiZn            左打GG 右踹發哥 唯我高端 股海稱王           高端  NaN\n",
      "1367800    iGIORGIO                     817一人一張救起來           高端  NaN\n",
      "1367801       ppnow   這種爛東西就應該全民抵制一張不買，讓民進黨主力賠到脫褲子           高端  NaN\n",
      "1367802     athome1                  有黨在不要怕 趁低點歐印吧           高端  NaN\n",
      "\n",
      "[1367803 rows x 4 columns]\n"
     ]
    }
   ],
   "metadata": {}
  },
  {
   "cell_type": "code",
   "execution_count": 8,
   "source": [
    "df = df.drop(labels=['date'],axis=1)\r\n",
    "df"
   ],
   "outputs": [
    {
     "output_type": "execute_result",
     "data": {
      "text/html": [
       "<div>\n",
       "<style scoped>\n",
       "    .dataframe tbody tr th:only-of-type {\n",
       "        vertical-align: middle;\n",
       "    }\n",
       "\n",
       "    .dataframe tbody tr th {\n",
       "        vertical-align: top;\n",
       "    }\n",
       "\n",
       "    .dataframe thead th {\n",
       "        text-align: right;\n",
       "    }\n",
       "</style>\n",
       "<table border=\"1\" class=\"dataframe\">\n",
       "  <thead>\n",
       "    <tr style=\"text-align: right;\">\n",
       "      <th></th>\n",
       "      <th>id</th>\n",
       "      <th>contents</th>\n",
       "      <th>key word</th>\n",
       "    </tr>\n",
       "  </thead>\n",
       "  <tbody>\n",
       "    <tr>\n",
       "      <th>0</th>\n",
       "      <td>SRadiant</td>\n",
       "      <td>放心，這說明書我早看過好幾遍了，那你</td>\n",
       "      <td>AstraZeneca</td>\n",
       "    </tr>\n",
       "    <tr>\n",
       "      <th>1</th>\n",
       "      <td>greensaru</td>\n",
       "      <td>我應該只有高端的命。。。。</td>\n",
       "      <td>AstraZeneca</td>\n",
       "    </tr>\n",
       "    <tr>\n",
       "      <th>2</th>\n",
       "      <td>SRadiant</td>\n",
       "      <td>有看過英文說明書嗎？你有看過其他幾家疫苗的說明書嗎？</td>\n",
       "      <td>AstraZeneca</td>\n",
       "    </tr>\n",
       "    <tr>\n",
       "      <th>3</th>\n",
       "      <td>sam4105112</td>\n",
       "      <td>4%最愛啊 96%打國產根本沒問題</td>\n",
       "      <td>AstraZeneca</td>\n",
       "    </tr>\n",
       "    <tr>\n",
       "      <th>4</th>\n",
       "      <td>warwolf</td>\n",
       "      <td>因為你只看新聞才不知道這些</td>\n",
       "      <td>AstraZeneca</td>\n",
       "    </tr>\n",
       "    <tr>\n",
       "      <th>...</th>\n",
       "      <td>...</td>\n",
       "      <td>...</td>\n",
       "      <td>...</td>\n",
       "    </tr>\n",
       "    <tr>\n",
       "      <th>1367798</th>\n",
       "      <td>PSptt</td>\n",
       "      <td>下面八成有還沒爆的阿</td>\n",
       "      <td>高端</td>\n",
       "    </tr>\n",
       "    <tr>\n",
       "      <th>1367799</th>\n",
       "      <td>MgEuCuLiZn</td>\n",
       "      <td>左打GG 右踹發哥 唯我高端 股海稱王</td>\n",
       "      <td>高端</td>\n",
       "    </tr>\n",
       "    <tr>\n",
       "      <th>1367800</th>\n",
       "      <td>iGIORGIO</td>\n",
       "      <td>817一人一張救起來</td>\n",
       "      <td>高端</td>\n",
       "    </tr>\n",
       "    <tr>\n",
       "      <th>1367801</th>\n",
       "      <td>ppnow</td>\n",
       "      <td>這種爛東西就應該全民抵制一張不買，讓民進黨主力賠到脫褲子</td>\n",
       "      <td>高端</td>\n",
       "    </tr>\n",
       "    <tr>\n",
       "      <th>1367802</th>\n",
       "      <td>athome1</td>\n",
       "      <td>有黨在不要怕 趁低點歐印吧</td>\n",
       "      <td>高端</td>\n",
       "    </tr>\n",
       "  </tbody>\n",
       "</table>\n",
       "<p>1367803 rows × 3 columns</p>\n",
       "</div>"
      ],
      "text/plain": [
       "                 id                       contents     key word\n",
       "0          SRadiant             放心，這說明書我早看過好幾遍了，那你  AstraZeneca\n",
       "1         greensaru                  我應該只有高端的命。。。。  AstraZeneca\n",
       "2          SRadiant     有看過英文說明書嗎？你有看過其他幾家疫苗的說明書嗎？  AstraZeneca\n",
       "3        sam4105112              4%最愛啊 96%打國產根本沒問題  AstraZeneca\n",
       "4           warwolf                  因為你只看新聞才不知道這些  AstraZeneca\n",
       "...             ...                            ...          ...\n",
       "1367798       PSptt                     下面八成有還沒爆的阿           高端\n",
       "1367799  MgEuCuLiZn            左打GG 右踹發哥 唯我高端 股海稱王           高端\n",
       "1367800    iGIORGIO                     817一人一張救起來           高端\n",
       "1367801       ppnow   這種爛東西就應該全民抵制一張不買，讓民進黨主力賠到脫褲子           高端\n",
       "1367802     athome1                  有黨在不要怕 趁低點歐印吧           高端\n",
       "\n",
       "[1367803 rows x 3 columns]"
      ]
     },
     "metadata": {},
     "execution_count": 8
    }
   ],
   "metadata": {}
  },
  {
   "cell_type": "code",
   "execution_count": 9,
   "source": [
    "df = df.drop_duplicates(['contents'])\r\n",
    "df"
   ],
   "outputs": [
    {
     "output_type": "execute_result",
     "data": {
      "text/html": [
       "<div>\n",
       "<style scoped>\n",
       "    .dataframe tbody tr th:only-of-type {\n",
       "        vertical-align: middle;\n",
       "    }\n",
       "\n",
       "    .dataframe tbody tr th {\n",
       "        vertical-align: top;\n",
       "    }\n",
       "\n",
       "    .dataframe thead th {\n",
       "        text-align: right;\n",
       "    }\n",
       "</style>\n",
       "<table border=\"1\" class=\"dataframe\">\n",
       "  <thead>\n",
       "    <tr style=\"text-align: right;\">\n",
       "      <th></th>\n",
       "      <th>id</th>\n",
       "      <th>contents</th>\n",
       "      <th>key word</th>\n",
       "    </tr>\n",
       "  </thead>\n",
       "  <tbody>\n",
       "    <tr>\n",
       "      <th>0</th>\n",
       "      <td>SRadiant</td>\n",
       "      <td>放心，這說明書我早看過好幾遍了，那你</td>\n",
       "      <td>AstraZeneca</td>\n",
       "    </tr>\n",
       "    <tr>\n",
       "      <th>1</th>\n",
       "      <td>greensaru</td>\n",
       "      <td>我應該只有高端的命。。。。</td>\n",
       "      <td>AstraZeneca</td>\n",
       "    </tr>\n",
       "    <tr>\n",
       "      <th>2</th>\n",
       "      <td>SRadiant</td>\n",
       "      <td>有看過英文說明書嗎？你有看過其他幾家疫苗的說明書嗎？</td>\n",
       "      <td>AstraZeneca</td>\n",
       "    </tr>\n",
       "    <tr>\n",
       "      <th>3</th>\n",
       "      <td>sam4105112</td>\n",
       "      <td>4%最愛啊 96%打國產根本沒問題</td>\n",
       "      <td>AstraZeneca</td>\n",
       "    </tr>\n",
       "    <tr>\n",
       "      <th>4</th>\n",
       "      <td>warwolf</td>\n",
       "      <td>因為你只看新聞才不知道這些</td>\n",
       "      <td>AstraZeneca</td>\n",
       "    </tr>\n",
       "    <tr>\n",
       "      <th>...</th>\n",
       "      <td>...</td>\n",
       "      <td>...</td>\n",
       "      <td>...</td>\n",
       "    </tr>\n",
       "    <tr>\n",
       "      <th>1367798</th>\n",
       "      <td>PSptt</td>\n",
       "      <td>下面八成有還沒爆的阿</td>\n",
       "      <td>高端</td>\n",
       "    </tr>\n",
       "    <tr>\n",
       "      <th>1367799</th>\n",
       "      <td>MgEuCuLiZn</td>\n",
       "      <td>左打GG 右踹發哥 唯我高端 股海稱王</td>\n",
       "      <td>高端</td>\n",
       "    </tr>\n",
       "    <tr>\n",
       "      <th>1367800</th>\n",
       "      <td>iGIORGIO</td>\n",
       "      <td>817一人一張救起來</td>\n",
       "      <td>高端</td>\n",
       "    </tr>\n",
       "    <tr>\n",
       "      <th>1367801</th>\n",
       "      <td>ppnow</td>\n",
       "      <td>這種爛東西就應該全民抵制一張不買，讓民進黨主力賠到脫褲子</td>\n",
       "      <td>高端</td>\n",
       "    </tr>\n",
       "    <tr>\n",
       "      <th>1367802</th>\n",
       "      <td>athome1</td>\n",
       "      <td>有黨在不要怕 趁低點歐印吧</td>\n",
       "      <td>高端</td>\n",
       "    </tr>\n",
       "  </tbody>\n",
       "</table>\n",
       "<p>1086484 rows × 3 columns</p>\n",
       "</div>"
      ],
      "text/plain": [
       "                 id                       contents     key word\n",
       "0          SRadiant             放心，這說明書我早看過好幾遍了，那你  AstraZeneca\n",
       "1         greensaru                  我應該只有高端的命。。。。  AstraZeneca\n",
       "2          SRadiant     有看過英文說明書嗎？你有看過其他幾家疫苗的說明書嗎？  AstraZeneca\n",
       "3        sam4105112              4%最愛啊 96%打國產根本沒問題  AstraZeneca\n",
       "4           warwolf                  因為你只看新聞才不知道這些  AstraZeneca\n",
       "...             ...                            ...          ...\n",
       "1367798       PSptt                     下面八成有還沒爆的阿           高端\n",
       "1367799  MgEuCuLiZn            左打GG 右踹發哥 唯我高端 股海稱王           高端\n",
       "1367800    iGIORGIO                     817一人一張救起來           高端\n",
       "1367801       ppnow   這種爛東西就應該全民抵制一張不買，讓民進黨主力賠到脫褲子           高端\n",
       "1367802     athome1                  有黨在不要怕 趁低點歐印吧           高端\n",
       "\n",
       "[1086484 rows x 3 columns]"
      ]
     },
     "metadata": {},
     "execution_count": 9
    }
   ],
   "metadata": {}
  },
  {
   "cell_type": "code",
   "execution_count": 10,
   "source": [
    "df.to_csv('..\\data\\疫苗相關all_out2.csv',encoding='utf-8-sig',index=False)"
   ],
   "outputs": [],
   "metadata": {}
  },
  {
   "cell_type": "markdown",
   "source": [
    "# data"
   ],
   "metadata": {}
  },
  {
   "cell_type": "code",
   "execution_count": 3,
   "source": [
    "import pandas as pd\r\n",
    "\r\n",
    "df1 = pd.read_csv('..\\data\\疫苗相關all.csv',low_memory=False)\r\n",
    "df2 = pd.read_csv('..\\data_fix\\疫苗相關5_fix.csv',low_memory=False)\r\n",
    "df = pd.concat([df1,df2], ignore_index=True)\r\n",
    "df = df.drop(labels=['date'],axis=1)\r\n",
    "df = df.drop_duplicates(['contents'])\r\n",
    "df\r\n",
    "\r\n"
   ],
   "outputs": [
    {
     "output_type": "execute_result",
     "data": {
      "text/html": [
       "<div>\n",
       "<style scoped>\n",
       "    .dataframe tbody tr th:only-of-type {\n",
       "        vertical-align: middle;\n",
       "    }\n",
       "\n",
       "    .dataframe tbody tr th {\n",
       "        vertical-align: top;\n",
       "    }\n",
       "\n",
       "    .dataframe thead th {\n",
       "        text-align: right;\n",
       "    }\n",
       "</style>\n",
       "<table border=\"1\" class=\"dataframe\">\n",
       "  <thead>\n",
       "    <tr style=\"text-align: right;\">\n",
       "      <th></th>\n",
       "      <th>id</th>\n",
       "      <th>contents</th>\n",
       "      <th>key word</th>\n",
       "    </tr>\n",
       "  </thead>\n",
       "  <tbody>\n",
       "    <tr>\n",
       "      <th>0</th>\n",
       "      <td>SRadiant</td>\n",
       "      <td>放心，這說明書我早看過好幾遍了，那你</td>\n",
       "      <td>AstraZeneca</td>\n",
       "    </tr>\n",
       "    <tr>\n",
       "      <th>1</th>\n",
       "      <td>greensaru</td>\n",
       "      <td>我應該只有高端的命。。。。</td>\n",
       "      <td>AstraZeneca</td>\n",
       "    </tr>\n",
       "    <tr>\n",
       "      <th>2</th>\n",
       "      <td>SRadiant</td>\n",
       "      <td>有看過英文說明書嗎？你有看過其他幾家疫苗的說明書嗎？</td>\n",
       "      <td>AstraZeneca</td>\n",
       "    </tr>\n",
       "    <tr>\n",
       "      <th>3</th>\n",
       "      <td>sam4105112</td>\n",
       "      <td>4%最愛啊 96%打國產根本沒問題</td>\n",
       "      <td>AstraZeneca</td>\n",
       "    </tr>\n",
       "    <tr>\n",
       "      <th>4</th>\n",
       "      <td>warwolf</td>\n",
       "      <td>因為你只看新聞才不知道這些</td>\n",
       "      <td>AstraZeneca</td>\n",
       "    </tr>\n",
       "    <tr>\n",
       "      <th>...</th>\n",
       "      <td>...</td>\n",
       "      <td>...</td>\n",
       "      <td>...</td>\n",
       "    </tr>\n",
       "    <tr>\n",
       "      <th>2293129</th>\n",
       "      <td>sinoca</td>\n",
       "      <td>你是國中生還是國中生家長? 趕快考趕快結束懂嗎?</td>\n",
       "      <td>聯亞</td>\n",
       "    </tr>\n",
       "    <tr>\n",
       "      <th>2293130</th>\n",
       "      <td>Wl02509806</td>\n",
       "      <td>還在闈場的人：</td>\n",
       "      <td>聯亞</td>\n",
       "    </tr>\n",
       "    <tr>\n",
       "      <th>2293131</th>\n",
       "      <td>show282</td>\n",
       "      <td>聯亞昨天停電都進度delay了</td>\n",
       "      <td>聯亞</td>\n",
       "    </tr>\n",
       "    <tr>\n",
       "      <th>2293132</th>\n",
       "      <td>biggest1983</td>\n",
       "      <td>這個不食人間煙火的，比記者還慘</td>\n",
       "      <td>聯亞</td>\n",
       "    </tr>\n",
       "    <tr>\n",
       "      <th>2293176</th>\n",
       "      <td>i376ers</td>\n",
       "      <td>要接手了？</td>\n",
       "      <td>聯亞</td>\n",
       "    </tr>\n",
       "  </tbody>\n",
       "</table>\n",
       "<p>2233916 rows × 3 columns</p>\n",
       "</div>"
      ],
      "text/plain": [
       "                  id                     contents     key word\n",
       "0           SRadiant           放心，這說明書我早看過好幾遍了，那你  AstraZeneca\n",
       "1          greensaru                我應該只有高端的命。。。。  AstraZeneca\n",
       "2           SRadiant   有看過英文說明書嗎？你有看過其他幾家疫苗的說明書嗎？  AstraZeneca\n",
       "3         sam4105112            4%最愛啊 96%打國產根本沒問題  AstraZeneca\n",
       "4            warwolf                因為你只看新聞才不知道這些  AstraZeneca\n",
       "...              ...                          ...          ...\n",
       "2293129       sinoca     你是國中生還是國中生家長? 趕快考趕快結束懂嗎?           聯亞\n",
       "2293130   Wl02509806                      還在闈場的人：           聯亞\n",
       "2293131      show282              聯亞昨天停電都進度delay了           聯亞\n",
       "2293132  biggest1983              這個不食人間煙火的，比記者還慘           聯亞\n",
       "2293176      i376ers                        要接手了？           聯亞\n",
       "\n",
       "[2233916 rows x 3 columns]"
      ]
     },
     "metadata": {},
     "execution_count": 3
    }
   ],
   "metadata": {}
  },
  {
   "cell_type": "code",
   "execution_count": 5,
   "source": [
    "df.to_csv('..\\data\\疫苗相關all.csv',encoding='utf-8-sig',index=False)\r\n"
   ],
   "outputs": [],
   "metadata": {}
  },
  {
   "cell_type": "code",
   "execution_count": null,
   "source": [],
   "outputs": [],
   "metadata": {}
  }
 ],
 "metadata": {
  "orig_nbformat": 4,
  "language_info": {
   "name": "python",
   "version": "3.9.7",
   "mimetype": "text/x-python",
   "codemirror_mode": {
    "name": "ipython",
    "version": 3
   },
   "pygments_lexer": "ipython3",
   "nbconvert_exporter": "python",
   "file_extension": ".py"
  },
  "kernelspec": {
   "name": "python3",
   "display_name": "Python 3.9.7 64-bit"
  },
  "interpreter": {
   "hash": "6b24c107649004459c65f34c896e2d1b40ea1d32dc5bbe16c91bbc2f39c8c8c5"
  }
 },
 "nbformat": 4,
 "nbformat_minor": 2
}