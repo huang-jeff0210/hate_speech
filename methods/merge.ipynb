{
 "cells": [
  {
   "cell_type": "markdown",
   "source": [
    "# data_fix"
   ],
   "metadata": {}
  },
  {
   "cell_type": "code",
   "execution_count": null,
   "source": [
    "import pandas as pd\r\n",
    "df = pd.read_csv('data_fix\\疫苗相關1.csv',low_memory=False,error_bad_lines=False)\r\n",
    "print(df)"
   ],
   "outputs": [],
   "metadata": {}
  },
  {
   "cell_type": "code",
   "execution_count": null,
   "source": [
    "df\r\n",
    "df.columns = ['id','contents','key word']\r\n",
    "print(df)"
   ],
   "outputs": [],
   "metadata": {}
  },
  {
   "cell_type": "code",
   "execution_count": null,
   "source": [
    "df.to_csv('data_fix\\疫苗相關1.csv',encoding='utf-8-sig',index=False)"
   ],
   "outputs": [],
   "metadata": {}
  },
  {
   "cell_type": "code",
   "execution_count": 11,
   "source": [
    "import pandas as pd\r\n",
    "df = pd.read_csv('..\\data\\疫苗相關5.csv',low_memory=False,error_bad_lines=False)\r\n"
   ],
   "outputs": [
    {
     "output_type": "stream",
     "name": "stderr",
     "text": [
      "C:\\Users\\jeff0\\AppData\\Local\\Programs\\Python\\Python39\\lib\\site-packages\\IPython\\core\\interactiveshell.py:3441: FutureWarning: The error_bad_lines argument has been deprecated and will be removed in a future version.\n",
      "\n",
      "\n",
      "  exec(code_obj, self.user_global_ns, self.user_ns)\n",
      "b'Skipping line 324: expected 4 fields, saw 5\\nSkipping line 447: expected 4 fields, saw 5\\nSkipping line 450: expected 4 fields, saw 5\\nSkipping line 487: expected 4 fields, saw 5\\nSkipping line 553: expected 4 fields, saw 5\\nSkipping line 838: expected 4 fields, saw 6\\nSkipping line 938: expected 4 fields, saw 5\\nSkipping line 948: expected 4 fields, saw 5\\nSkipping line 985: expected 4 fields, saw 5\\nSkipping line 1102: expected 4 fields, saw 5\\nSkipping line 1299: expected 4 fields, saw 5\\nSkipping line 1364: expected 4 fields, saw 5\\nSkipping line 1416: expected 4 fields, saw 5\\nSkipping line 1502: expected 4 fields, saw 5\\nSkipping line 1567: expected 4 fields, saw 5\\nSkipping line 1919: expected 4 fields, saw 5\\nSkipping line 1986: expected 4 fields, saw 6\\nSkipping line 2002: expected 4 fields, saw 5\\nSkipping line 2415: expected 4 fields, saw 5\\nSkipping line 2569: expected 4 fields, saw 5\\nSkipping line 2575: expected 4 fields, saw 5\\nSkipping line 2582: expected 4 fields, saw 5\\nSkipping line 2586: expected 4 fields, saw 5\\nSkipping line 2655: expected 4 fields, saw 5\\nSkipping line 2855: expected 4 fields, saw 5\\nSkipping line 2858: expected 4 fields, saw 5\\nSkipping line 2961: expected 4 fields, saw 5\\nSkipping line 3039: expected 4 fields, saw 5\\nSkipping line 3136: expected 4 fields, saw 5\\nSkipping line 3239: expected 4 fields, saw 5\\nSkipping line 3426: expected 4 fields, saw 5\\nSkipping line 3563: expected 4 fields, saw 5\\nSkipping line 3564: expected 4 fields, saw 5\\nSkipping line 3635: expected 4 fields, saw 5\\nSkipping line 3643: expected 4 fields, saw 5\\nSkipping line 4007: expected 4 fields, saw 5\\nSkipping line 4076: expected 4 fields, saw 5\\nSkipping line 4077: expected 4 fields, saw 5\\nSkipping line 4138: expected 4 fields, saw 5\\nSkipping line 4189: expected 4 fields, saw 5\\nSkipping line 4446: expected 4 fields, saw 5\\nSkipping line 4613: expected 4 fields, saw 5\\nSkipping line 4619: expected 4 fields, saw 5\\nSkipping line 4717: expected 4 fields, saw 6\\nSkipping line 5221: expected 4 fields, saw 5\\nSkipping line 5331: expected 4 fields, saw 5\\nSkipping line 5421: expected 4 fields, saw 5\\nSkipping line 5490: expected 4 fields, saw 6\\nSkipping line 5625: expected 4 fields, saw 5\\nSkipping line 5644: expected 4 fields, saw 5\\nSkipping line 5755: expected 4 fields, saw 5\\nSkipping line 5792: expected 4 fields, saw 5\\nSkipping line 5909: expected 4 fields, saw 5\\nSkipping line 5927: expected 4 fields, saw 5\\nSkipping line 5970: expected 4 fields, saw 5\\nSkipping line 6020: expected 4 fields, saw 5\\nSkipping line 6090: expected 4 fields, saw 5\\nSkipping line 6097: expected 4 fields, saw 5\\nSkipping line 6099: expected 4 fields, saw 5\\nSkipping line 6103: expected 4 fields, saw 6\\nSkipping line 6104: expected 4 fields, saw 5\\nSkipping line 6136: expected 4 fields, saw 5\\nSkipping line 6235: expected 4 fields, saw 5\\nSkipping line 6236: expected 4 fields, saw 5\\nSkipping line 6380: expected 4 fields, saw 5\\nSkipping line 6433: expected 4 fields, saw 5\\nSkipping line 6470: expected 4 fields, saw 5\\nSkipping line 6587: expected 4 fields, saw 5\\nSkipping line 6676: expected 4 fields, saw 5\\nSkipping line 6897: expected 4 fields, saw 5\\nSkipping line 6905: expected 4 fields, saw 5\\nSkipping line 7230: expected 4 fields, saw 5\\nSkipping line 7291: expected 4 fields, saw 5\\nSkipping line 7428: expected 4 fields, saw 5\\nSkipping line 7454: expected 4 fields, saw 5\\nSkipping line 7465: expected 4 fields, saw 5\\nSkipping line 7478: expected 4 fields, saw 5\\nSkipping line 7594: expected 4 fields, saw 6\\nSkipping line 8071: expected 4 fields, saw 5\\nSkipping line 8072: expected 4 fields, saw 5\\nSkipping line 8077: expected 4 fields, saw 5\\nSkipping line 8109: expected 4 fields, saw 5\\nSkipping line 8114: expected 4 fields, saw 5\\nSkipping line 8140: expected 4 fields, saw 5\\nSkipping line 8172: expected 4 fields, saw 7\\nSkipping line 8260: expected 4 fields, saw 5\\nSkipping line 8349: expected 4 fields, saw 5\\nSkipping line 8410: expected 4 fields, saw 5\\nSkipping line 8478: expected 4 fields, saw 6\\nSkipping line 8489: expected 4 fields, saw 5\\nSkipping line 8566: expected 4 fields, saw 6\\nSkipping line 8568: expected 4 fields, saw 5\\nSkipping line 8646: expected 4 fields, saw 5\\nSkipping line 8693: expected 4 fields, saw 5\\nSkipping line 8744: expected 4 fields, saw 6\\nSkipping line 8751: expected 4 fields, saw 5\\nSkipping line 8754: expected 4 fields, saw 5\\nSkipping line 8761: expected 4 fields, saw 5\\nSkipping line 8806: expected 4 fields, saw 5\\nSkipping line 8808: expected 4 fields, saw 6\\nSkipping line 8829: expected 4 fields, saw 6\\nSkipping line 8910: expected 4 fields, saw 5\\nSkipping line 8926: expected 4 fields, saw 5\\nSkipping line 9030: expected 4 fields, saw 5\\nSkipping line 9123: expected 4 fields, saw 5\\nSkipping line 9186: expected 4 fields, saw 5\\nSkipping line 9427: expected 4 fields, saw 5\\nSkipping line 9477: expected 4 fields, saw 5\\nSkipping line 9479: expected 4 fields, saw 5\\nSkipping line 9516: expected 4 fields, saw 5\\nSkipping line 9643: expected 4 fields, saw 5\\nSkipping line 9672: expected 4 fields, saw 5\\nSkipping line 9679: expected 4 fields, saw 5\\nSkipping line 9736: expected 4 fields, saw 5\\nSkipping line 9812: expected 4 fields, saw 7\\nSkipping line 9813: expected 4 fields, saw 5\\nSkipping line 10055: expected 4 fields, saw 5\\nSkipping line 10170: expected 4 fields, saw 5\\nSkipping line 10259: expected 4 fields, saw 5\\nSkipping line 10395: expected 4 fields, saw 5\\nSkipping line 10624: expected 4 fields, saw 5\\nSkipping line 10721: expected 4 fields, saw 5\\nSkipping line 10822: expected 4 fields, saw 5\\nSkipping line 10939: expected 4 fields, saw 5\\nSkipping line 10982: expected 4 fields, saw 5\\nSkipping line 10983: expected 4 fields, saw 5\\nSkipping line 11020: expected 4 fields, saw 5\\nSkipping line 11047: expected 4 fields, saw 5\\nSkipping line 11057: expected 4 fields, saw 5\\nSkipping line 11523: expected 4 fields, saw 5\\nSkipping line 11569: expected 4 fields, saw 5\\nSkipping line 11825: expected 4 fields, saw 5\\nSkipping line 12082: expected 4 fields, saw 5\\nSkipping line 12129: expected 4 fields, saw 5\\nSkipping line 12437: expected 4 fields, saw 5\\nSkipping line 12497: expected 4 fields, saw 5\\nSkipping line 12541: expected 4 fields, saw 5\\nSkipping line 12659: expected 4 fields, saw 5\\nSkipping line 12757: expected 4 fields, saw 5\\nSkipping line 13036: expected 4 fields, saw 5\\nSkipping line 13037: expected 4 fields, saw 5\\nSkipping line 13165: expected 4 fields, saw 5\\nSkipping line 13244: expected 4 fields, saw 5\\nSkipping line 13279: expected 4 fields, saw 5\\nSkipping line 13318: expected 4 fields, saw 5\\nSkipping line 13606: expected 4 fields, saw 5\\nSkipping line 13615: expected 4 fields, saw 5\\nSkipping line 13663: expected 4 fields, saw 5\\nSkipping line 13666: expected 4 fields, saw 5\\nSkipping line 13717: expected 4 fields, saw 5\\nSkipping line 13773: expected 4 fields, saw 5\\nSkipping line 13791: expected 4 fields, saw 5\\nSkipping line 13876: expected 4 fields, saw 6\\nSkipping line 13890: expected 4 fields, saw 5\\nSkipping line 13908: expected 4 fields, saw 5\\nSkipping line 13979: expected 4 fields, saw 5\\nSkipping line 13992: expected 4 fields, saw 5\\nSkipping line 14139: expected 4 fields, saw 5\\nSkipping line 14185: expected 4 fields, saw 5\\nSkipping line 14198: expected 4 fields, saw 5\\nSkipping line 14303: expected 4 fields, saw 5\\nSkipping line 14304: expected 4 fields, saw 5\\nSkipping line 14951: expected 4 fields, saw 5\\nSkipping line 15109: expected 4 fields, saw 5\\nSkipping line 15189: expected 4 fields, saw 5\\nSkipping line 15571: expected 4 fields, saw 5\\nSkipping line 15578: expected 4 fields, saw 5\\nSkipping line 15640: expected 4 fields, saw 6\\nSkipping line 15722: expected 4 fields, saw 5\\nSkipping line 15826: expected 4 fields, saw 5\\nSkipping line 15846: expected 4 fields, saw 5\\nSkipping line 16097: expected 4 fields, saw 5\\nSkipping line 16155: expected 4 fields, saw 5\\nSkipping line 16343: expected 4 fields, saw 5\\nSkipping line 16346: expected 4 fields, saw 5\\nSkipping line 16371: expected 4 fields, saw 5\\nSkipping line 16549: expected 4 fields, saw 5\\nSkipping line 16853: expected 4 fields, saw 5\\nSkipping line 16897: expected 4 fields, saw 5\\nSkipping line 16968: expected 4 fields, saw 5\\nSkipping line 17091: expected 4 fields, saw 5\\nSkipping line 17093: expected 4 fields, saw 5\\nSkipping line 17484: expected 4 fields, saw 5\\nSkipping line 17793: expected 4 fields, saw 5\\nSkipping line 17813: expected 4 fields, saw 5\\nSkipping line 18130: expected 4 fields, saw 5\\nSkipping line 18217: expected 4 fields, saw 5\\nSkipping line 18300: expected 4 fields, saw 6\\nSkipping line 18337: expected 4 fields, saw 5\\nSkipping line 18419: expected 4 fields, saw 5\\nSkipping line 18473: expected 4 fields, saw 5\\nSkipping line 18479: expected 4 fields, saw 5\\nSkipping line 18486: expected 4 fields, saw 5\\nSkipping line 18490: expected 4 fields, saw 5\\nSkipping line 18547: expected 4 fields, saw 5\\nSkipping line 18625: expected 4 fields, saw 5\\nSkipping line 18901: expected 4 fields, saw 6\\nSkipping line 18904: expected 4 fields, saw 6\\nSkipping line 18940: expected 4 fields, saw 5\\nSkipping line 18983: expected 4 fields, saw 5\\nSkipping line 19181: expected 4 fields, saw 5\\nSkipping line 19367: expected 4 fields, saw 6\\nSkipping line 19452: expected 4 fields, saw 5\\nSkipping line 19756: expected 4 fields, saw 5\\nSkipping line 19780: expected 4 fields, saw 5\\nSkipping line 20040: expected 4 fields, saw 5\\nSkipping line 20067: expected 4 fields, saw 5\\nSkipping line 20068: expected 4 fields, saw 5\\nSkipping line 20069: expected 4 fields, saw 5\\nSkipping line 20096: expected 4 fields, saw 5\\nSkipping line 20116: expected 4 fields, saw 5\\nSkipping line 20117: expected 4 fields, saw 5\\nSkipping line 20211: expected 4 fields, saw 5\\nSkipping line 20395: expected 4 fields, saw 6\\nSkipping line 20871: expected 4 fields, saw 5\\nSkipping line 20961: expected 4 fields, saw 5\\nSkipping line 21013: expected 4 fields, saw 5\\nSkipping line 21064: expected 4 fields, saw 5\\nSkipping line 21107: expected 4 fields, saw 5\\nSkipping line 21139: expected 4 fields, saw 5\\nSkipping line 21247: expected 4 fields, saw 5\\nSkipping line 21269: expected 4 fields, saw 5\\nSkipping line 21397: expected 4 fields, saw 5\\nSkipping line 21414: expected 4 fields, saw 5\\nSkipping line 21418: expected 4 fields, saw 5\\nSkipping line 21422: expected 4 fields, saw 5\\nSkipping line 21453: expected 4 fields, saw 5\\nSkipping line 21501: expected 4 fields, saw 5\\nSkipping line 21512: expected 4 fields, saw 5\\nSkipping line 21558: expected 4 fields, saw 6\\nSkipping line 21569: expected 4 fields, saw 5\\nSkipping line 21617: expected 4 fields, saw 5\\nSkipping line 21807: expected 4 fields, saw 5\\nSkipping line 21816: expected 4 fields, saw 5\\nSkipping line 21825: expected 4 fields, saw 6\\nSkipping line 21828: expected 4 fields, saw 5\\nSkipping line 21912: expected 4 fields, saw 5\\nSkipping line 21929: expected 4 fields, saw 5\\nSkipping line 22028: expected 4 fields, saw 5\\nSkipping line 22034: expected 4 fields, saw 5\\nSkipping line 22168: expected 4 fields, saw 5\\nSkipping line 22336: expected 4 fields, saw 5\\nSkipping line 22667: expected 4 fields, saw 5\\nSkipping line 22693: expected 4 fields, saw 5\\nSkipping line 22750: expected 4 fields, saw 5\\nSkipping line 22816: expected 4 fields, saw 5\\nSkipping line 22979: expected 4 fields, saw 6\\nSkipping line 23259: expected 4 fields, saw 5\\nSkipping line 23353: expected 4 fields, saw 5\\nSkipping line 23470: expected 4 fields, saw 5\\nSkipping line 23513: expected 4 fields, saw 5\\nSkipping line 23717: expected 4 fields, saw 5\\nSkipping line 23781: expected 4 fields, saw 5\\nSkipping line 23839: expected 4 fields, saw 5\\nSkipping line 23842: expected 4 fields, saw 5\\nSkipping line 23861: expected 4 fields, saw 5\\nSkipping line 23862: expected 4 fields, saw 5\\nSkipping line 23918: expected 4 fields, saw 5\\nSkipping line 23973: expected 4 fields, saw 5\\nSkipping line 23977: expected 4 fields, saw 5\\nSkipping line 24009: expected 4 fields, saw 5\\nSkipping line 24026: expected 4 fields, saw 5\\nSkipping line 24041: expected 4 fields, saw 6\\nSkipping line 24046: expected 4 fields, saw 5\\nSkipping line 24066: expected 4 fields, saw 5\\nSkipping line 24077: expected 4 fields, saw 5\\nSkipping line 24170: expected 4 fields, saw 5\\nSkipping line 24209: expected 4 fields, saw 5\\nSkipping line 24267: expected 4 fields, saw 5\\nSkipping line 24417: expected 4 fields, saw 5\\nSkipping line 24511: expected 4 fields, saw 5\\nSkipping line 24571: expected 4 fields, saw 5\\nSkipping line 24655: expected 4 fields, saw 5\\nSkipping line 24667: expected 4 fields, saw 5\\nSkipping line 24770: expected 4 fields, saw 6\\nSkipping line 24795: expected 4 fields, saw 5\\nSkipping line 25067: expected 4 fields, saw 6\\nSkipping line 25085: expected 4 fields, saw 5\\nSkipping line 25126: expected 4 fields, saw 5\\nSkipping line 25134: expected 4 fields, saw 5\\nSkipping line 25173: expected 4 fields, saw 5\\nSkipping line 25469: expected 4 fields, saw 5\\nSkipping line 25807: expected 4 fields, saw 5\\nSkipping line 25995: expected 4 fields, saw 6\\nSkipping line 26085: expected 4 fields, saw 5\\nSkipping line 26119: expected 4 fields, saw 5\\nSkipping line 26132: expected 4 fields, saw 5\\nSkipping line 26169: expected 4 fields, saw 5\\nSkipping line 26170: expected 4 fields, saw 5\\nSkipping line 26217: expected 4 fields, saw 5\\nSkipping line 26374: expected 4 fields, saw 5\\nSkipping line 26377: expected 4 fields, saw 5\\nSkipping line 26382: expected 4 fields, saw 5\\nSkipping line 26455: expected 4 fields, saw 5\\nSkipping line 26584: expected 4 fields, saw 6\\nSkipping line 26588: expected 4 fields, saw 5\\nSkipping line 26627: expected 4 fields, saw 5\\nSkipping line 26647: expected 4 fields, saw 5\\nSkipping line 26734: expected 4 fields, saw 5\\nSkipping line 26864: expected 4 fields, saw 5\\nSkipping line 26895: expected 4 fields, saw 5\\nSkipping line 26958: expected 4 fields, saw 5\\nSkipping line 26964: expected 4 fields, saw 5\\nSkipping line 26965: expected 4 fields, saw 5\\nSkipping line 26966: expected 4 fields, saw 5\\nSkipping line 26967: expected 4 fields, saw 6\\nSkipping line 26968: expected 4 fields, saw 5\\nSkipping line 26983: expected 4 fields, saw 5\\nSkipping line 27002: expected 4 fields, saw 5\\nSkipping line 27035: expected 4 fields, saw 5\\nSkipping line 27042: expected 4 fields, saw 6\\nSkipping line 27106: expected 4 fields, saw 5\\nSkipping line 27225: expected 4 fields, saw 6\\nSkipping line 27242: expected 4 fields, saw 5\\nSkipping line 27245: expected 4 fields, saw 5\\nSkipping line 27250: expected 4 fields, saw 5\\nSkipping line 27281: expected 4 fields, saw 5\\nSkipping line 27301: expected 4 fields, saw 5\\nSkipping line 27341: expected 4 fields, saw 5\\nSkipping line 27344: expected 4 fields, saw 5\\nSkipping line 27353: expected 4 fields, saw 5\\nSkipping line 27405: expected 4 fields, saw 5\\nSkipping line 27429: expected 4 fields, saw 5\\nSkipping line 27715: expected 4 fields, saw 5\\nSkipping line 27872: expected 4 fields, saw 5\\nSkipping line 27931: expected 4 fields, saw 5\\nSkipping line 27987: expected 4 fields, saw 5\\nSkipping line 28149: expected 4 fields, saw 5\\nSkipping line 28235: expected 4 fields, saw 5\\nSkipping line 28408: expected 4 fields, saw 5\\nSkipping line 28462: expected 4 fields, saw 5\\nSkipping line 28467: expected 4 fields, saw 5\\nSkipping line 28471: expected 4 fields, saw 5\\nSkipping line 28540: expected 4 fields, saw 5\\nSkipping line 28542: expected 4 fields, saw 5\\nSkipping line 28551: expected 4 fields, saw 6\\nSkipping line 28554: expected 4 fields, saw 5\\nSkipping line 28601: expected 4 fields, saw 5\\nSkipping line 28620: expected 4 fields, saw 6\\nSkipping line 28637: expected 4 fields, saw 5\\nSkipping line 28682: expected 4 fields, saw 5\\nSkipping line 28789: expected 4 fields, saw 5\\nSkipping line 28862: expected 4 fields, saw 5\\nSkipping line 28899: expected 4 fields, saw 5\\nSkipping line 28979: expected 4 fields, saw 5\\nSkipping line 28980: expected 4 fields, saw 5\\nSkipping line 28981: expected 4 fields, saw 5\\nSkipping line 29007: expected 4 fields, saw 5\\nSkipping line 29140: expected 4 fields, saw 5\\nSkipping line 29193: expected 4 fields, saw 5\\nSkipping line 29220: expected 4 fields, saw 5\\nSkipping line 29227: expected 4 fields, saw 5\\nSkipping line 29236: expected 4 fields, saw 5\\nSkipping line 29239: expected 4 fields, saw 5\\nSkipping line 29278: expected 4 fields, saw 5\\nSkipping line 29349: expected 4 fields, saw 5\\nSkipping line 29352: expected 4 fields, saw 5\\nSkipping line 29576: expected 4 fields, saw 5\\nSkipping line 29694: expected 4 fields, saw 6\\nSkipping line 29696: expected 4 fields, saw 5\\nSkipping line 29715: expected 4 fields, saw 5\\nSkipping line 29860: expected 4 fields, saw 5\\nSkipping line 30027: expected 4 fields, saw 6\\nSkipping line 30030: expected 4 fields, saw 5\\nSkipping line 30098: expected 4 fields, saw 5\\nSkipping line 30103: expected 4 fields, saw 5\\nSkipping line 30104: expected 4 fields, saw 5\\nSkipping line 30140: expected 4 fields, saw 5\\nSkipping line 30209: expected 4 fields, saw 5\\nSkipping line 30211: expected 4 fields, saw 7\\nSkipping line 30299: expected 4 fields, saw 5\\nSkipping line 30300: expected 4 fields, saw 5\\nSkipping line 30318: expected 4 fields, saw 6\\nSkipping line 30333: expected 4 fields, saw 6\\nSkipping line 30350: expected 4 fields, saw 5\\nSkipping line 30631: expected 4 fields, saw 5\\nSkipping line 30669: expected 4 fields, saw 6\\nSkipping line 30981: expected 4 fields, saw 6\\nSkipping line 30986: expected 4 fields, saw 5\\nSkipping line 31068: expected 4 fields, saw 6\\nSkipping line 31073: expected 4 fields, saw 5\\nSkipping line 31127: expected 4 fields, saw 5\\nSkipping line 31135: expected 4 fields, saw 6\\nSkipping line 31254: expected 4 fields, saw 7\\nSkipping line 31258: expected 4 fields, saw 5\\nSkipping line 31265: expected 4 fields, saw 5\\nSkipping line 31525: expected 4 fields, saw 6\\nSkipping line 31707: expected 4 fields, saw 5\\nSkipping line 31719: expected 4 fields, saw 5\\nSkipping line 31756: expected 4 fields, saw 5\\nSkipping line 31846: expected 4 fields, saw 5\\nSkipping line 32141: expected 4 fields, saw 5\\nSkipping line 32169: expected 4 fields, saw 5\\nSkipping line 32347: expected 4 fields, saw 5\\nSkipping line 32353: expected 4 fields, saw 5\\nSkipping line 32374: expected 4 fields, saw 5\\nSkipping line 32419: expected 4 fields, saw 5\\nSkipping line 32536: expected 4 fields, saw 5\\nSkipping line 32732: expected 4 fields, saw 6\\nSkipping line 32850: expected 4 fields, saw 5\\nSkipping line 32991: expected 4 fields, saw 5\\nSkipping line 33028: expected 4 fields, saw 5\\nSkipping line 33051: expected 4 fields, saw 5\\nSkipping line 33095: expected 4 fields, saw 5\\nSkipping line 33344: expected 4 fields, saw 5\\nSkipping line 33567: expected 4 fields, saw 5\\nSkipping line 33607: expected 4 fields, saw 5\\nSkipping line 33666: expected 4 fields, saw 5\\nSkipping line 33687: expected 4 fields, saw 5\\nSkipping line 33705: expected 4 fields, saw 5\\nSkipping line 33727: expected 4 fields, saw 5\\nSkipping line 33735: expected 4 fields, saw 5\\nSkipping line 33785: expected 4 fields, saw 5\\nSkipping line 33867: expected 4 fields, saw 5\\nSkipping line 33876: expected 4 fields, saw 5\\nSkipping line 33891: expected 4 fields, saw 5\\nSkipping line 34055: expected 4 fields, saw 5\\nSkipping line 34071: expected 4 fields, saw 5\\nSkipping line 34090: expected 4 fields, saw 5\\nSkipping line 34495: expected 4 fields, saw 5\\nSkipping line 34687: expected 4 fields, saw 5\\nSkipping line 34692: expected 4 fields, saw 5\\nSkipping line 34732: expected 4 fields, saw 5\\nSkipping line 34883: expected 4 fields, saw 5\\nSkipping line 34958: expected 4 fields, saw 5\\nSkipping line 35060: expected 4 fields, saw 5\\nSkipping line 35061: expected 4 fields, saw 5\\nSkipping line 35135: expected 4 fields, saw 5\\nSkipping line 35150: expected 4 fields, saw 5\\nSkipping line 35162: expected 4 fields, saw 5\\nSkipping line 35163: expected 4 fields, saw 5\\nSkipping line 35164: expected 4 fields, saw 5\\nSkipping line 35165: expected 4 fields, saw 5\\nSkipping line 35169: expected 4 fields, saw 5\\nSkipping line 35208: expected 4 fields, saw 6\\nSkipping line 35262: expected 4 fields, saw 5\\nSkipping line 35288: expected 4 fields, saw 5\\nSkipping line 35369: expected 4 fields, saw 5\\nSkipping line 35370: expected 4 fields, saw 5\\nSkipping line 35426: expected 4 fields, saw 5\\nSkipping line 35428: expected 4 fields, saw 5\\nSkipping line 35429: expected 4 fields, saw 5\\nSkipping line 35430: expected 4 fields, saw 5\\nSkipping line 35559: expected 4 fields, saw 5\\nSkipping line 35627: expected 4 fields, saw 5\\nSkipping line 35676: expected 4 fields, saw 5\\nSkipping line 35793: expected 4 fields, saw 5\\nSkipping line 35825: expected 4 fields, saw 5\\nSkipping line 35927: expected 4 fields, saw 5\\nSkipping line 35928: expected 4 fields, saw 5\\nSkipping line 35994: expected 4 fields, saw 5\\nSkipping line 36084: expected 4 fields, saw 5\\nSkipping line 36095: expected 4 fields, saw 5\\nSkipping line 36108: expected 4 fields, saw 5\\nSkipping line 36224: expected 4 fields, saw 6\\nSkipping line 36379: expected 4 fields, saw 5\\nSkipping line 36437: expected 4 fields, saw 5\\nSkipping line 36512: expected 4 fields, saw 5\\nSkipping line 36541: expected 4 fields, saw 5\\nSkipping line 36546: expected 4 fields, saw 5\\nSkipping line 36550: expected 4 fields, saw 6\\nSkipping line 36583: expected 4 fields, saw 5\\nSkipping line 36707: expected 4 fields, saw 5\\nSkipping line 36898: expected 4 fields, saw 5\\nSkipping line 36917: expected 4 fields, saw 6\\nSkipping line 36918: expected 4 fields, saw 5\\nSkipping line 37105: expected 4 fields, saw 5\\nSkipping line 37155: expected 4 fields, saw 5\\nSkipping line 37186: expected 4 fields, saw 5\\nSkipping line 37253: expected 4 fields, saw 5\\nSkipping line 37291: expected 4 fields, saw 5\\nSkipping line 37303: expected 4 fields, saw 5\\nSkipping line 37308: expected 4 fields, saw 6\\nSkipping line 37325: expected 4 fields, saw 5\\nSkipping line 37340: expected 4 fields, saw 5\\nSkipping line 37429: expected 4 fields, saw 5\\nSkipping line 37544: expected 4 fields, saw 5\\nSkipping line 37547: expected 4 fields, saw 5\\nSkipping line 37560: expected 4 fields, saw 5\\nSkipping line 37607: expected 4 fields, saw 5\\nSkipping line 37619: expected 4 fields, saw 5\\nSkipping line 38156: expected 4 fields, saw 5\\nSkipping line 38174: expected 4 fields, saw 5\\nSkipping line 38225: expected 4 fields, saw 5\\nSkipping line 38231: expected 4 fields, saw 5\\nSkipping line 38232: expected 4 fields, saw 5\\nSkipping line 38260: expected 4 fields, saw 5\\nSkipping line 38275: expected 4 fields, saw 6\\nSkipping line 38304: expected 4 fields, saw 5\\nSkipping line 38336: expected 4 fields, saw 5\\nSkipping line 38411: expected 4 fields, saw 5\\nSkipping line 38418: expected 4 fields, saw 5\\nSkipping line 38420: expected 4 fields, saw 5\\nSkipping line 38477: expected 4 fields, saw 5\\nSkipping line 38508: expected 4 fields, saw 5\\nSkipping line 38535: expected 4 fields, saw 6\\nSkipping line 38842: expected 4 fields, saw 5\\nSkipping line 38996: expected 4 fields, saw 5\\nSkipping line 38997: expected 4 fields, saw 5\\nSkipping line 39372: expected 4 fields, saw 6\\nSkipping line 39457: expected 4 fields, saw 5\\nSkipping line 39482: expected 4 fields, saw 5\\nSkipping line 39487: expected 4 fields, saw 5\\nSkipping line 39490: expected 4 fields, saw 5\\nSkipping line 39583: expected 4 fields, saw 5\\nSkipping line 39624: expected 4 fields, saw 5\\nSkipping line 39725: expected 4 fields, saw 5\\nSkipping line 39797: expected 4 fields, saw 5\\nSkipping line 39800: expected 4 fields, saw 5\\nSkipping line 39803: expected 4 fields, saw 6\\nSkipping line 39806: expected 4 fields, saw 5\\nSkipping line 39831: expected 4 fields, saw 5\\nSkipping line 39838: expected 4 fields, saw 5\\nSkipping line 39938: expected 4 fields, saw 5\\nSkipping line 39966: expected 4 fields, saw 5\\nSkipping line 40323: expected 4 fields, saw 5\\nSkipping line 40826: expected 4 fields, saw 5\\nSkipping line 41012: expected 4 fields, saw 5\\nSkipping line 41034: expected 4 fields, saw 5\\nSkipping line 41035: expected 4 fields, saw 5\\nSkipping line 41036: expected 4 fields, saw 5\\nSkipping line 41039: expected 4 fields, saw 5\\nSkipping line 41041: expected 4 fields, saw 5\\nSkipping line 41091: expected 4 fields, saw 5\\nSkipping line 41218: expected 4 fields, saw 6\\nSkipping line 41326: expected 4 fields, saw 6\\nSkipping line 41332: expected 4 fields, saw 5\\nSkipping line 41386: expected 4 fields, saw 6\\nSkipping line 41428: expected 4 fields, saw 5\\nSkipping line 41513: expected 4 fields, saw 5\\nSkipping line 41531: expected 4 fields, saw 5\\nSkipping line 41593: expected 4 fields, saw 5\\nSkipping line 41624: expected 4 fields, saw 5\\nSkipping line 41627: expected 4 fields, saw 5\\nSkipping line 41714: expected 4 fields, saw 5\\nSkipping line 41797: expected 4 fields, saw 5\\nSkipping line 41855: expected 4 fields, saw 5\\nSkipping line 42011: expected 4 fields, saw 5\\nSkipping line 42080: expected 4 fields, saw 5\\nSkipping line 42496: expected 4 fields, saw 5\\nSkipping line 42510: expected 4 fields, saw 6\\nSkipping line 42534: expected 4 fields, saw 5\\nSkipping line 42541: expected 4 fields, saw 5\\nSkipping line 42592: expected 4 fields, saw 5\\nSkipping line 42610: expected 4 fields, saw 7\\nSkipping line 42625: expected 4 fields, saw 5\\nSkipping line 42657: expected 4 fields, saw 5\\nSkipping line 42727: expected 4 fields, saw 5\\nSkipping line 42736: expected 4 fields, saw 5\\nSkipping line 42737: expected 4 fields, saw 5\\nSkipping line 42772: expected 4 fields, saw 5\\nSkipping line 42852: expected 4 fields, saw 5\\nSkipping line 42853: expected 4 fields, saw 5\\nSkipping line 42948: expected 4 fields, saw 6\\nSkipping line 42986: expected 4 fields, saw 5\\nSkipping line 43099: expected 4 fields, saw 5\\nSkipping line 43105: expected 4 fields, saw 7\\nSkipping line 43115: expected 4 fields, saw 5\\nSkipping line 43176: expected 4 fields, saw 6\\nSkipping line 43177: expected 4 fields, saw 5\\nSkipping line 43423: expected 4 fields, saw 6\\nSkipping line 43432: expected 4 fields, saw 5\\nSkipping line 43440: expected 4 fields, saw 5\\nSkipping line 43460: expected 4 fields, saw 5\\nSkipping line 43476: expected 4 fields, saw 5\\nSkipping line 43494: expected 4 fields, saw 5\\nSkipping line 43506: expected 4 fields, saw 6\\nSkipping line 43514: expected 4 fields, saw 6\\nSkipping line 43528: expected 4 fields, saw 5\\nSkipping line 43540: expected 4 fields, saw 5\\nSkipping line 43559: expected 4 fields, saw 5\\nSkipping line 43575: expected 4 fields, saw 6\\nSkipping line 43577: expected 4 fields, saw 5\\nSkipping line 43582: expected 4 fields, saw 5\\nSkipping line 43599: expected 4 fields, saw 5\\nSkipping line 43614: expected 4 fields, saw 6\\nSkipping line 43839: expected 4 fields, saw 5\\nSkipping line 43853: expected 4 fields, saw 5\\nSkipping line 43895: expected 4 fields, saw 5\\nSkipping line 43906: expected 4 fields, saw 5\\nSkipping line 43925: expected 4 fields, saw 5\\nSkipping line 43931: expected 4 fields, saw 5\\nSkipping line 43939: expected 4 fields, saw 7\\nSkipping line 44042: expected 4 fields, saw 5\\nSkipping line 44053: expected 4 fields, saw 5\\nSkipping line 44067: expected 4 fields, saw 5\\nSkipping line 44095: expected 4 fields, saw 5\\nSkipping line 44098: expected 4 fields, saw 5\\nSkipping line 44100: expected 4 fields, saw 5\\nSkipping line 44150: expected 4 fields, saw 5\\nSkipping line 44235: expected 4 fields, saw 6\\nSkipping line 44247: expected 4 fields, saw 5\\nSkipping line 44288: expected 4 fields, saw 6\\nSkipping line 44305: expected 4 fields, saw 5\\nSkipping line 44334: expected 4 fields, saw 5\\nSkipping line 44554: expected 4 fields, saw 5\\nSkipping line 44594: expected 4 fields, saw 5\\nSkipping line 44687: expected 4 fields, saw 5\\nSkipping line 44707: expected 4 fields, saw 5\\nSkipping line 45019: expected 4 fields, saw 5\\nSkipping line 45047: expected 4 fields, saw 5\\nSkipping line 45181: expected 4 fields, saw 5\\nSkipping line 45460: expected 4 fields, saw 5\\nSkipping line 45514: expected 4 fields, saw 5\\nSkipping line 45524: expected 4 fields, saw 5\\nSkipping line 45751: expected 4 fields, saw 5\\nSkipping line 46002: expected 4 fields, saw 5\\nSkipping line 46115: expected 4 fields, saw 5\\nSkipping line 46139: expected 4 fields, saw 5\\nSkipping line 46227: expected 4 fields, saw 5\\nSkipping line 46285: expected 4 fields, saw 5\\nSkipping line 46316: expected 4 fields, saw 5\\nSkipping line 46325: expected 4 fields, saw 5\\nSkipping line 46360: expected 4 fields, saw 5\\nSkipping line 46366: expected 4 fields, saw 5\\nSkipping line 46483: expected 4 fields, saw 5\\nSkipping line 46712: expected 4 fields, saw 5\\nSkipping line 46730: expected 4 fields, saw 5\\nSkipping line 46750: expected 4 fields, saw 5\\nSkipping line 46763: expected 4 fields, saw 5\\nSkipping line 46811: expected 4 fields, saw 5\\nSkipping line 46825: expected 4 fields, saw 5\\nSkipping line 47185: expected 4 fields, saw 5\\nSkipping line 47257: expected 4 fields, saw 6\\nSkipping line 47365: expected 4 fields, saw 5\\nSkipping line 47409: expected 4 fields, saw 5\\nSkipping line 47470: expected 4 fields, saw 5\\nSkipping line 47498: expected 4 fields, saw 5\\nSkipping line 47518: expected 4 fields, saw 5\\nSkipping line 47566: expected 4 fields, saw 5\\nSkipping line 47740: expected 4 fields, saw 5\\nSkipping line 47945: expected 4 fields, saw 5\\nSkipping line 48047: expected 4 fields, saw 5\\nSkipping line 48103: expected 4 fields, saw 5\\nSkipping line 48124: expected 4 fields, saw 5\\nSkipping line 48287: expected 4 fields, saw 5\\nSkipping line 48304: expected 4 fields, saw 5\\nSkipping line 48383: expected 4 fields, saw 5\\nSkipping line 48385: expected 4 fields, saw 6\\nSkipping line 48413: expected 4 fields, saw 6\\nSkipping line 48443: expected 4 fields, saw 5\\nSkipping line 48520: expected 4 fields, saw 5\\nSkipping line 48664: expected 4 fields, saw 5\\nSkipping line 48721: expected 4 fields, saw 7\\nSkipping line 48727: expected 4 fields, saw 5\\nSkipping line 48735: expected 4 fields, saw 5\\nSkipping line 48739: expected 4 fields, saw 5\\nSkipping line 48752: expected 4 fields, saw 5\\nSkipping line 48796: expected 4 fields, saw 6\\nSkipping line 48891: expected 4 fields, saw 5\\nSkipping line 48946: expected 4 fields, saw 6\\nSkipping line 48950: expected 4 fields, saw 5\\nSkipping line 48959: expected 4 fields, saw 5\\nSkipping line 48964: expected 4 fields, saw 5\\nSkipping line 48991: expected 4 fields, saw 5\\nSkipping line 48996: expected 4 fields, saw 5\\nSkipping line 49056: expected 4 fields, saw 5\\nSkipping line 49151: expected 4 fields, saw 6\\nSkipping line 49207: expected 4 fields, saw 5\\nSkipping line 49219: expected 4 fields, saw 5\\nSkipping line 49285: expected 4 fields, saw 6\\nSkipping line 49339: expected 4 fields, saw 6\\nSkipping line 49346: expected 4 fields, saw 6\\nSkipping line 49353: expected 4 fields, saw 5\\nSkipping line 49356: expected 4 fields, saw 5\\nSkipping line 49371: expected 4 fields, saw 5\\nSkipping line 49381: expected 4 fields, saw 5\\nSkipping line 49409: expected 4 fields, saw 5\\nSkipping line 49843: expected 4 fields, saw 6\\nSkipping line 49855: expected 4 fields, saw 5\\nSkipping line 49905: expected 4 fields, saw 5\\nSkipping line 49993: expected 4 fields, saw 5\\nSkipping line 50017: expected 4 fields, saw 6\\nSkipping line 50166: expected 4 fields, saw 5\\nSkipping line 50183: expected 4 fields, saw 5\\nSkipping line 50228: expected 4 fields, saw 5\\nSkipping line 50256: expected 4 fields, saw 5\\nSkipping line 50280: expected 4 fields, saw 5\\nSkipping line 50368: expected 4 fields, saw 5\\nSkipping line 50377: expected 4 fields, saw 5\\nSkipping line 50420: expected 4 fields, saw 6\\nSkipping line 50433: expected 4 fields, saw 5\\nSkipping line 50492: expected 4 fields, saw 5\\nSkipping line 50497: expected 4 fields, saw 5\\nSkipping line 50512: expected 4 fields, saw 5\\nSkipping line 50519: expected 4 fields, saw 5\\nSkipping line 50711: expected 4 fields, saw 5\\nSkipping line 50724: expected 4 fields, saw 5\\nSkipping line 51048: expected 4 fields, saw 5\\nSkipping line 51049: expected 4 fields, saw 5\\nSkipping line 51238: expected 4 fields, saw 6\\nSkipping line 51392: expected 4 fields, saw 5\\nSkipping line 51444: expected 4 fields, saw 5\\nSkipping line 51534: expected 4 fields, saw 6\\nSkipping line 51539: expected 4 fields, saw 7\\nSkipping line 51540: expected 4 fields, saw 6\\nSkipping line 51548: expected 4 fields, saw 5\\nSkipping line 51647: expected 4 fields, saw 6\\nSkipping line 51914: expected 4 fields, saw 5\\nSkipping line 52075: expected 4 fields, saw 5\\nSkipping line 52084: expected 4 fields, saw 5\\nSkipping line 52093: expected 4 fields, saw 5\\nSkipping line 52099: expected 4 fields, saw 5\\nSkipping line 52100: expected 4 fields, saw 5\\nSkipping line 52111: expected 4 fields, saw 5\\nSkipping line 52112: expected 4 fields, saw 5\\nSkipping line 52115: expected 4 fields, saw 5\\nSkipping line 52389: expected 4 fields, saw 5\\nSkipping line 52413: expected 4 fields, saw 5\\nSkipping line 52487: expected 4 fields, saw 5\\nSkipping line 52534: expected 4 fields, saw 5\\nSkipping line 52597: expected 4 fields, saw 5\\nSkipping line 52642: expected 4 fields, saw 5\\nSkipping line 52698: expected 4 fields, saw 5\\nSkipping line 52858: expected 4 fields, saw 5\\nSkipping line 52870: expected 4 fields, saw 6\\nSkipping line 52896: expected 4 fields, saw 5\\nSkipping line 52910: expected 4 fields, saw 5\\nSkipping line 53076: expected 4 fields, saw 6\\nSkipping line 53108: expected 4 fields, saw 6\\nSkipping line 53151: expected 4 fields, saw 5\\nSkipping line 53361: expected 4 fields, saw 5\\nSkipping line 53374: expected 4 fields, saw 5\\nSkipping line 53421: expected 4 fields, saw 5\\nSkipping line 53615: expected 4 fields, saw 5\\nSkipping line 53637: expected 4 fields, saw 5\\nSkipping line 53646: expected 4 fields, saw 5\\nSkipping line 53697: expected 4 fields, saw 5\\nSkipping line 53749: expected 4 fields, saw 5\\nSkipping line 53804: expected 4 fields, saw 5\\nSkipping line 53805: expected 4 fields, saw 5\\nSkipping line 53835: expected 4 fields, saw 6\\nSkipping line 53842: expected 4 fields, saw 5\\nSkipping line 54025: expected 4 fields, saw 6\\nSkipping line 54120: expected 4 fields, saw 5\\nSkipping line 54237: expected 4 fields, saw 5\\nSkipping line 54259: expected 4 fields, saw 5\\nSkipping line 54261: expected 4 fields, saw 5\\nSkipping line 54403: expected 4 fields, saw 5\\nSkipping line 54416: expected 4 fields, saw 5\\nSkipping line 54440: expected 4 fields, saw 5\\nSkipping line 54520: expected 4 fields, saw 5\\nSkipping line 54541: expected 4 fields, saw 5\\nSkipping line 54580: expected 4 fields, saw 5\\nSkipping line 54587: expected 4 fields, saw 6\\nSkipping line 54709: expected 4 fields, saw 5\\nSkipping line 54798: expected 4 fields, saw 5\\nSkipping line 54891: expected 4 fields, saw 5\\nSkipping line 55147: expected 4 fields, saw 5\\nSkipping line 55212: expected 4 fields, saw 5\\nSkipping line 55314: expected 4 fields, saw 5\\nSkipping line 55494: expected 4 fields, saw 5\\nSkipping line 55621: expected 4 fields, saw 5\\nSkipping line 55785: expected 4 fields, saw 5\\nSkipping line 55880: expected 4 fields, saw 5\\nSkipping line 55929: expected 4 fields, saw 6\\nSkipping line 56004: expected 4 fields, saw 5\\nSkipping line 56140: expected 4 fields, saw 5\\nSkipping line 56164: expected 4 fields, saw 5\\nSkipping line 56468: expected 4 fields, saw 5\\nSkipping line 56530: expected 4 fields, saw 5\\nSkipping line 56540: expected 4 fields, saw 7\\nSkipping line 56542: expected 4 fields, saw 5\\nSkipping line 56544: expected 4 fields, saw 5\\nSkipping line 56554: expected 4 fields, saw 6\\nSkipping line 56568: expected 4 fields, saw 6\\nSkipping line 56721: expected 4 fields, saw 5\\nSkipping line 57117: expected 4 fields, saw 5\\nSkipping line 57209: expected 4 fields, saw 5\\nSkipping line 57222: expected 4 fields, saw 5\\nSkipping line 57282: expected 4 fields, saw 5\\nSkipping line 57419: expected 4 fields, saw 5\\nSkipping line 57443: expected 4 fields, saw 5\\nSkipping line 57493: expected 4 fields, saw 5\\nSkipping line 57518: expected 4 fields, saw 5\\nSkipping line 57670: expected 4 fields, saw 5\\nSkipping line 57734: expected 4 fields, saw 5\\nSkipping line 57840: expected 4 fields, saw 5\\nSkipping line 57856: expected 4 fields, saw 5\\nSkipping line 57864: expected 4 fields, saw 5\\nSkipping line 57965: expected 4 fields, saw 5\\nSkipping line 58021: expected 4 fields, saw 5\\nSkipping line 58061: expected 4 fields, saw 5\\nSkipping line 58073: expected 4 fields, saw 5\\nSkipping line 58074: expected 4 fields, saw 5\\nSkipping line 58231: expected 4 fields, saw 5\\nSkipping line 58729: expected 4 fields, saw 5\\nSkipping line 58858: expected 4 fields, saw 5\\nSkipping line 58890: expected 4 fields, saw 5\\nSkipping line 58909: expected 4 fields, saw 5\\nSkipping line 58965: expected 4 fields, saw 5\\nSkipping line 59072: expected 4 fields, saw 5\\nSkipping line 59151: expected 4 fields, saw 5\\nSkipping line 59156: expected 4 fields, saw 6\\nSkipping line 59275: expected 4 fields, saw 5\\nSkipping line 59277: expected 4 fields, saw 6\\nSkipping line 59289: expected 4 fields, saw 5\\nSkipping line 59416: expected 4 fields, saw 6\\nSkipping line 59726: expected 4 fields, saw 5\\nSkipping line 59850: expected 4 fields, saw 5\\nSkipping line 60090: expected 4 fields, saw 5\\nSkipping line 60102: expected 4 fields, saw 5\\nSkipping line 60149: expected 4 fields, saw 5\\nSkipping line 60267: expected 4 fields, saw 5\\nSkipping line 60287: expected 4 fields, saw 5\\nSkipping line 60292: expected 4 fields, saw 5\\nSkipping line 60382: expected 4 fields, saw 5\\nSkipping line 60459: expected 4 fields, saw 5\\nSkipping line 60476: expected 4 fields, saw 5\\nSkipping line 60584: expected 4 fields, saw 5\\nSkipping line 60690: expected 4 fields, saw 5\\nSkipping line 60829: expected 4 fields, saw 5\\nSkipping line 60852: expected 4 fields, saw 5\\nSkipping line 60899: expected 4 fields, saw 5\\nSkipping line 60952: expected 4 fields, saw 5\\nSkipping line 60963: expected 4 fields, saw 5\\nSkipping line 60964: expected 4 fields, saw 5\\nSkipping line 60965: expected 4 fields, saw 5\\nSkipping line 60966: expected 4 fields, saw 5\\nSkipping line 61021: expected 4 fields, saw 5\\nSkipping line 61083: expected 4 fields, saw 5\\nSkipping line 61107: expected 4 fields, saw 5\\nSkipping line 61144: expected 4 fields, saw 5\\nSkipping line 61192: expected 4 fields, saw 5\\nSkipping line 61406: expected 4 fields, saw 5\\nSkipping line 61581: expected 4 fields, saw 6\\nSkipping line 61745: expected 4 fields, saw 5\\nSkipping line 61746: expected 4 fields, saw 6\\nSkipping line 61748: expected 4 fields, saw 5\\nSkipping line 61759: expected 4 fields, saw 5\\nSkipping line 61760: expected 4 fields, saw 7\\nSkipping line 61847: expected 4 fields, saw 5\\nSkipping line 61877: expected 4 fields, saw 5\\nSkipping line 62079: expected 4 fields, saw 5\\nSkipping line 62216: expected 4 fields, saw 5\\nSkipping line 62217: expected 4 fields, saw 5\\nSkipping line 62218: expected 4 fields, saw 5\\nSkipping line 62219: expected 4 fields, saw 5\\nSkipping line 62315: expected 4 fields, saw 5\\nSkipping line 62342: expected 4 fields, saw 5\\nSkipping line 62603: expected 4 fields, saw 5\\nSkipping line 62642: expected 4 fields, saw 5\\nSkipping line 62685: expected 4 fields, saw 5\\nSkipping line 62730: expected 4 fields, saw 5\\nSkipping line 62767: expected 4 fields, saw 8\\nSkipping line 62769: expected 4 fields, saw 5\\nSkipping line 62804: expected 4 fields, saw 5\\nSkipping line 62809: expected 4 fields, saw 5\\nSkipping line 62856: expected 4 fields, saw 5\\nSkipping line 62888: expected 4 fields, saw 7\\nSkipping line 63059: expected 4 fields, saw 5\\nSkipping line 63106: expected 4 fields, saw 5\\nSkipping line 63209: expected 4 fields, saw 5\\nSkipping line 63438: expected 4 fields, saw 5\\nSkipping line 63594: expected 4 fields, saw 5\\nSkipping line 63643: expected 4 fields, saw 5\\nSkipping line 63765: expected 4 fields, saw 7\\nSkipping line 63866: expected 4 fields, saw 5\\nSkipping line 63919: expected 4 fields, saw 5\\nSkipping line 63926: expected 4 fields, saw 5\\nSkipping line 63971: expected 4 fields, saw 5\\nSkipping line 64261: expected 4 fields, saw 5\\nSkipping line 64331: expected 4 fields, saw 5\\nSkipping line 64613: expected 4 fields, saw 5\\nSkipping line 64658: expected 4 fields, saw 5\\nSkipping line 64678: expected 4 fields, saw 5\\nSkipping line 64730: expected 4 fields, saw 5\\nSkipping line 64769: expected 4 fields, saw 5\\nSkipping line 64810: expected 4 fields, saw 5\\nSkipping line 64914: expected 4 fields, saw 6\\nSkipping line 64926: expected 4 fields, saw 5\\nSkipping line 64956: expected 4 fields, saw 5\\nSkipping line 65394: expected 4 fields, saw 5\\nSkipping line 65403: expected 4 fields, saw 5\\nSkipping line 65451: expected 4 fields, saw 5\\nSkipping line 65454: expected 4 fields, saw 5\\nSkipping line 65505: expected 4 fields, saw 5\\nSkipping line 65561: expected 4 fields, saw 5\\nSkipping line 65579: expected 4 fields, saw 5\\nSkipping line 65664: expected 4 fields, saw 6\\nSkipping line 65678: expected 4 fields, saw 5\\nSkipping line 65696: expected 4 fields, saw 5\\nSkipping line 65767: expected 4 fields, saw 5\\nSkipping line 65780: expected 4 fields, saw 5\\nSkipping line 65927: expected 4 fields, saw 5\\nSkipping line 65973: expected 4 fields, saw 5\\nSkipping line 65986: expected 4 fields, saw 5\\nSkipping line 66091: expected 4 fields, saw 5\\nSkipping line 66092: expected 4 fields, saw 5\\nSkipping line 66350: expected 4 fields, saw 5\\nSkipping line 66353: expected 4 fields, saw 5\\nSkipping line 66738: expected 4 fields, saw 5\\nSkipping line 66839: expected 4 fields, saw 5\\nSkipping line 66899: expected 4 fields, saw 5\\nSkipping line 66947: expected 4 fields, saw 5\\nSkipping line 67068: expected 4 fields, saw 5\\nSkipping line 67127: expected 4 fields, saw 5\\nSkipping line 67213: expected 4 fields, saw 5\\nSkipping line 67407: expected 4 fields, saw 5\\nSkipping line 67518: expected 4 fields, saw 5\\nSkipping line 67522: expected 4 fields, saw 5\\nSkipping line 67677: expected 4 fields, saw 5\\nSkipping line 67910: expected 4 fields, saw 5\\nSkipping line 67952: expected 4 fields, saw 7\\nSkipping line 67964: expected 4 fields, saw 6\\nSkipping line 67965: expected 4 fields, saw 5\\nSkipping line 68128: expected 4 fields, saw 5\\nSkipping line 68213: expected 4 fields, saw 5\\nSkipping line 68214: expected 4 fields, saw 5\\nSkipping line 68237: expected 4 fields, saw 5\\nSkipping line 68262: expected 4 fields, saw 5\\nSkipping line 68290: expected 4 fields, saw 5\\nSkipping line 68423: expected 4 fields, saw 5\\nSkipping line 68448: expected 4 fields, saw 5\\nSkipping line 68464: expected 4 fields, saw 5\\nSkipping line 68466: expected 4 fields, saw 5\\nSkipping line 68467: expected 4 fields, saw 5\\nSkipping line 68516: expected 4 fields, saw 5\\nSkipping line 68557: expected 4 fields, saw 6\\nSkipping line 68617: expected 4 fields, saw 5\\nSkipping line 68633: expected 4 fields, saw 5\\nSkipping line 68634: expected 4 fields, saw 5\\nSkipping line 68747: expected 4 fields, saw 5\\nSkipping line 68824: expected 4 fields, saw 5\\nSkipping line 69229: expected 4 fields, saw 5\\nSkipping line 69250: expected 4 fields, saw 5\\nSkipping line 69298: expected 4 fields, saw 5\\nSkipping line 69302: expected 4 fields, saw 5\\nSkipping line 69303: expected 4 fields, saw 5\\nSkipping line 69482: expected 4 fields, saw 5\\nSkipping line 69716: expected 4 fields, saw 5\\nSkipping line 69804: expected 4 fields, saw 5\\nSkipping line 69813: expected 4 fields, saw 6\\nSkipping line 69815: expected 4 fields, saw 5\\nSkipping line 69841: expected 4 fields, saw 5\\nSkipping line 69848: expected 4 fields, saw 5\\nSkipping line 69851: expected 4 fields, saw 6\\nSkipping line 69925: expected 4 fields, saw 5\\nSkipping line 69927: expected 4 fields, saw 5\\nSkipping line 69936: expected 4 fields, saw 5\\nSkipping line 69941: expected 4 fields, saw 5\\nSkipping line 69943: expected 4 fields, saw 5\\nSkipping line 70137: expected 4 fields, saw 5\\nSkipping line 70182: expected 4 fields, saw 5\\nSkipping line 70447: expected 4 fields, saw 5\\nSkipping line 70455: expected 4 fields, saw 5\\nSkipping line 70654: expected 4 fields, saw 5\\nSkipping line 70791: expected 4 fields, saw 5\\nSkipping line 71127: expected 4 fields, saw 5\\nSkipping line 71147: expected 4 fields, saw 5\\nSkipping line 71148: expected 4 fields, saw 5\\nSkipping line 71242: expected 4 fields, saw 5\\nSkipping line 71311: expected 4 fields, saw 5\\nSkipping line 71439: expected 4 fields, saw 5\\nSkipping line 71526: expected 4 fields, saw 5\\nSkipping line 71666: expected 4 fields, saw 6\\nSkipping line 71759: expected 4 fields, saw 5\\nSkipping line 71795: expected 4 fields, saw 5\\nSkipping line 71843: expected 4 fields, saw 5\\nSkipping line 71938: expected 4 fields, saw 5\\nSkipping line 72613: expected 4 fields, saw 5\\nSkipping line 72934: expected 4 fields, saw 5\\nSkipping line 72957: expected 4 fields, saw 5\\nSkipping line 72958: expected 4 fields, saw 5\\nSkipping line 73028: expected 4 fields, saw 5\\nSkipping line 73125: expected 4 fields, saw 5\\nSkipping line 73142: expected 4 fields, saw 5\\nSkipping line 73197: expected 4 fields, saw 5\\nSkipping line 73317: expected 4 fields, saw 5\\nSkipping line 73319: expected 4 fields, saw 5\\nSkipping line 73465: expected 4 fields, saw 5\\nSkipping line 73518: expected 4 fields, saw 5\\nSkipping line 73749: expected 4 fields, saw 5\\nSkipping line 73869: expected 4 fields, saw 5\\nSkipping line 74421: expected 4 fields, saw 6\\nSkipping line 74483: expected 4 fields, saw 5\\nSkipping line 74484: expected 4 fields, saw 5\\nSkipping line 74502: expected 4 fields, saw 5\\nSkipping line 74533: expected 4 fields, saw 6\\nSkipping line 74568: expected 4 fields, saw 5\\nSkipping line 74596: expected 4 fields, saw 5\\nSkipping line 74623: expected 4 fields, saw 5\\nSkipping line 74663: expected 4 fields, saw 5\\nSkipping line 74695: expected 4 fields, saw 5\\nSkipping line 74816: expected 4 fields, saw 5\\nSkipping line 75002: expected 4 fields, saw 5\\nSkipping line 75026: expected 4 fields, saw 5\\nSkipping line 75045: expected 4 fields, saw 6\\nSkipping line 75062: expected 4 fields, saw 5\\nSkipping line 75512: expected 4 fields, saw 5\\nSkipping line 75516: expected 4 fields, saw 5\\nSkipping line 75538: expected 4 fields, saw 5\\nSkipping line 75539: expected 4 fields, saw 5\\nSkipping line 75546: expected 4 fields, saw 5\\nSkipping line 75778: expected 4 fields, saw 5\\nSkipping line 75892: expected 4 fields, saw 5\\nSkipping line 75933: expected 4 fields, saw 5\\nSkipping line 75939: expected 4 fields, saw 5\\nSkipping line 75990: expected 4 fields, saw 5\\nSkipping line 76361: expected 4 fields, saw 5\\nSkipping line 76585: expected 4 fields, saw 5\\nSkipping line 76587: expected 4 fields, saw 6\\nSkipping line 76589: expected 4 fields, saw 6\\nSkipping line 76590: expected 4 fields, saw 5\\nSkipping line 76591: expected 4 fields, saw 5\\nSkipping line 76667: expected 4 fields, saw 6\\nSkipping line 76668: expected 4 fields, saw 5\\nSkipping line 76986: expected 4 fields, saw 5\\nSkipping line 77103: expected 4 fields, saw 5\\nSkipping line 77223: expected 4 fields, saw 5\\nSkipping line 77224: expected 4 fields, saw 5\\nSkipping line 77225: expected 4 fields, saw 5\\nSkipping line 77257: expected 4 fields, saw 5\\nSkipping line 77294: expected 4 fields, saw 5\\nSkipping line 77306: expected 4 fields, saw 5\\nSkipping line 77395: expected 4 fields, saw 6\\nSkipping line 77737: expected 4 fields, saw 5\\nSkipping line 77887: expected 4 fields, saw 6\\nSkipping line 77888: expected 4 fields, saw 6\\nSkipping line 77892: expected 4 fields, saw 5\\nSkipping line 77893: expected 4 fields, saw 6\\nSkipping line 77926: expected 4 fields, saw 5\\nSkipping line 77976: expected 4 fields, saw 5\\nSkipping line 77977: expected 4 fields, saw 5\\nSkipping line 78075: expected 4 fields, saw 5\\nSkipping line 78171: expected 4 fields, saw 5\\nSkipping line 78174: expected 4 fields, saw 5\\nSkipping line 78400: expected 4 fields, saw 5\\nSkipping line 78500: expected 4 fields, saw 5\\nSkipping line 78661: expected 4 fields, saw 5\\nSkipping line 78665: expected 4 fields, saw 5\\nSkipping line 78675: expected 4 fields, saw 5\\nSkipping line 78681: expected 4 fields, saw 5\\nSkipping line 78683: expected 4 fields, saw 5\\nSkipping line 78736: expected 4 fields, saw 5\\nSkipping line 78742: expected 4 fields, saw 5\\nSkipping line 79117: expected 4 fields, saw 5\\nSkipping line 79223: expected 4 fields, saw 5\\nSkipping line 79254: expected 4 fields, saw 6\\nSkipping line 79436: expected 4 fields, saw 5\\nSkipping line 79512: expected 4 fields, saw 5\\nSkipping line 79553: expected 4 fields, saw 7\\nSkipping line 79559: expected 4 fields, saw 5\\nSkipping line 79567: expected 4 fields, saw 5\\nSkipping line 79571: expected 4 fields, saw 5\\nSkipping line 79584: expected 4 fields, saw 5\\nSkipping line 79628: expected 4 fields, saw 6\\nSkipping line 79793: expected 4 fields, saw 5\\nSkipping line 80024: expected 4 fields, saw 7\\nSkipping line 80044: expected 4 fields, saw 6\\nSkipping line 80099: expected 4 fields, saw 5\\nSkipping line 80160: expected 4 fields, saw 5\\nSkipping line 80236: expected 4 fields, saw 5\\nSkipping line 80237: expected 4 fields, saw 5\\nSkipping line 80666: expected 4 fields, saw 5\\nSkipping line 80699: expected 4 fields, saw 5\\nSkipping line 80947: expected 4 fields, saw 5\\nSkipping line 81101: expected 4 fields, saw 5\\nSkipping line 81125: expected 4 fields, saw 6\\nSkipping line 81189: expected 4 fields, saw 5\\nSkipping line 81193: expected 4 fields, saw 6\\nSkipping line 81205: expected 4 fields, saw 5\\nSkipping line 81210: expected 4 fields, saw 6\\nSkipping line 81303: expected 4 fields, saw 5\\nSkipping line 81413: expected 4 fields, saw 5\\nSkipping line 81567: expected 4 fields, saw 5\\nSkipping line 81622: expected 4 fields, saw 6\\nSkipping line 81626: expected 4 fields, saw 5\\nSkipping line 81635: expected 4 fields, saw 5\\nSkipping line 81640: expected 4 fields, saw 5\\nSkipping line 81667: expected 4 fields, saw 5\\nSkipping line 81672: expected 4 fields, saw 5\\nSkipping line 81732: expected 4 fields, saw 5\\nSkipping line 81827: expected 4 fields, saw 6\\nSkipping line 81883: expected 4 fields, saw 5\\nSkipping line 81895: expected 4 fields, saw 5\\nSkipping line 81961: expected 4 fields, saw 6\\nSkipping line 82015: expected 4 fields, saw 6\\nSkipping line 82022: expected 4 fields, saw 6\\nSkipping line 82029: expected 4 fields, saw 5\\nSkipping line 82032: expected 4 fields, saw 5\\nSkipping line 82047: expected 4 fields, saw 5\\nSkipping line 82057: expected 4 fields, saw 5\\nSkipping line 82109: expected 4 fields, saw 5\\nSkipping line 82110: expected 4 fields, saw 5\\nSkipping line 82162: expected 4 fields, saw 5\\nSkipping line 82170: expected 4 fields, saw 6\\nSkipping line 82175: expected 4 fields, saw 6\\nSkipping line 82378: expected 4 fields, saw 5\\nSkipping line 82382: expected 4 fields, saw 5\\nSkipping line 82384: expected 4 fields, saw 5\\nSkipping line 82385: expected 4 fields, saw 7\\nSkipping line 82388: expected 4 fields, saw 6\\nSkipping line 82393: expected 4 fields, saw 5\\nSkipping line 82417: expected 4 fields, saw 5\\nSkipping line 82490: expected 4 fields, saw 5\\nSkipping line 82521: expected 4 fields, saw 5\\nSkipping line 82553: expected 4 fields, saw 5\\nSkipping line 82599: expected 4 fields, saw 5\\nSkipping line 82908: expected 4 fields, saw 5\\nSkipping line 82997: expected 4 fields, saw 5\\nSkipping line 83095: expected 4 fields, saw 5\\nSkipping line 83101: expected 4 fields, saw 5\\nSkipping line 83117: expected 4 fields, saw 5\\nSkipping line 83146: expected 4 fields, saw 5\\nSkipping line 83416: expected 4 fields, saw 5\\nSkipping line 83451: expected 4 fields, saw 5\\nSkipping line 83569: expected 4 fields, saw 5\\nSkipping line 83578: expected 4 fields, saw 5\\nSkipping line 83626: expected 4 fields, saw 5\\nSkipping line 83629: expected 4 fields, saw 5\\nSkipping line 83680: expected 4 fields, saw 5\\nSkipping line 83736: expected 4 fields, saw 5\\nSkipping line 83754: expected 4 fields, saw 5\\nSkipping line 83839: expected 4 fields, saw 6\\nSkipping line 83853: expected 4 fields, saw 5\\nSkipping line 83871: expected 4 fields, saw 5\\nSkipping line 83942: expected 4 fields, saw 5\\nSkipping line 83955: expected 4 fields, saw 5\\nSkipping line 84102: expected 4 fields, saw 5\\nSkipping line 84148: expected 4 fields, saw 5\\nSkipping line 84161: expected 4 fields, saw 5\\nSkipping line 84266: expected 4 fields, saw 5\\nSkipping line 84267: expected 4 fields, saw 5\\nSkipping line 84426: expected 4 fields, saw 5\\nSkipping line 84581: expected 4 fields, saw 5\\nSkipping line 84583: expected 4 fields, saw 5\\nSkipping line 84638: expected 4 fields, saw 5\\nSkipping line 84664: expected 4 fields, saw 5\\nSkipping line 84672: expected 4 fields, saw 5\\nSkipping line 84708: expected 4 fields, saw 5\\nSkipping line 84712: expected 4 fields, saw 6\\nSkipping line 84718: expected 4 fields, saw 5\\nSkipping line 84727: expected 4 fields, saw 5\\nSkipping line 84728: expected 4 fields, saw 5\\nSkipping line 84837: expected 4 fields, saw 5\\nSkipping line 84849: expected 4 fields, saw 5\\nSkipping line 84854: expected 4 fields, saw 6\\nSkipping line 84915: expected 4 fields, saw 6\\nSkipping line 85030: expected 4 fields, saw 5\\nSkipping line 85033: expected 4 fields, saw 5\\nSkipping line 85111: expected 4 fields, saw 5\\nSkipping line 85141: expected 4 fields, saw 6\\nSkipping line 85357: expected 4 fields, saw 5\\nSkipping line 85376: expected 4 fields, saw 6\\nSkipping line 85405: expected 4 fields, saw 5\\nSkipping line 85598: expected 4 fields, saw 5\\nSkipping line 85617: expected 4 fields, saw 5\\nSkipping line 85720: expected 4 fields, saw 5\\nSkipping line 85802: expected 4 fields, saw 5\\nSkipping line 85847: expected 4 fields, saw 5\\nSkipping line 85876: expected 4 fields, saw 6\\nSkipping line 86306: expected 4 fields, saw 5\\nSkipping line 86387: expected 4 fields, saw 5\\nSkipping line 86494: expected 4 fields, saw 5\\nSkipping line 86560: expected 4 fields, saw 5\\nSkipping line 86584: expected 4 fields, saw 5\\nSkipping line 86594: expected 4 fields, saw 5\\nSkipping line 86650: expected 4 fields, saw 5\\nSkipping line 86870: expected 4 fields, saw 6\\nSkipping line 86924: expected 4 fields, saw 5\\nSkipping line 86925: expected 4 fields, saw 6\\nSkipping line 86988: expected 4 fields, saw 5\\nSkipping line 87030: expected 4 fields, saw 5\\nSkipping line 87031: expected 4 fields, saw 5\\nSkipping line 87372: expected 4 fields, saw 5\\nSkipping line 88127: expected 4 fields, saw 5\\nSkipping line 88172: expected 4 fields, saw 5\\nSkipping line 88296: expected 4 fields, saw 5\\nSkipping line 88301: expected 4 fields, saw 5\\nSkipping line 88403: expected 4 fields, saw 5\\nSkipping line 88404: expected 4 fields, saw 5\\nSkipping line 88424: expected 4 fields, saw 5\\nSkipping line 88455: expected 4 fields, saw 5\\nSkipping line 88582: expected 4 fields, saw 5\\nSkipping line 88712: expected 4 fields, saw 5\\nSkipping line 88809: expected 4 fields, saw 5\\nSkipping line 89788: expected 4 fields, saw 6\\nSkipping line 89905: expected 4 fields, saw 5\\nSkipping line 89916: expected 4 fields, saw 5\\nSkipping line 89942: expected 4 fields, saw 5\\nSkipping line 90061: expected 4 fields, saw 5\\nSkipping line 90133: expected 4 fields, saw 6\\nSkipping line 90179: expected 4 fields, saw 5\\nSkipping line 90181: expected 4 fields, saw 5\\nSkipping line 90215: expected 4 fields, saw 5\\nSkipping line 90275: expected 4 fields, saw 5\\nSkipping line 90282: expected 4 fields, saw 5\\nSkipping line 90397: expected 4 fields, saw 5\\nSkipping line 90447: expected 4 fields, saw 5\\nSkipping line 90514: expected 4 fields, saw 6\\nSkipping line 90557: expected 4 fields, saw 6\\nSkipping line 90596: expected 4 fields, saw 6\\nSkipping line 90604: expected 4 fields, saw 5\\nSkipping line 90722: expected 4 fields, saw 5\\nSkipping line 90761: expected 4 fields, saw 6\\nSkipping line 90811: expected 4 fields, saw 5\\nSkipping line 90907: expected 4 fields, saw 5\\nSkipping line 90922: expected 4 fields, saw 5\\nSkipping line 90924: expected 4 fields, saw 5\\nSkipping line 91013: expected 4 fields, saw 5\\nSkipping line 91016: expected 4 fields, saw 5\\nSkipping line 91034: expected 4 fields, saw 6\\nSkipping line 91036: expected 4 fields, saw 6\\nSkipping line 91230: expected 4 fields, saw 7\\nSkipping line 91231: expected 4 fields, saw 6\\nSkipping line 91251: expected 4 fields, saw 6\\nSkipping line 91733: expected 4 fields, saw 5\\nSkipping line 91741: expected 4 fields, saw 5\\nSkipping line 91916: expected 4 fields, saw 5\\n'\n"
     ]
    }
   ],
   "metadata": {}
  },
  {
   "cell_type": "code",
   "execution_count": 12,
   "source": [
    "df"
   ],
   "outputs": [
    {
     "output_type": "execute_result",
     "data": {
      "text/html": [
       "<div>\n",
       "<style scoped>\n",
       "    .dataframe tbody tr th:only-of-type {\n",
       "        vertical-align: middle;\n",
       "    }\n",
       "\n",
       "    .dataframe tbody tr th {\n",
       "        vertical-align: top;\n",
       "    }\n",
       "\n",
       "    .dataframe thead th {\n",
       "        text-align: right;\n",
       "    }\n",
       "</style>\n",
       "<table border=\"1\" class=\"dataframe\">\n",
       "  <thead>\n",
       "    <tr style=\"text-align: right;\">\n",
       "      <th></th>\n",
       "      <th>frommr</th>\n",
       "      <th>嬌生</th>\n",
       "      <th>科興</th>\n",
       "      <th>219.70.201.52 09/27 11:40</th>\n",
       "    </tr>\n",
       "  </thead>\n",
       "  <tbody>\n",
       "    <tr>\n",
       "      <th>0</th>\n",
       "      <td>koromo1991</td>\n",
       "      <td>美國就不打高端啊 沒先見之明</td>\n",
       "      <td>科興</td>\n",
       "      <td>111.71.101.84 09/27 11:40</td>\n",
       "    </tr>\n",
       "    <tr>\n",
       "      <th>1</th>\n",
       "      <td>Submicromete</td>\n",
       "      <td>因為高端會被波及</td>\n",
       "      <td>科興</td>\n",
       "      <td>223.138.76.176 09/27 11:40</td>\n",
       "    </tr>\n",
       "    <tr>\n",
       "      <th>2</th>\n",
       "      <td>jarrodqq896</td>\n",
       "      <td>美國就是沒打高端才會疫情爆發 看看</td>\n",
       "      <td>科興</td>\n",
       "      <td>39.10.1.175 09/27 11:40</td>\n",
       "    </tr>\n",
       "    <tr>\n",
       "      <th>3</th>\n",
       "      <td>jarrodqq896</td>\n",
       "      <td>高端 被突破率是完美的零</td>\n",
       "      <td>科興</td>\n",
       "      <td>39.10.1.175 09/27 11:40</td>\n",
       "    </tr>\n",
       "    <tr>\n",
       "      <th>4</th>\n",
       "      <td>ajemtw</td>\n",
       "      <td>推</td>\n",
       "      <td>科興</td>\n",
       "      <td>96.44.161.8 09/27 11:48</td>\n",
       "    </tr>\n",
       "    <tr>\n",
       "      <th>...</th>\n",
       "      <td>...</td>\n",
       "      <td>...</td>\n",
       "      <td>...</td>\n",
       "      <td>...</td>\n",
       "    </tr>\n",
       "    <tr>\n",
       "      <th>90703</th>\n",
       "      <td>Ghostgreen</td>\n",
       "      <td>喜歡支那豬的疫苗快點去打 千萬不要打歐美跟台灣的</td>\n",
       "      <td>聯亞</td>\n",
       "      <td>02/07 22:56</td>\n",
       "    </tr>\n",
       "    <tr>\n",
       "      <th>90704</th>\n",
       "      <td>Ghostgreen</td>\n",
       "      <td>這樣會 乳中</td>\n",
       "      <td>聯亞</td>\n",
       "      <td>02/07 22:57</td>\n",
       "    </tr>\n",
       "    <tr>\n",
       "      <th>90705</th>\n",
       "      <td>clover1211</td>\n",
       "      <td>先不說會不會被放鴿子 國外疫苗都有人嫌當白老鼠了</td>\n",
       "      <td>聯亞</td>\n",
       "      <td>02/07 23:26</td>\n",
       "    </tr>\n",
       "    <tr>\n",
       "      <th>90706</th>\n",
       "      <td>clover1211</td>\n",
       "      <td>這支有比較安全嗎</td>\n",
       "      <td>聯亞</td>\n",
       "      <td>02/07 23:28</td>\n",
       "    </tr>\n",
       "    <tr>\n",
       "      <th>90707</th>\n",
       "      <td>i376ers</td>\n",
       "      <td>要接手了？</td>\n",
       "      <td>聯亞</td>\n",
       "      <td>11/08 21:58</td>\n",
       "    </tr>\n",
       "  </tbody>\n",
       "</table>\n",
       "<p>90708 rows × 4 columns</p>\n",
       "</div>"
      ],
      "text/plain": [
       "             frommr                         嬌生  科興  \\\n",
       "0        koromo1991             美國就不打高端啊 沒先見之明  科興   \n",
       "1      Submicromete                   因為高端會被波及  科興   \n",
       "2       jarrodqq896          美國就是沒打高端才會疫情爆發 看看  科興   \n",
       "3       jarrodqq896               高端 被突破率是完美的零  科興   \n",
       "4            ajemtw                          推  科興   \n",
       "...             ...                        ...  ..   \n",
       "90703    Ghostgreen   喜歡支那豬的疫苗快點去打 千萬不要打歐美跟台灣的  聯亞   \n",
       "90704    Ghostgreen                     這樣會 乳中  聯亞   \n",
       "90705    clover1211   先不說會不會被放鴿子 國外疫苗都有人嫌當白老鼠了  聯亞   \n",
       "90706    clover1211                   這支有比較安全嗎  聯亞   \n",
       "90707       i376ers                      要接手了？  聯亞   \n",
       "\n",
       "         219.70.201.52 09/27 11:40   \n",
       "0        111.71.101.84 09/27 11:40   \n",
       "1       223.138.76.176 09/27 11:40   \n",
       "2          39.10.1.175 09/27 11:40   \n",
       "3          39.10.1.175 09/27 11:40   \n",
       "4          96.44.161.8 09/27 11:48   \n",
       "...                             ...  \n",
       "90703                  02/07 22:56   \n",
       "90704                  02/07 22:57   \n",
       "90705                  02/07 23:26   \n",
       "90706                  02/07 23:28   \n",
       "90707                  11/08 21:58   \n",
       "\n",
       "[90708 rows x 4 columns]"
      ]
     },
     "metadata": {},
     "execution_count": 12
    }
   ],
   "metadata": {}
  },
  {
   "cell_type": "code",
   "execution_count": 13,
   "source": [
    "df.columns = ['id','contents','key word','date']\r\n",
    "print(df)"
   ],
   "outputs": [
    {
     "output_type": "stream",
     "name": "stdout",
     "text": [
      "                 id                   contents key word  \\\n",
      "0        koromo1991             美國就不打高端啊 沒先見之明       科興   \n",
      "1      Submicromete                   因為高端會被波及       科興   \n",
      "2       jarrodqq896          美國就是沒打高端才會疫情爆發 看看       科興   \n",
      "3       jarrodqq896               高端 被突破率是完美的零       科興   \n",
      "4            ajemtw                          推       科興   \n",
      "...             ...                        ...      ...   \n",
      "90703    Ghostgreen   喜歡支那豬的疫苗快點去打 千萬不要打歐美跟台灣的       聯亞   \n",
      "90704    Ghostgreen                     這樣會 乳中       聯亞   \n",
      "90705    clover1211   先不說會不會被放鴿子 國外疫苗都有人嫌當白老鼠了       聯亞   \n",
      "90706    clover1211                   這支有比較安全嗎       聯亞   \n",
      "90707       i376ers                      要接手了？       聯亞   \n",
      "\n",
      "                               date  \n",
      "0        111.71.101.84 09/27 11:40   \n",
      "1       223.138.76.176 09/27 11:40   \n",
      "2          39.10.1.175 09/27 11:40   \n",
      "3          39.10.1.175 09/27 11:40   \n",
      "4          96.44.161.8 09/27 11:48   \n",
      "...                             ...  \n",
      "90703                  02/07 22:56   \n",
      "90704                  02/07 22:57   \n",
      "90705                  02/07 23:26   \n",
      "90706                  02/07 23:28   \n",
      "90707                  11/08 21:58   \n",
      "\n",
      "[90708 rows x 4 columns]\n"
     ]
    }
   ],
   "metadata": {}
  },
  {
   "cell_type": "code",
   "execution_count": 15,
   "source": [
    "df.to_csv('..\\data_fix\\疫苗相關5.csv',encoding='utf-8-sig',index=False)"
   ],
   "outputs": [],
   "metadata": {}
  },
  {
   "cell_type": "code",
   "execution_count": null,
   "source": [
    "import pandas as pd\r\n",
    "df = pd.read_csv('data_fix\\疫苗相關2.csv',low_memory=False,error_bad_lines=False)\r\n",
    "print(df)"
   ],
   "outputs": [],
   "metadata": {}
  },
  {
   "cell_type": "code",
   "execution_count": null,
   "source": [
    "df\r\n",
    "df.columns = ['id','contents','key word']\r\n",
    "print(df)"
   ],
   "outputs": [],
   "metadata": {}
  },
  {
   "cell_type": "code",
   "execution_count": null,
   "source": [
    "df.to_csv('data_fix\\疫苗相關2.csv',encoding='utf-8-sig',index=False)"
   ],
   "outputs": [],
   "metadata": {}
  },
  {
   "cell_type": "code",
   "execution_count": null,
   "source": [
    "import pandas as pd\r\n",
    "df = pd.read_csv('data\\疫苗相關3.csv',low_memory=False,error_bad_lines=False)\r\n",
    "df.columns = ['id','contents','key word']\r\n",
    "print(df)"
   ],
   "outputs": [],
   "metadata": {}
  },
  {
   "cell_type": "code",
   "execution_count": null,
   "source": [
    "df.to_csv('data_fix\\疫苗相關3_fix.csv',encoding='utf-8-sig',index=False)"
   ],
   "outputs": [],
   "metadata": {}
  },
  {
   "cell_type": "code",
   "execution_count": null,
   "source": [
    "df = pd.read_csv('data_fix\\疫苗相關4_fix.csv',low_memory=False,error_bad_lines=False)\r\n",
    "#df.columns = ['id','contents','key word']\r\n",
    "#df.drop(\"Unnamed: 0\"], axis=1)\r\n",
    "print(df)"
   ],
   "outputs": [],
   "metadata": {}
  },
  {
   "cell_type": "code",
   "execution_count": null,
   "source": [
    "df.to_csv('data_fix\\疫苗相關4.csv',encoding='utf-8-sig',index=False)"
   ],
   "outputs": [],
   "metadata": {}
  },
  {
   "cell_type": "code",
   "execution_count": null,
   "source": [
    "import pandas as pd\r\n",
    "df1 = pd.read_csv('data_fix\\疫苗相關1_fix.csv',low_memory=False)\r\n",
    "df2 = pd.read_csv('data_fix\\疫苗相關2_fix.csv',low_memory=False)\r\n",
    "df3 = pd.read_csv('data_fix\\疫苗相關3_fix.csv',low_memory=False)\r\n",
    "df4 = pd.read_csv('data_fix\\疫苗相關4_fix.csv',low_memory=False)"
   ],
   "outputs": [],
   "metadata": {}
  },
  {
   "cell_type": "code",
   "execution_count": null,
   "source": [
    "df_all = pd.concat([df1,df2,df3,df4],axis=0,ignore_index=True)\r\n",
    "df_all"
   ],
   "outputs": [],
   "metadata": {}
  },
  {
   "cell_type": "code",
   "execution_count": null,
   "source": [
    "df_all.drop_duplicates(['contents'],ignore_index=True,inplace=True)\r\n",
    "df_all"
   ],
   "outputs": [],
   "metadata": {}
  },
  {
   "cell_type": "code",
   "execution_count": null,
   "source": [
    "df_all.to_csv('data\\疫苗相關all.csv',encoding='utf-8-sig',index=False)"
   ],
   "outputs": [],
   "metadata": {}
  },
  {
   "cell_type": "markdown",
   "source": [
    "# data"
   ],
   "metadata": {}
  },
  {
   "cell_type": "code",
   "execution_count": null,
   "source": [
    "import pandas as pd\r\n",
    "\r\n",
    "df1 = pd.read_csv('data\\疫苗相關1.csv',low_memory=False)\r\n",
    "print(df1)"
   ],
   "outputs": [],
   "metadata": {}
  },
  {
   "cell_type": "code",
   "execution_count": null,
   "source": [
    "df1 = df1.iloc[0:,0:2]\r\n",
    "df1\r\n",
    "df1.to_csv('data\\疫苗相關1.csv',encoding='utf-8-sig',index=False)"
   ],
   "outputs": [],
   "metadata": {}
  },
  {
   "cell_type": "code",
   "execution_count": null,
   "source": [
    "df2 = pd.read_csv('data\\疫苗相關2.csv',low_memory=False)\r\n",
    "print(df2)"
   ],
   "outputs": [],
   "metadata": {}
  },
  {
   "cell_type": "code",
   "execution_count": null,
   "source": [
    "df2 = df2.iloc[0:,0:2]\r\n",
    "df2\r\n",
    "df2.to_csv('data\\疫苗相關2.csv',encoding='utf-8-sig',index=False)"
   ],
   "outputs": [],
   "metadata": {}
  },
  {
   "cell_type": "code",
   "execution_count": null,
   "source": [
    "df3 = pd.read_csv('data\\疫苗相關3.csv',low_memory=False,error_bad_lines=False)"
   ],
   "outputs": [],
   "metadata": {}
  },
  {
   "cell_type": "code",
   "execution_count": null,
   "source": [
    "df3\r\n",
    "df3.columns = ['contents','key word']\r\n",
    "print(df3)"
   ],
   "outputs": [],
   "metadata": {}
  },
  {
   "cell_type": "code",
   "execution_count": null,
   "source": [
    "df3.to_csv('data\\疫苗相關3.csv',encoding='utf-8-sig',index=False)"
   ],
   "outputs": [],
   "metadata": {}
  },
  {
   "cell_type": "code",
   "execution_count": null,
   "source": [
    "df4 = pd.read_csv('data\\疫苗相關4.csv',low_memory=False,error_bad_lines=False)"
   ],
   "outputs": [],
   "metadata": {}
  },
  {
   "cell_type": "code",
   "execution_count": null,
   "source": [
    "df4\r\n",
    "df4.columns = ['contents','key word']\r\n",
    "print(df4)"
   ],
   "outputs": [],
   "metadata": {}
  },
  {
   "cell_type": "code",
   "execution_count": null,
   "source": [
    "df4.to_csv('data\\疫苗相關4.csv',encoding='utf-8-sig',index=False)"
   ],
   "outputs": [],
   "metadata": {}
  },
  {
   "cell_type": "code",
   "execution_count": null,
   "source": [
    "df1 = pd.read_csv('data\\疫苗相關1.csv',low_memory=False)\r\n",
    "df2 = pd.read_csv('data\\疫苗相關2.csv',low_memory=False)\r\n",
    "df3 = pd.read_csv('data\\疫苗相關3.csv',low_memory=False)\r\n",
    "df4 = pd.read_csv('data\\疫苗相關4.csv',low_memory=False)"
   ],
   "outputs": [],
   "metadata": {}
  },
  {
   "cell_type": "code",
   "execution_count": null,
   "source": [
    "df_all = pd.concat([df1,df2,df3,df4],axis=0,ignore_index=True)\r\n",
    "df_all"
   ],
   "outputs": [],
   "metadata": {}
  },
  {
   "cell_type": "code",
   "execution_count": null,
   "source": [
    "df_all.drop_duplicates(['contents'],ignore_index=True,inplace=True)"
   ],
   "outputs": [],
   "metadata": {}
  },
  {
   "cell_type": "code",
   "execution_count": null,
   "source": [
    "df_all"
   ],
   "outputs": [],
   "metadata": {}
  },
  {
   "cell_type": "code",
   "execution_count": null,
   "source": [
    "df_all.to_csv('data\\疫苗相關all.csv',encoding='utf-8-sig',index=False)\r\n"
   ],
   "outputs": [],
   "metadata": {}
  },
  {
   "cell_type": "code",
   "execution_count": null,
   "source": [],
   "outputs": [],
   "metadata": {}
  }
 ],
 "metadata": {
  "orig_nbformat": 4,
  "language_info": {
   "name": "python",
   "version": "3.9.7",
   "mimetype": "text/x-python",
   "codemirror_mode": {
    "name": "ipython",
    "version": 3
   },
   "pygments_lexer": "ipython3",
   "nbconvert_exporter": "python",
   "file_extension": ".py"
  },
  "kernelspec": {
   "name": "python3",
   "display_name": "Python 3.9.7 64-bit"
  },
  "interpreter": {
   "hash": "6b24c107649004459c65f34c896e2d1b40ea1d32dc5bbe16c91bbc2f39c8c8c5"
  }
 },
 "nbformat": 4,
 "nbformat_minor": 2
}