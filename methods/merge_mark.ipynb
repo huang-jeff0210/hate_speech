{
 "cells": [
  {
   "cell_type": "code",
   "execution_count": 4,
   "metadata": {},
   "outputs": [],
   "source": [
    "import pandas as pd \n",
    "\n",
    "df1 = pd.read_csv('output/標記1.csv',encoding='utf-8-sig')\n",
    "df2 = pd.read_csv('output/標記2.csv',encoding='utf-8-sig')\n",
    "df3 = pd.read_csv('output/標記3.csv',encoding='utf-8-sig')\n",
    "\n",
    "df = pd.concat([df1, df2, df3], axis = 0)\n",
    "df_new = df[ df['hate'] == 1]"
   ]
  },
  {
   "cell_type": "code",
   "execution_count": 6,
   "metadata": {},
   "outputs": [],
   "source": [
    "df_new.to_csv('output/hate.csv',encoding='utf-8-sig',index=False)"
   ]
  },
  {
   "cell_type": "code",
   "execution_count": null,
   "metadata": {},
   "outputs": [],
   "source": []
  }
 ],
 "metadata": {
  "interpreter": {
   "hash": "6b24c107649004459c65f34c896e2d1b40ea1d32dc5bbe16c91bbc2f39c8c8c5"
  },
  "kernelspec": {
   "display_name": "Python 3.9.7 64-bit",
   "name": "python3"
  },
  "language_info": {
   "codemirror_mode": {
    "name": "ipython",
    "version": 3
   },
   "file_extension": ".py",
   "mimetype": "text/x-python",
   "name": "python",
   "nbconvert_exporter": "python",
   "pygments_lexer": "ipython3",
   "version": "3.9.7"
  },
  "orig_nbformat": 4
 },
 "nbformat": 4,
 "nbformat_minor": 2
}
