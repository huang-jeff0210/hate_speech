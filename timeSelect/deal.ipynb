{
 "cells": [
  {
   "cell_type": "code",
   "execution_count": null,
   "source": [
    "import pandas as pd\r\n",
    "df = pd.read_csv('..\\data_fix\\疫苗相關2_fix.csv',low_memory=False,error_bad_lines=False)\r\n",
    "print(df)"
   ],
   "outputs": [],
   "metadata": {}
  },
  {
   "cell_type": "code",
   "execution_count": null,
   "source": [
    "df1 = df[df['key word'] == '莫德納']\r\n",
    "df1"
   ],
   "outputs": [],
   "metadata": {}
  },
  {
   "cell_type": "code",
   "execution_count": null,
   "source": [
    "df1[df1['contents'] == ' 傑出的一手']"
   ],
   "outputs": [],
   "metadata": {}
  },
  {
   "cell_type": "code",
   "execution_count": null,
   "source": [
    "df1.to_csv('output\\莫德納.csv',encoding='utf-8-sig',index=False)"
   ],
   "outputs": [],
   "metadata": {}
  },
  {
   "cell_type": "code",
   "execution_count": null,
   "source": [
    "df2 = df[df['key word'] == '輝瑞']\r\n",
    "df2"
   ],
   "outputs": [],
   "metadata": {}
  },
  {
   "cell_type": "code",
   "execution_count": null,
   "source": [
    "df2.to_csv('output\\輝瑞.csv',encoding='utf-8-sig',index=False)"
   ],
   "outputs": [],
   "metadata": {}
  },
  {
   "cell_type": "code",
   "execution_count": null,
   "source": [
    "df2 = pd.read_csv('.\\output\\輝瑞.csv',low_memory=False,error_bad_lines=False)"
   ],
   "outputs": [],
   "metadata": {}
  },
  {
   "cell_type": "code",
   "execution_count": null,
   "source": [
    "df2[df2['contents'] == ' 肥宅也不會出門打疫苗']"
   ],
   "outputs": [],
   "metadata": {}
  },
  {
   "cell_type": "code",
   "execution_count": null,
   "source": [
    "df2.iloc[54470:54475]"
   ],
   "outputs": [],
   "metadata": {}
  },
  {
   "cell_type": "code",
   "execution_count": null,
   "source": [
    "df2 = df2.iloc[:54474]"
   ],
   "outputs": [],
   "metadata": {}
  },
  {
   "cell_type": "code",
   "execution_count": null,
   "source": [
    "df2.to_csv('output\\輝瑞.csv',encoding='utf-8-sig',index=False)"
   ],
   "outputs": [],
   "metadata": {}
  },
  {
   "cell_type": "markdown",
   "source": [
    "# New data"
   ],
   "metadata": {}
  },
  {
   "cell_type": "code",
   "execution_count": 102,
   "source": [
    "import pandas as pd\r\n",
    "df3 = pd.read_csv('..\\data_fix\\疫苗相關5_fix.csv',low_memory=False,error_bad_lines=False)\r\n",
    "print(df3)"
   ],
   "outputs": [
    {
     "output_type": "stream",
     "name": "stdout",
     "text": [
      "                 id                           contents key word  \\\n",
      "0        koromo1991                     美國就不打高端啊 沒先見之明       科興   \n",
      "1      Submicromete                           因為高端會被波及       科興   \n",
      "2       jarrodqq896      美國就是沒打高端才會疫情爆發 看看高端 被突破率是完美的零       科興   \n",
      "3            ajemtw                                  推       科興   \n",
      "4           Mazeway                       新冠疫苗就廢啊，不分廠牌       科興   \n",
      "...             ...                                ...      ...   \n",
      "76680      ross4927              已經1/30 開始收案囉，跟11家醫中合作       聯亞   \n",
      "76681         gxlin                  台灣之前有獨立開發出什麼鳥疫苗嗎？       聯亞   \n",
      "76682    Ghostgreen     喜歡支那豬的疫苗快點去打 千萬不要打歐美跟台灣的這樣會 乳中       聯亞   \n",
      "76683    clover1211   先不說會不會被放鴿子 國外疫苗都有人嫌當白老鼠了這支有比較安全嗎       聯亞   \n",
      "76684       i376ers                              要接手了？       聯亞   \n",
      "\n",
      "                               date  \n",
      "0        111.71.101.84 09/27 11:40   \n",
      "1       223.138.76.176 09/27 11:40   \n",
      "2          39.10.1.175 09/27 11:40   \n",
      "3          96.44.161.8 09/27 11:48   \n",
      "4       101.12.100.119 09/27 11:57   \n",
      "...                             ...  \n",
      "76680                  02/07 22:44   \n",
      "76681                  02/07 22:56   \n",
      "76682                  02/07 22:57   \n",
      "76683                  02/07 23:28   \n",
      "76684                  11/08 21:58   \n",
      "\n",
      "[76685 rows x 4 columns]\n"
     ]
    }
   ],
   "metadata": {}
  },
  {
   "cell_type": "code",
   "execution_count": 103,
   "source": [
    "df4 = df3[df3['key word'] == '科興']\r\n",
    "df4"
   ],
   "outputs": [
    {
     "output_type": "execute_result",
     "data": {
      "text/html": [
       "<div>\n",
       "<style scoped>\n",
       "    .dataframe tbody tr th:only-of-type {\n",
       "        vertical-align: middle;\n",
       "    }\n",
       "\n",
       "    .dataframe tbody tr th {\n",
       "        vertical-align: top;\n",
       "    }\n",
       "\n",
       "    .dataframe thead th {\n",
       "        text-align: right;\n",
       "    }\n",
       "</style>\n",
       "<table border=\"1\" class=\"dataframe\">\n",
       "  <thead>\n",
       "    <tr style=\"text-align: right;\">\n",
       "      <th></th>\n",
       "      <th>id</th>\n",
       "      <th>contents</th>\n",
       "      <th>key word</th>\n",
       "      <th>date</th>\n",
       "    </tr>\n",
       "  </thead>\n",
       "  <tbody>\n",
       "    <tr>\n",
       "      <th>0</th>\n",
       "      <td>koromo1991</td>\n",
       "      <td>美國就不打高端啊 沒先見之明</td>\n",
       "      <td>科興</td>\n",
       "      <td>111.71.101.84 09/27 11:40</td>\n",
       "    </tr>\n",
       "    <tr>\n",
       "      <th>1</th>\n",
       "      <td>Submicromete</td>\n",
       "      <td>因為高端會被波及</td>\n",
       "      <td>科興</td>\n",
       "      <td>223.138.76.176 09/27 11:40</td>\n",
       "    </tr>\n",
       "    <tr>\n",
       "      <th>2</th>\n",
       "      <td>jarrodqq896</td>\n",
       "      <td>美國就是沒打高端才會疫情爆發 看看高端 被突破率是完美的零</td>\n",
       "      <td>科興</td>\n",
       "      <td>39.10.1.175 09/27 11:40</td>\n",
       "    </tr>\n",
       "    <tr>\n",
       "      <th>3</th>\n",
       "      <td>ajemtw</td>\n",
       "      <td>推</td>\n",
       "      <td>科興</td>\n",
       "      <td>96.44.161.8 09/27 11:48</td>\n",
       "    </tr>\n",
       "    <tr>\n",
       "      <th>4</th>\n",
       "      <td>Mazeway</td>\n",
       "      <td>新冠疫苗就廢啊，不分廠牌</td>\n",
       "      <td>科興</td>\n",
       "      <td>101.12.100.119 09/27 11:57</td>\n",
       "    </tr>\n",
       "    <tr>\n",
       "      <th>...</th>\n",
       "      <td>...</td>\n",
       "      <td>...</td>\n",
       "      <td>...</td>\n",
       "      <td>...</td>\n",
       "    </tr>\n",
       "    <tr>\n",
       "      <th>74848</th>\n",
       "      <td>h2901911</td>\n",
       "      <td>Pagan說中國沒人打疫苗，會不會太雲，雲地球人</td>\n",
       "      <td>科興</td>\n",
       "      <td>11/12 09:35</td>\n",
       "    </tr>\n",
       "    <tr>\n",
       "      <th>74849</th>\n",
       "      <td>locdan</td>\n",
       "      <td>自殺...那真的無話可說了</td>\n",
       "      <td>科興</td>\n",
       "      <td>11/12 09:40</td>\n",
       "    </tr>\n",
       "    <tr>\n",
       "      <th>74850</th>\n",
       "      <td>rofellosx</td>\n",
       "      <td>死不夠多的意思中國進口了一堆巴西雞翅</td>\n",
       "      <td>科興</td>\n",
       "      <td>11/12 09:52</td>\n",
       "    </tr>\n",
       "    <tr>\n",
       "      <th>74851</th>\n",
       "      <td>Sirine</td>\n",
       "      <td>自願試疫苗  所以自殺無誤</td>\n",
       "      <td>科興</td>\n",
       "      <td>11/12 09:59</td>\n",
       "    </tr>\n",
       "    <tr>\n",
       "      <th>74852</th>\n",
       "      <td>slackvalue</td>\n",
       "      <td>支那畜牲疫苗誰愛打就去打反正別打我就行</td>\n",
       "      <td>科興</td>\n",
       "      <td>11/12 21:19</td>\n",
       "    </tr>\n",
       "  </tbody>\n",
       "</table>\n",
       "<p>20633 rows × 4 columns</p>\n",
       "</div>"
      ],
      "text/plain": [
       "                 id                        contents key word  \\\n",
       "0        koromo1991                  美國就不打高端啊 沒先見之明       科興   \n",
       "1      Submicromete                        因為高端會被波及       科興   \n",
       "2       jarrodqq896   美國就是沒打高端才會疫情爆發 看看高端 被突破率是完美的零       科興   \n",
       "3            ajemtw                               推       科興   \n",
       "4           Mazeway                    新冠疫苗就廢啊，不分廠牌       科興   \n",
       "...             ...                             ...      ...   \n",
       "74848      h2901911        Pagan說中國沒人打疫苗，會不會太雲，雲地球人       科興   \n",
       "74849        locdan                   自殺...那真的無話可說了       科興   \n",
       "74850     rofellosx              死不夠多的意思中國進口了一堆巴西雞翅       科興   \n",
       "74851        Sirine                   自願試疫苗  所以自殺無誤       科興   \n",
       "74852    slackvalue             支那畜牲疫苗誰愛打就去打反正別打我就行       科興   \n",
       "\n",
       "                               date  \n",
       "0        111.71.101.84 09/27 11:40   \n",
       "1       223.138.76.176 09/27 11:40   \n",
       "2          39.10.1.175 09/27 11:40   \n",
       "3          96.44.161.8 09/27 11:48   \n",
       "4       101.12.100.119 09/27 11:57   \n",
       "...                             ...  \n",
       "74848                  11/12 09:35   \n",
       "74849                  11/12 09:40   \n",
       "74850                  11/12 09:52   \n",
       "74851                  11/12 09:59   \n",
       "74852                  11/12 21:19   \n",
       "\n",
       "[20633 rows x 4 columns]"
      ]
     },
     "metadata": {},
     "execution_count": 103
    }
   ],
   "metadata": {}
  },
  {
   "cell_type": "code",
   "execution_count": 104,
   "source": [
    "df4.to_csv('output\\科興.csv',encoding='utf-8-sig',index=False)\r\n",
    "df4 = pd.read_csv('.\\output\\科興.csv',low_memory=False,error_bad_lines=False)"
   ],
   "outputs": [
    {
     "output_type": "stream",
     "name": "stderr",
     "text": [
      "C:\\Users\\jeff0\\AppData\\Local\\Programs\\Python\\Python39\\lib\\site-packages\\IPython\\core\\interactiveshell.py:3441: FutureWarning: The error_bad_lines argument has been deprecated and will be removed in a future version.\n",
      "\n",
      "\n",
      "  exec(code_obj, self.user_global_ns, self.user_ns)\n"
     ]
    }
   ],
   "metadata": {}
  },
  {
   "cell_type": "code",
   "execution_count": 105,
   "source": [
    "df4 = df4.iloc[:20303]\r\n",
    "df4.to_csv('output\\科興.csv',encoding='utf-8-sig',index=False)"
   ],
   "outputs": [],
   "metadata": {}
  },
  {
   "cell_type": "code",
   "execution_count": 106,
   "source": [
    "df5 = df3[df3['key word'] == '國藥']\r\n",
    "df5"
   ],
   "outputs": [
    {
     "output_type": "execute_result",
     "data": {
      "text/html": [
       "<div>\n",
       "<style scoped>\n",
       "    .dataframe tbody tr th:only-of-type {\n",
       "        vertical-align: middle;\n",
       "    }\n",
       "\n",
       "    .dataframe tbody tr th {\n",
       "        vertical-align: top;\n",
       "    }\n",
       "\n",
       "    .dataframe thead th {\n",
       "        text-align: right;\n",
       "    }\n",
       "</style>\n",
       "<table border=\"1\" class=\"dataframe\">\n",
       "  <thead>\n",
       "    <tr style=\"text-align: right;\">\n",
       "      <th></th>\n",
       "      <th>id</th>\n",
       "      <th>contents</th>\n",
       "      <th>key word</th>\n",
       "      <th>date</th>\n",
       "    </tr>\n",
       "  </thead>\n",
       "  <tbody>\n",
       "    <tr>\n",
       "      <th>1366</th>\n",
       "      <td>cs09312</td>\n",
       "      <td>我們高端也能去印尼阿 嘻嘻</td>\n",
       "      <td>國藥</td>\n",
       "      <td>27.52.225.225 09/26 11:54</td>\n",
       "    </tr>\n",
       "    <tr>\n",
       "      <th>1367</th>\n",
       "      <td>snow3804</td>\n",
       "      <td>世界怎麼跟得上台灣</td>\n",
       "      <td>國藥</td>\n",
       "      <td>1.164.181.127 09/26 11:54</td>\n",
       "    </tr>\n",
       "    <tr>\n",
       "      <th>1368</th>\n",
       "      <td>lee0820</td>\n",
       "      <td>高端呢</td>\n",
       "      <td>國藥</td>\n",
       "      <td>42.77.161.93 09/26 11:54</td>\n",
       "    </tr>\n",
       "    <tr>\n",
       "      <th>1369</th>\n",
       "      <td>matico</td>\n",
       "      <td>又如何？世界不是只有美國！！！</td>\n",
       "      <td>國藥</td>\n",
       "      <td>140.113.3.12 09/26 11:54</td>\n",
       "    </tr>\n",
       "    <tr>\n",
       "      <th>1370</th>\n",
       "      <td>Ceferino</td>\n",
       "      <td>美國中共同路人認證</td>\n",
       "      <td>國藥</td>\n",
       "      <td>123.192.235.113 09/26 11:54</td>\n",
       "    </tr>\n",
       "    <tr>\n",
       "      <th>...</th>\n",
       "      <td>...</td>\n",
       "      <td>...</td>\n",
       "      <td>...</td>\n",
       "      <td>...</td>\n",
       "    </tr>\n",
       "    <tr>\n",
       "      <th>46604</th>\n",
       "      <td>vulu04u04</td>\n",
       "      <td>中國豬專用疫苗~~!!當人的一定不會打~~當豬就會打</td>\n",
       "      <td>國藥</td>\n",
       "      <td>10/14 11:01</td>\n",
       "    </tr>\n",
       "    <tr>\n",
       "      <th>46605</th>\n",
       "      <td>nothing188</td>\n",
       "      <td>做人體試驗而已，成功了就可以贖罪，失敗了，就失敗了韭菜壯陽，多吃有益健康</td>\n",
       "      <td>國藥</td>\n",
       "      <td>10/14 12:03</td>\n",
       "    </tr>\n",
       "    <tr>\n",
       "      <th>46606</th>\n",
       "      <td>rayonwu</td>\n",
       "      <td>高調</td>\n",
       "      <td>國藥</td>\n",
       "      <td>10/14 12:18</td>\n",
       "    </tr>\n",
       "    <tr>\n",
       "      <th>46607</th>\n",
       "      <td>teeo</td>\n",
       "      <td>會變成喪屍嗎?</td>\n",
       "      <td>國藥</td>\n",
       "      <td>10/14 14:11</td>\n",
       "    </tr>\n",
       "    <tr>\n",
       "      <th>46608</th>\n",
       "      <td>gag565</td>\n",
       "      <td>我中國的朋友打了疫苗 晚上託夢告訴我有用</td>\n",
       "      <td>國藥</td>\n",
       "      <td>10/14 19:22</td>\n",
       "    </tr>\n",
       "  </tbody>\n",
       "</table>\n",
       "<p>10720 rows × 4 columns</p>\n",
       "</div>"
      ],
      "text/plain": [
       "               id                               contents key word  \\\n",
       "1366      cs09312                          我們高端也能去印尼阿 嘻嘻       國藥   \n",
       "1367     snow3804                              世界怎麼跟得上台灣       國藥   \n",
       "1368      lee0820                                    高端呢       國藥   \n",
       "1369       matico                        又如何？世界不是只有美國！！！       國藥   \n",
       "1370     Ceferino                              美國中共同路人認證       國藥   \n",
       "...           ...                                    ...      ...   \n",
       "46604   vulu04u04             中國豬專用疫苗~~!!當人的一定不會打~~當豬就會打       國藥   \n",
       "46605  nothing188   做人體試驗而已，成功了就可以贖罪，失敗了，就失敗了韭菜壯陽，多吃有益健康       國藥   \n",
       "46606     rayonwu                                     高調       國藥   \n",
       "46607        teeo                                會變成喪屍嗎?       國藥   \n",
       "46608      gag565                   我中國的朋友打了疫苗 晚上託夢告訴我有用       國藥   \n",
       "\n",
       "                               date  \n",
       "1366     27.52.225.225 09/26 11:54   \n",
       "1367     1.164.181.127 09/26 11:54   \n",
       "1368      42.77.161.93 09/26 11:54   \n",
       "1369      140.113.3.12 09/26 11:54   \n",
       "1370   123.192.235.113 09/26 11:54   \n",
       "...                             ...  \n",
       "46604                  10/14 11:01   \n",
       "46605                  10/14 12:03   \n",
       "46606                  10/14 12:18   \n",
       "46607                  10/14 14:11   \n",
       "46608                  10/14 19:22   \n",
       "\n",
       "[10720 rows x 4 columns]"
      ]
     },
     "metadata": {},
     "execution_count": 106
    }
   ],
   "metadata": {}
  },
  {
   "cell_type": "code",
   "execution_count": 107,
   "source": [
    "df5.to_csv('output\\國藥.csv',encoding='utf-8-sig',index=False)\r\n",
    "df5 = pd.read_csv('.\\output\\國藥.csv',low_memory=False,error_bad_lines=False)"
   ],
   "outputs": [
    {
     "output_type": "stream",
     "name": "stderr",
     "text": [
      "C:\\Users\\jeff0\\AppData\\Local\\Programs\\Python\\Python39\\lib\\site-packages\\IPython\\core\\interactiveshell.py:3441: FutureWarning: The error_bad_lines argument has been deprecated and will be removed in a future version.\n",
      "\n",
      "\n",
      "  exec(code_obj, self.user_global_ns, self.user_ns)\n"
     ]
    }
   ],
   "metadata": {}
  },
  {
   "cell_type": "code",
   "execution_count": 108,
   "source": [
    "df5 = df5.iloc[:10424]\r\n",
    "df5\r\n",
    "df5.to_csv('output\\國藥.csv',encoding='utf-8-sig',index=False)"
   ],
   "outputs": [],
   "metadata": {}
  },
  {
   "cell_type": "code",
   "execution_count": 109,
   "source": [
    "df6 = df3[df3['key word'] == '嬌生']\r\n",
    "df6.to_csv('output\\嬌生.csv',encoding='utf-8-sig',index=False)\r\n",
    "df6 = pd.read_csv('.\\output\\嬌生.csv',low_memory=False,error_bad_lines=False)"
   ],
   "outputs": [],
   "metadata": {}
  },
  {
   "cell_type": "code",
   "execution_count": 110,
   "source": [
    "df6 = df6.iloc[:17028]\r\n",
    "df6\r\n",
    "df6.to_csv('output\\嬌生.csv',encoding='utf-8-sig',index=False)"
   ],
   "outputs": [],
   "metadata": {}
  },
  {
   "cell_type": "code",
   "execution_count": 111,
   "source": [
    "df7 = df3[df3['key word'] == '康希諾']\r\n",
    "df7.to_csv('output\\康希諾.csv',encoding='utf-8-sig',index=False)\r\n",
    "df7 = pd.read_csv('.\\output\\康希諾.csv',low_memory=False,error_bad_lines=False)"
   ],
   "outputs": [],
   "metadata": {}
  },
  {
   "cell_type": "code",
   "execution_count": 114,
   "source": [
    "df8 = df3[df3['key word'] == '聯亞']\r\n",
    "df8.to_csv('output\\聯亞.csv',encoding='utf-8-sig',index=False)\r\n",
    "df8 = pd.read_csv('.\\output\\聯亞.csv',low_memory=False,error_bad_lines=False)"
   ],
   "outputs": [
    {
     "output_type": "stream",
     "name": "stderr",
     "text": [
      "C:\\Users\\jeff0\\AppData\\Local\\Programs\\Python\\Python39\\lib\\site-packages\\IPython\\core\\interactiveshell.py:3441: FutureWarning: The error_bad_lines argument has been deprecated and will be removed in a future version.\n",
      "\n",
      "\n",
      "  exec(code_obj, self.user_global_ns, self.user_ns)\n"
     ]
    }
   ],
   "metadata": {}
  },
  {
   "cell_type": "code",
   "execution_count": 116,
   "source": [
    "df8 = df8.iloc[:27862]\r\n",
    "df8\r\n",
    "df8.to_csv('output\\聯亞.csv',encoding='utf-8-sig',index=False)"
   ],
   "outputs": [],
   "metadata": {}
  },
  {
   "cell_type": "code",
   "execution_count": null,
   "source": [],
   "outputs": [],
   "metadata": {}
  }
 ],
 "metadata": {
  "orig_nbformat": 4,
  "language_info": {
   "name": "python",
   "version": "3.9.7",
   "mimetype": "text/x-python",
   "codemirror_mode": {
    "name": "ipython",
    "version": 3
   },
   "pygments_lexer": "ipython3",
   "nbconvert_exporter": "python",
   "file_extension": ".py"
  },
  "kernelspec": {
   "name": "python3",
   "display_name": "Python 3.9.7 64-bit"
  },
  "interpreter": {
   "hash": "6b24c107649004459c65f34c896e2d1b40ea1d32dc5bbe16c91bbc2f39c8c8c5"
  }
 },
 "nbformat": 4,
 "nbformat_minor": 2
}