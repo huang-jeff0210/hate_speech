{
 "cells": [
  {
   "cell_type": "code",
   "execution_count": 1,
   "source": [
    "import pandas as pd\r\n",
    "df = pd.read_csv('..\\data_fix\\疫苗相關2_fix.csv',low_memory=False,error_bad_lines=False)\r\n",
    "print(df)"
   ],
   "outputs": [
    {
     "output_type": "stream",
     "name": "stderr",
     "text": [
      "C:\\Users\\jeff0\\AppData\\Local\\Programs\\Python\\Python39\\lib\\site-packages\\IPython\\core\\interactiveshell.py:3441: FutureWarning: The error_bad_lines argument has been deprecated and will be removed in a future version.\n",
      "\n",
      "\n",
      "  exec(code_obj, self.user_global_ns, self.user_ns)\n"
     ]
    },
    {
     "output_type": "stream",
     "name": "stdout",
     "text": [
      "               id                   contents key word\n",
      "0         scjh123                 台灣人很愛用暗黑兵法       輝瑞\n",
      "1        KickAcer                     AZ戰隊出來       輝瑞\n",
      "2            jpwd                 日本又送AZ50萬了       輝瑞\n",
      "3            phix   AZ就打第一劑了 聽說第二劑比較副作用輕頭都洗了       輝瑞\n",
      "4       likeilike                     再挑BNT阿       輝瑞\n",
      "...           ...                        ...      ...\n",
      "188030     tttkkk                維穩科醫師... XD      莫德納\n",
      "188031     pulser                  兩週在地方放到壞嗎      莫德納\n",
      "188032   jccherng                       要換人了      莫德納\n",
      "188033     ak5618     陳時中終於滾了，牙醫終究是牙醫，程度還是有差      莫德納\n",
      "188034   rogergon           似曾相識，硬撐不下去換投手然後爆      莫德納\n",
      "\n",
      "[188035 rows x 3 columns]\n"
     ]
    }
   ],
   "metadata": {}
  },
  {
   "cell_type": "code",
   "execution_count": 2,
   "source": [
    "df1 = df[df['key word'] == '莫德納']\r\n",
    "df1"
   ],
   "outputs": [
    {
     "output_type": "execute_result",
     "data": {
      "text/html": [
       "<div>\n",
       "<style scoped>\n",
       "    .dataframe tbody tr th:only-of-type {\n",
       "        vertical-align: middle;\n",
       "    }\n",
       "\n",
       "    .dataframe tbody tr th {\n",
       "        vertical-align: top;\n",
       "    }\n",
       "\n",
       "    .dataframe thead th {\n",
       "        text-align: right;\n",
       "    }\n",
       "</style>\n",
       "<table border=\"1\" class=\"dataframe\">\n",
       "  <thead>\n",
       "    <tr style=\"text-align: right;\">\n",
       "      <th></th>\n",
       "      <th>id</th>\n",
       "      <th>contents</th>\n",
       "      <th>key word</th>\n",
       "    </tr>\n",
       "  </thead>\n",
       "  <tbody>\n",
       "    <tr>\n",
       "      <th>1367</th>\n",
       "      <td>aqsss</td>\n",
       "      <td>傑出的一手</td>\n",
       "      <td>莫德納</td>\n",
       "    </tr>\n",
       "    <tr>\n",
       "      <th>1368</th>\n",
       "      <td>bill403777</td>\n",
       "      <td>??</td>\n",
       "      <td>莫德納</td>\n",
       "    </tr>\n",
       "    <tr>\n",
       "      <th>1369</th>\n",
       "      <td>zixiang</td>\n",
       "      <td>有時候你不知道該稱讚還是該幹繳</td>\n",
       "      <td>莫德納</td>\n",
       "    </tr>\n",
       "    <tr>\n",
       "      <th>1370</th>\n",
       "      <td>eddisontw</td>\n",
       "      <td>部長要去接機嗎</td>\n",
       "      <td>莫德納</td>\n",
       "    </tr>\n",
       "    <tr>\n",
       "      <th>1371</th>\n",
       "      <td>r89556</td>\n",
       "      <td>唷 這次沒有中共因素了逆</td>\n",
       "      <td>莫德納</td>\n",
       "    </tr>\n",
       "    <tr>\n",
       "      <th>...</th>\n",
       "      <td>...</td>\n",
       "      <td>...</td>\n",
       "      <td>...</td>\n",
       "    </tr>\n",
       "    <tr>\n",
       "      <th>188030</th>\n",
       "      <td>tttkkk</td>\n",
       "      <td>維穩科醫師... XD</td>\n",
       "      <td>莫德納</td>\n",
       "    </tr>\n",
       "    <tr>\n",
       "      <th>188031</th>\n",
       "      <td>pulser</td>\n",
       "      <td>兩週在地方放到壞嗎</td>\n",
       "      <td>莫德納</td>\n",
       "    </tr>\n",
       "    <tr>\n",
       "      <th>188032</th>\n",
       "      <td>jccherng</td>\n",
       "      <td>要換人了</td>\n",
       "      <td>莫德納</td>\n",
       "    </tr>\n",
       "    <tr>\n",
       "      <th>188033</th>\n",
       "      <td>ak5618</td>\n",
       "      <td>陳時中終於滾了，牙醫終究是牙醫，程度還是有差</td>\n",
       "      <td>莫德納</td>\n",
       "    </tr>\n",
       "    <tr>\n",
       "      <th>188034</th>\n",
       "      <td>rogergon</td>\n",
       "      <td>似曾相識，硬撐不下去換投手然後爆</td>\n",
       "      <td>莫德納</td>\n",
       "    </tr>\n",
       "  </tbody>\n",
       "</table>\n",
       "<p>129021 rows × 3 columns</p>\n",
       "</div>"
      ],
      "text/plain": [
       "                id                 contents key word\n",
       "1367         aqsss                    傑出的一手      莫德納\n",
       "1368    bill403777                       ??      莫德納\n",
       "1369       zixiang          有時候你不知道該稱讚還是該幹繳      莫德納\n",
       "1370     eddisontw                  部長要去接機嗎      莫德納\n",
       "1371        r89556             唷 這次沒有中共因素了逆      莫德納\n",
       "...            ...                      ...      ...\n",
       "188030      tttkkk              維穩科醫師... XD      莫德納\n",
       "188031      pulser                兩週在地方放到壞嗎      莫德納\n",
       "188032    jccherng                     要換人了      莫德納\n",
       "188033      ak5618   陳時中終於滾了，牙醫終究是牙醫，程度還是有差      莫德納\n",
       "188034    rogergon         似曾相識，硬撐不下去換投手然後爆      莫德納\n",
       "\n",
       "[129021 rows x 3 columns]"
      ]
     },
     "metadata": {},
     "execution_count": 2
    }
   ],
   "metadata": {}
  },
  {
   "cell_type": "code",
   "execution_count": 4,
   "source": [
    "df1.to_csv('output2\\莫德納.csv',encoding='utf-8-sig',index=False)"
   ],
   "outputs": [],
   "metadata": {}
  },
  {
   "cell_type": "code",
   "execution_count": 18,
   "source": [
    "df2 = df[df['key word'] == '輝瑞']\r\n",
    "df2"
   ],
   "outputs": [
    {
     "output_type": "execute_result",
     "data": {
      "text/html": [
       "<div>\n",
       "<style scoped>\n",
       "    .dataframe tbody tr th:only-of-type {\n",
       "        vertical-align: middle;\n",
       "    }\n",
       "\n",
       "    .dataframe tbody tr th {\n",
       "        vertical-align: top;\n",
       "    }\n",
       "\n",
       "    .dataframe thead th {\n",
       "        text-align: right;\n",
       "    }\n",
       "</style>\n",
       "<table border=\"1\" class=\"dataframe\">\n",
       "  <thead>\n",
       "    <tr style=\"text-align: right;\">\n",
       "      <th></th>\n",
       "      <th>id</th>\n",
       "      <th>contents</th>\n",
       "      <th>key word</th>\n",
       "    </tr>\n",
       "  </thead>\n",
       "  <tbody>\n",
       "    <tr>\n",
       "      <th>0</th>\n",
       "      <td>scjh123</td>\n",
       "      <td>台灣人很愛用暗黑兵法</td>\n",
       "      <td>輝瑞</td>\n",
       "    </tr>\n",
       "    <tr>\n",
       "      <th>1</th>\n",
       "      <td>KickAcer</td>\n",
       "      <td>AZ戰隊出來</td>\n",
       "      <td>輝瑞</td>\n",
       "    </tr>\n",
       "    <tr>\n",
       "      <th>2</th>\n",
       "      <td>jpwd</td>\n",
       "      <td>日本又送AZ50萬了</td>\n",
       "      <td>輝瑞</td>\n",
       "    </tr>\n",
       "    <tr>\n",
       "      <th>3</th>\n",
       "      <td>phix</td>\n",
       "      <td>AZ就打第一劑了 聽說第二劑比較副作用輕頭都洗了</td>\n",
       "      <td>輝瑞</td>\n",
       "    </tr>\n",
       "    <tr>\n",
       "      <th>4</th>\n",
       "      <td>likeilike</td>\n",
       "      <td>再挑BNT阿</td>\n",
       "      <td>輝瑞</td>\n",
       "    </tr>\n",
       "    <tr>\n",
       "      <th>...</th>\n",
       "      <td>...</td>\n",
       "      <td>...</td>\n",
       "      <td>...</td>\n",
       "    </tr>\n",
       "    <tr>\n",
       "      <th>115230</th>\n",
       "      <td>joy2105feh</td>\n",
       "      <td>連疫苗都卡川==</td>\n",
       "      <td>輝瑞</td>\n",
       "    </tr>\n",
       "    <tr>\n",
       "      <th>115231</th>\n",
       "      <td>LoveMakeLove</td>\n",
       "      <td>來，我先打！！</td>\n",
       "      <td>輝瑞</td>\n",
       "    </tr>\n",
       "    <tr>\n",
       "      <th>115232</th>\n",
       "      <td>imdean</td>\n",
       "      <td>川普真的雖</td>\n",
       "      <td>輝瑞</td>\n",
       "    </tr>\n",
       "    <tr>\n",
       "      <th>115233</th>\n",
       "      <td>foxey</td>\n",
       "      <td>推個</td>\n",
       "      <td>輝瑞</td>\n",
       "    </tr>\n",
       "    <tr>\n",
       "      <th>115234</th>\n",
       "      <td>dearjohn</td>\n",
       "      <td>XD</td>\n",
       "      <td>輝瑞</td>\n",
       "    </tr>\n",
       "  </tbody>\n",
       "</table>\n",
       "<p>59014 rows × 3 columns</p>\n",
       "</div>"
      ],
      "text/plain": [
       "                  id                   contents key word\n",
       "0            scjh123                 台灣人很愛用暗黑兵法       輝瑞\n",
       "1           KickAcer                     AZ戰隊出來       輝瑞\n",
       "2               jpwd                 日本又送AZ50萬了       輝瑞\n",
       "3               phix   AZ就打第一劑了 聽說第二劑比較副作用輕頭都洗了       輝瑞\n",
       "4          likeilike                     再挑BNT阿       輝瑞\n",
       "...              ...                        ...      ...\n",
       "115230    joy2105feh                   連疫苗都卡川==       輝瑞\n",
       "115231  LoveMakeLove                    來，我先打！！       輝瑞\n",
       "115232        imdean                      川普真的雖       輝瑞\n",
       "115233         foxey                         推個       輝瑞\n",
       "115234      dearjohn                         XD       輝瑞\n",
       "\n",
       "[59014 rows x 3 columns]"
      ]
     },
     "metadata": {},
     "execution_count": 18
    }
   ],
   "metadata": {}
  },
  {
   "cell_type": "code",
   "execution_count": 19,
   "source": [
    "df2.to_csv('output2\\輝瑞.csv',encoding='utf-8-sig',index=False)\r\n",
    "df2 = pd.read_csv('.\\output\\輝瑞.csv',low_memory=False,error_bad_lines=False)"
   ],
   "outputs": [
    {
     "output_type": "stream",
     "name": "stderr",
     "text": [
      "C:\\Users\\jeff0\\AppData\\Local\\Programs\\Python\\Python39\\lib\\site-packages\\IPython\\core\\interactiveshell.py:3441: FutureWarning: The error_bad_lines argument has been deprecated and will be removed in a future version.\n",
      "\n",
      "\n",
      "  exec(code_obj, self.user_global_ns, self.user_ns)\n"
     ]
    }
   ],
   "metadata": {}
  },
  {
   "cell_type": "code",
   "execution_count": 9,
   "source": [
    "df2[df2['contents'] == ' 會問還要不要追加的 一定不是三類哈哈']"
   ],
   "outputs": [
    {
     "output_type": "execute_result",
     "data": {
      "text/html": [
       "<div>\n",
       "<style scoped>\n",
       "    .dataframe tbody tr th:only-of-type {\n",
       "        vertical-align: middle;\n",
       "    }\n",
       "\n",
       "    .dataframe tbody tr th {\n",
       "        vertical-align: top;\n",
       "    }\n",
       "\n",
       "    .dataframe thead th {\n",
       "        text-align: right;\n",
       "    }\n",
       "</style>\n",
       "<table border=\"1\" class=\"dataframe\">\n",
       "  <thead>\n",
       "    <tr style=\"text-align: right;\">\n",
       "      <th></th>\n",
       "      <th>id</th>\n",
       "      <th>contents</th>\n",
       "      <th>key word</th>\n",
       "    </tr>\n",
       "  </thead>\n",
       "  <tbody>\n",
       "    <tr>\n",
       "      <th>53424</th>\n",
       "      <td>ron7</td>\n",
       "      <td>會問還要不要追加的 一定不是三類哈哈</td>\n",
       "      <td>輝瑞</td>\n",
       "    </tr>\n",
       "  </tbody>\n",
       "</table>\n",
       "</div>"
      ],
      "text/plain": [
       "         id             contents key word\n",
       "53424  ron7   會問還要不要追加的 一定不是三類哈哈       輝瑞"
      ]
     },
     "metadata": {},
     "execution_count": 9
    }
   ],
   "metadata": {}
  },
  {
   "cell_type": "code",
   "execution_count": 11,
   "source": [
    "df2.iloc[53420:53426]"
   ],
   "outputs": [
    {
     "output_type": "execute_result",
     "data": {
      "text/html": [
       "<div>\n",
       "<style scoped>\n",
       "    .dataframe tbody tr th:only-of-type {\n",
       "        vertical-align: middle;\n",
       "    }\n",
       "\n",
       "    .dataframe tbody tr th {\n",
       "        vertical-align: top;\n",
       "    }\n",
       "\n",
       "    .dataframe thead th {\n",
       "        text-align: right;\n",
       "    }\n",
       "</style>\n",
       "<table border=\"1\" class=\"dataframe\">\n",
       "  <thead>\n",
       "    <tr style=\"text-align: right;\">\n",
       "      <th></th>\n",
       "      <th>id</th>\n",
       "      <th>contents</th>\n",
       "      <th>key word</th>\n",
       "    </tr>\n",
       "  </thead>\n",
       "  <tbody>\n",
       "    <tr>\n",
       "      <th>53420</th>\n",
       "      <td>nan0205</td>\n",
       "      <td>加量不加價，佛心義國</td>\n",
       "      <td>輝瑞</td>\n",
       "    </tr>\n",
       "    <tr>\n",
       "      <th>53421</th>\n",
       "      <td>flyqoo</td>\n",
       "      <td>綠巨人</td>\n",
       "      <td>輝瑞</td>\n",
       "    </tr>\n",
       "    <tr>\n",
       "      <th>53422</th>\n",
       "      <td>oantonyo</td>\n",
       "      <td>多打幾倍而已不至於有問題</td>\n",
       "      <td>輝瑞</td>\n",
       "    </tr>\n",
       "    <tr>\n",
       "      <th>53423</th>\n",
       "      <td>best5551</td>\n",
       "      <td>一輩子免疫</td>\n",
       "      <td>輝瑞</td>\n",
       "    </tr>\n",
       "    <tr>\n",
       "      <th>53424</th>\n",
       "      <td>ron7</td>\n",
       "      <td>會問還要不要追加的 一定不是三類哈哈</td>\n",
       "      <td>輝瑞</td>\n",
       "    </tr>\n",
       "    <tr>\n",
       "      <th>53425</th>\n",
       "      <td>bill403777</td>\n",
       "      <td>全都要</td>\n",
       "      <td>輝瑞</td>\n",
       "    </tr>\n",
       "  </tbody>\n",
       "</table>\n",
       "</div>"
      ],
      "text/plain": [
       "               id             contents key word\n",
       "53420     nan0205           加量不加價，佛心義國       輝瑞\n",
       "53421      flyqoo                  綠巨人       輝瑞\n",
       "53422    oantonyo         多打幾倍而已不至於有問題       輝瑞\n",
       "53423    best5551                一輩子免疫       輝瑞\n",
       "53424        ron7   會問還要不要追加的 一定不是三類哈哈       輝瑞\n",
       "53425  bill403777                  全都要       輝瑞"
      ]
     },
     "metadata": {},
     "execution_count": 11
    }
   ],
   "metadata": {}
  },
  {
   "cell_type": "code",
   "execution_count": 20,
   "source": [
    "df2 = df2.iloc[:54474]\r\n",
    "df2"
   ],
   "outputs": [
    {
     "output_type": "execute_result",
     "data": {
      "text/html": [
       "<div>\n",
       "<style scoped>\n",
       "    .dataframe tbody tr th:only-of-type {\n",
       "        vertical-align: middle;\n",
       "    }\n",
       "\n",
       "    .dataframe tbody tr th {\n",
       "        vertical-align: top;\n",
       "    }\n",
       "\n",
       "    .dataframe thead th {\n",
       "        text-align: right;\n",
       "    }\n",
       "</style>\n",
       "<table border=\"1\" class=\"dataframe\">\n",
       "  <thead>\n",
       "    <tr style=\"text-align: right;\">\n",
       "      <th></th>\n",
       "      <th>id</th>\n",
       "      <th>contents</th>\n",
       "      <th>key word</th>\n",
       "    </tr>\n",
       "  </thead>\n",
       "  <tbody>\n",
       "    <tr>\n",
       "      <th>0</th>\n",
       "      <td>scjh123</td>\n",
       "      <td>台灣人很愛用暗黑兵法</td>\n",
       "      <td>輝瑞</td>\n",
       "    </tr>\n",
       "    <tr>\n",
       "      <th>1</th>\n",
       "      <td>KickAcer</td>\n",
       "      <td>AZ戰隊出來</td>\n",
       "      <td>輝瑞</td>\n",
       "    </tr>\n",
       "    <tr>\n",
       "      <th>2</th>\n",
       "      <td>jpwd</td>\n",
       "      <td>日本又送AZ50萬了</td>\n",
       "      <td>輝瑞</td>\n",
       "    </tr>\n",
       "    <tr>\n",
       "      <th>3</th>\n",
       "      <td>phix</td>\n",
       "      <td>AZ就打第一劑了 聽說第二劑比較副作用輕頭都洗了</td>\n",
       "      <td>輝瑞</td>\n",
       "    </tr>\n",
       "    <tr>\n",
       "      <th>4</th>\n",
       "      <td>likeilike</td>\n",
       "      <td>再挑BNT阿</td>\n",
       "      <td>輝瑞</td>\n",
       "    </tr>\n",
       "    <tr>\n",
       "      <th>...</th>\n",
       "      <td>...</td>\n",
       "      <td>...</td>\n",
       "      <td>...</td>\n",
       "    </tr>\n",
       "    <tr>\n",
       "      <th>53420</th>\n",
       "      <td>nan0205</td>\n",
       "      <td>加量不加價，佛心義國</td>\n",
       "      <td>輝瑞</td>\n",
       "    </tr>\n",
       "    <tr>\n",
       "      <th>53421</th>\n",
       "      <td>flyqoo</td>\n",
       "      <td>綠巨人</td>\n",
       "      <td>輝瑞</td>\n",
       "    </tr>\n",
       "    <tr>\n",
       "      <th>53422</th>\n",
       "      <td>oantonyo</td>\n",
       "      <td>多打幾倍而已不至於有問題</td>\n",
       "      <td>輝瑞</td>\n",
       "    </tr>\n",
       "    <tr>\n",
       "      <th>53423</th>\n",
       "      <td>best5551</td>\n",
       "      <td>一輩子免疫</td>\n",
       "      <td>輝瑞</td>\n",
       "    </tr>\n",
       "    <tr>\n",
       "      <th>53424</th>\n",
       "      <td>ron7</td>\n",
       "      <td>會問還要不要追加的 一定不是三類哈哈</td>\n",
       "      <td>輝瑞</td>\n",
       "    </tr>\n",
       "  </tbody>\n",
       "</table>\n",
       "<p>53425 rows × 3 columns</p>\n",
       "</div>"
      ],
      "text/plain": [
       "              id                   contents key word\n",
       "0        scjh123                 台灣人很愛用暗黑兵法       輝瑞\n",
       "1       KickAcer                     AZ戰隊出來       輝瑞\n",
       "2           jpwd                 日本又送AZ50萬了       輝瑞\n",
       "3           phix   AZ就打第一劑了 聽說第二劑比較副作用輕頭都洗了       輝瑞\n",
       "4      likeilike                     再挑BNT阿       輝瑞\n",
       "...          ...                        ...      ...\n",
       "53420    nan0205                 加量不加價，佛心義國       輝瑞\n",
       "53421     flyqoo                        綠巨人       輝瑞\n",
       "53422   oantonyo               多打幾倍而已不至於有問題       輝瑞\n",
       "53423   best5551                      一輩子免疫       輝瑞\n",
       "53424       ron7         會問還要不要追加的 一定不是三類哈哈       輝瑞\n",
       "\n",
       "[53425 rows x 3 columns]"
      ]
     },
     "metadata": {},
     "execution_count": 20
    }
   ],
   "metadata": {}
  },
  {
   "cell_type": "code",
   "execution_count": 15,
   "source": [
    "df2.to_csv('output\\輝瑞.csv',encoding='utf-8-sig',index=False)"
   ],
   "outputs": [],
   "metadata": {}
  },
  {
   "cell_type": "markdown",
   "source": [
    "# New data"
   ],
   "metadata": {}
  },
  {
   "cell_type": "code",
   "execution_count": 1,
   "source": [
    "import pandas as pd\r\n",
    "df3 = pd.read_csv('..\\data_fix\\疫苗相關5_fix.csv',low_memory=False,error_bad_lines=False)\r\n",
    "print(df3)"
   ],
   "outputs": [
    {
     "output_type": "stream",
     "name": "stdout",
     "text": [
      "                 id                           contents key word  \\\n",
      "0        koromo1991                     美國就不打高端啊 沒先見之明       科興   \n",
      "1      Submicromete                           因為高端會被波及       科興   \n",
      "2       jarrodqq896      美國就是沒打高端才會疫情爆發 看看高端 被突破率是完美的零       科興   \n",
      "3            ajemtw                                  推       科興   \n",
      "4           Mazeway                       新冠疫苗就廢啊，不分廠牌       科興   \n",
      "...             ...                                ...      ...   \n",
      "76680      ross4927              已經1/30 開始收案囉，跟11家醫中合作       聯亞   \n",
      "76681         gxlin                  台灣之前有獨立開發出什麼鳥疫苗嗎？       聯亞   \n",
      "76682    Ghostgreen     喜歡支那豬的疫苗快點去打 千萬不要打歐美跟台灣的這樣會 乳中       聯亞   \n",
      "76683    clover1211   先不說會不會被放鴿子 國外疫苗都有人嫌當白老鼠了這支有比較安全嗎       聯亞   \n",
      "76684       i376ers                              要接手了？       聯亞   \n",
      "\n",
      "                               date  \n",
      "0        111.71.101.84 09/27 11:40   \n",
      "1       223.138.76.176 09/27 11:40   \n",
      "2          39.10.1.175 09/27 11:40   \n",
      "3          96.44.161.8 09/27 11:48   \n",
      "4       101.12.100.119 09/27 11:57   \n",
      "...                             ...  \n",
      "76680                  02/07 22:44   \n",
      "76681                  02/07 22:56   \n",
      "76682                  02/07 22:57   \n",
      "76683                  02/07 23:28   \n",
      "76684                  11/08 21:58   \n",
      "\n",
      "[76685 rows x 4 columns]\n"
     ]
    },
    {
     "output_type": "stream",
     "name": "stderr",
     "text": [
      "C:\\Users\\jeff0\\AppData\\Local\\Programs\\Python\\Python39\\lib\\site-packages\\IPython\\core\\interactiveshell.py:3441: FutureWarning: The error_bad_lines argument has been deprecated and will be removed in a future version.\n",
      "\n",
      "\n",
      "  exec(code_obj, self.user_global_ns, self.user_ns)\n"
     ]
    }
   ],
   "metadata": {}
  },
  {
   "cell_type": "code",
   "execution_count": 22,
   "source": [
    "df4 = df3[df3['key word'] == '科興']\r\n",
    "df4"
   ],
   "outputs": [
    {
     "output_type": "execute_result",
     "data": {
      "text/html": [
       "<div>\n",
       "<style scoped>\n",
       "    .dataframe tbody tr th:only-of-type {\n",
       "        vertical-align: middle;\n",
       "    }\n",
       "\n",
       "    .dataframe tbody tr th {\n",
       "        vertical-align: top;\n",
       "    }\n",
       "\n",
       "    .dataframe thead th {\n",
       "        text-align: right;\n",
       "    }\n",
       "</style>\n",
       "<table border=\"1\" class=\"dataframe\">\n",
       "  <thead>\n",
       "    <tr style=\"text-align: right;\">\n",
       "      <th></th>\n",
       "      <th>id</th>\n",
       "      <th>contents</th>\n",
       "      <th>key word</th>\n",
       "      <th>date</th>\n",
       "    </tr>\n",
       "  </thead>\n",
       "  <tbody>\n",
       "    <tr>\n",
       "      <th>0</th>\n",
       "      <td>koromo1991</td>\n",
       "      <td>美國就不打高端啊 沒先見之明</td>\n",
       "      <td>科興</td>\n",
       "      <td>111.71.101.84 09/27 11:40</td>\n",
       "    </tr>\n",
       "    <tr>\n",
       "      <th>1</th>\n",
       "      <td>Submicromete</td>\n",
       "      <td>因為高端會被波及</td>\n",
       "      <td>科興</td>\n",
       "      <td>223.138.76.176 09/27 11:40</td>\n",
       "    </tr>\n",
       "    <tr>\n",
       "      <th>2</th>\n",
       "      <td>jarrodqq896</td>\n",
       "      <td>美國就是沒打高端才會疫情爆發 看看高端 被突破率是完美的零</td>\n",
       "      <td>科興</td>\n",
       "      <td>39.10.1.175 09/27 11:40</td>\n",
       "    </tr>\n",
       "    <tr>\n",
       "      <th>3</th>\n",
       "      <td>ajemtw</td>\n",
       "      <td>推</td>\n",
       "      <td>科興</td>\n",
       "      <td>96.44.161.8 09/27 11:48</td>\n",
       "    </tr>\n",
       "    <tr>\n",
       "      <th>4</th>\n",
       "      <td>Mazeway</td>\n",
       "      <td>新冠疫苗就廢啊，不分廠牌</td>\n",
       "      <td>科興</td>\n",
       "      <td>101.12.100.119 09/27 11:57</td>\n",
       "    </tr>\n",
       "    <tr>\n",
       "      <th>...</th>\n",
       "      <td>...</td>\n",
       "      <td>...</td>\n",
       "      <td>...</td>\n",
       "      <td>...</td>\n",
       "    </tr>\n",
       "    <tr>\n",
       "      <th>74848</th>\n",
       "      <td>h2901911</td>\n",
       "      <td>Pagan說中國沒人打疫苗，會不會太雲，雲地球人</td>\n",
       "      <td>科興</td>\n",
       "      <td>11/12 09:35</td>\n",
       "    </tr>\n",
       "    <tr>\n",
       "      <th>74849</th>\n",
       "      <td>locdan</td>\n",
       "      <td>自殺...那真的無話可說了</td>\n",
       "      <td>科興</td>\n",
       "      <td>11/12 09:40</td>\n",
       "    </tr>\n",
       "    <tr>\n",
       "      <th>74850</th>\n",
       "      <td>rofellosx</td>\n",
       "      <td>死不夠多的意思中國進口了一堆巴西雞翅</td>\n",
       "      <td>科興</td>\n",
       "      <td>11/12 09:52</td>\n",
       "    </tr>\n",
       "    <tr>\n",
       "      <th>74851</th>\n",
       "      <td>Sirine</td>\n",
       "      <td>自願試疫苗  所以自殺無誤</td>\n",
       "      <td>科興</td>\n",
       "      <td>11/12 09:59</td>\n",
       "    </tr>\n",
       "    <tr>\n",
       "      <th>74852</th>\n",
       "      <td>slackvalue</td>\n",
       "      <td>支那畜牲疫苗誰愛打就去打反正別打我就行</td>\n",
       "      <td>科興</td>\n",
       "      <td>11/12 21:19</td>\n",
       "    </tr>\n",
       "  </tbody>\n",
       "</table>\n",
       "<p>20633 rows × 4 columns</p>\n",
       "</div>"
      ],
      "text/plain": [
       "                 id                        contents key word  \\\n",
       "0        koromo1991                  美國就不打高端啊 沒先見之明       科興   \n",
       "1      Submicromete                        因為高端會被波及       科興   \n",
       "2       jarrodqq896   美國就是沒打高端才會疫情爆發 看看高端 被突破率是完美的零       科興   \n",
       "3            ajemtw                               推       科興   \n",
       "4           Mazeway                    新冠疫苗就廢啊，不分廠牌       科興   \n",
       "...             ...                             ...      ...   \n",
       "74848      h2901911        Pagan說中國沒人打疫苗，會不會太雲，雲地球人       科興   \n",
       "74849        locdan                   自殺...那真的無話可說了       科興   \n",
       "74850     rofellosx              死不夠多的意思中國進口了一堆巴西雞翅       科興   \n",
       "74851        Sirine                   自願試疫苗  所以自殺無誤       科興   \n",
       "74852    slackvalue             支那畜牲疫苗誰愛打就去打反正別打我就行       科興   \n",
       "\n",
       "                               date  \n",
       "0        111.71.101.84 09/27 11:40   \n",
       "1       223.138.76.176 09/27 11:40   \n",
       "2          39.10.1.175 09/27 11:40   \n",
       "3          96.44.161.8 09/27 11:48   \n",
       "4       101.12.100.119 09/27 11:57   \n",
       "...                             ...  \n",
       "74848                  11/12 09:35   \n",
       "74849                  11/12 09:40   \n",
       "74850                  11/12 09:52   \n",
       "74851                  11/12 09:59   \n",
       "74852                  11/12 21:19   \n",
       "\n",
       "[20633 rows x 4 columns]"
      ]
     },
     "metadata": {},
     "execution_count": 22
    }
   ],
   "metadata": {}
  },
  {
   "cell_type": "code",
   "execution_count": 25,
   "source": [
    "df4.to_csv('output2\\科興.csv',encoding='utf-8-sig',index=False)\r\n",
    "df4 = pd.read_csv('.\\output2\\科興.csv',low_memory=False,error_bad_lines=False)"
   ],
   "outputs": [],
   "metadata": {}
  },
  {
   "cell_type": "code",
   "execution_count": 28,
   "source": [
    "df4 = df4.iloc[:19509]\r\n",
    "df4.to_csv('output2\\科興.csv',encoding='utf-8-sig',index=False)"
   ],
   "outputs": [],
   "metadata": {}
  },
  {
   "cell_type": "code",
   "execution_count": 29,
   "source": [
    "df5 = df3[df3['key word'] == '國藥']\r\n",
    "df5"
   ],
   "outputs": [
    {
     "output_type": "execute_result",
     "data": {
      "text/html": [
       "<div>\n",
       "<style scoped>\n",
       "    .dataframe tbody tr th:only-of-type {\n",
       "        vertical-align: middle;\n",
       "    }\n",
       "\n",
       "    .dataframe tbody tr th {\n",
       "        vertical-align: top;\n",
       "    }\n",
       "\n",
       "    .dataframe thead th {\n",
       "        text-align: right;\n",
       "    }\n",
       "</style>\n",
       "<table border=\"1\" class=\"dataframe\">\n",
       "  <thead>\n",
       "    <tr style=\"text-align: right;\">\n",
       "      <th></th>\n",
       "      <th>id</th>\n",
       "      <th>contents</th>\n",
       "      <th>key word</th>\n",
       "      <th>date</th>\n",
       "    </tr>\n",
       "  </thead>\n",
       "  <tbody>\n",
       "    <tr>\n",
       "      <th>1366</th>\n",
       "      <td>cs09312</td>\n",
       "      <td>我們高端也能去印尼阿 嘻嘻</td>\n",
       "      <td>國藥</td>\n",
       "      <td>27.52.225.225 09/26 11:54</td>\n",
       "    </tr>\n",
       "    <tr>\n",
       "      <th>1367</th>\n",
       "      <td>snow3804</td>\n",
       "      <td>世界怎麼跟得上台灣</td>\n",
       "      <td>國藥</td>\n",
       "      <td>1.164.181.127 09/26 11:54</td>\n",
       "    </tr>\n",
       "    <tr>\n",
       "      <th>1368</th>\n",
       "      <td>lee0820</td>\n",
       "      <td>高端呢</td>\n",
       "      <td>國藥</td>\n",
       "      <td>42.77.161.93 09/26 11:54</td>\n",
       "    </tr>\n",
       "    <tr>\n",
       "      <th>1369</th>\n",
       "      <td>matico</td>\n",
       "      <td>又如何？世界不是只有美國！！！</td>\n",
       "      <td>國藥</td>\n",
       "      <td>140.113.3.12 09/26 11:54</td>\n",
       "    </tr>\n",
       "    <tr>\n",
       "      <th>1370</th>\n",
       "      <td>Ceferino</td>\n",
       "      <td>美國中共同路人認證</td>\n",
       "      <td>國藥</td>\n",
       "      <td>123.192.235.113 09/26 11:54</td>\n",
       "    </tr>\n",
       "    <tr>\n",
       "      <th>...</th>\n",
       "      <td>...</td>\n",
       "      <td>...</td>\n",
       "      <td>...</td>\n",
       "      <td>...</td>\n",
       "    </tr>\n",
       "    <tr>\n",
       "      <th>46604</th>\n",
       "      <td>vulu04u04</td>\n",
       "      <td>中國豬專用疫苗~~!!當人的一定不會打~~當豬就會打</td>\n",
       "      <td>國藥</td>\n",
       "      <td>10/14 11:01</td>\n",
       "    </tr>\n",
       "    <tr>\n",
       "      <th>46605</th>\n",
       "      <td>nothing188</td>\n",
       "      <td>做人體試驗而已，成功了就可以贖罪，失敗了，就失敗了韭菜壯陽，多吃有益健康</td>\n",
       "      <td>國藥</td>\n",
       "      <td>10/14 12:03</td>\n",
       "    </tr>\n",
       "    <tr>\n",
       "      <th>46606</th>\n",
       "      <td>rayonwu</td>\n",
       "      <td>高調</td>\n",
       "      <td>國藥</td>\n",
       "      <td>10/14 12:18</td>\n",
       "    </tr>\n",
       "    <tr>\n",
       "      <th>46607</th>\n",
       "      <td>teeo</td>\n",
       "      <td>會變成喪屍嗎?</td>\n",
       "      <td>國藥</td>\n",
       "      <td>10/14 14:11</td>\n",
       "    </tr>\n",
       "    <tr>\n",
       "      <th>46608</th>\n",
       "      <td>gag565</td>\n",
       "      <td>我中國的朋友打了疫苗 晚上託夢告訴我有用</td>\n",
       "      <td>國藥</td>\n",
       "      <td>10/14 19:22</td>\n",
       "    </tr>\n",
       "  </tbody>\n",
       "</table>\n",
       "<p>10720 rows × 4 columns</p>\n",
       "</div>"
      ],
      "text/plain": [
       "               id                               contents key word  \\\n",
       "1366      cs09312                          我們高端也能去印尼阿 嘻嘻       國藥   \n",
       "1367     snow3804                              世界怎麼跟得上台灣       國藥   \n",
       "1368      lee0820                                    高端呢       國藥   \n",
       "1369       matico                        又如何？世界不是只有美國！！！       國藥   \n",
       "1370     Ceferino                              美國中共同路人認證       國藥   \n",
       "...           ...                                    ...      ...   \n",
       "46604   vulu04u04             中國豬專用疫苗~~!!當人的一定不會打~~當豬就會打       國藥   \n",
       "46605  nothing188   做人體試驗而已，成功了就可以贖罪，失敗了，就失敗了韭菜壯陽，多吃有益健康       國藥   \n",
       "46606     rayonwu                                     高調       國藥   \n",
       "46607        teeo                                會變成喪屍嗎?       國藥   \n",
       "46608      gag565                   我中國的朋友打了疫苗 晚上託夢告訴我有用       國藥   \n",
       "\n",
       "                               date  \n",
       "1366     27.52.225.225 09/26 11:54   \n",
       "1367     1.164.181.127 09/26 11:54   \n",
       "1368      42.77.161.93 09/26 11:54   \n",
       "1369      140.113.3.12 09/26 11:54   \n",
       "1370   123.192.235.113 09/26 11:54   \n",
       "...                             ...  \n",
       "46604                  10/14 11:01   \n",
       "46605                  10/14 12:03   \n",
       "46606                  10/14 12:18   \n",
       "46607                  10/14 14:11   \n",
       "46608                  10/14 19:22   \n",
       "\n",
       "[10720 rows x 4 columns]"
      ]
     },
     "metadata": {},
     "execution_count": 29
    }
   ],
   "metadata": {}
  },
  {
   "cell_type": "code",
   "execution_count": 30,
   "source": [
    "df5.to_csv('output2\\國藥.csv',encoding='utf-8-sig',index=False)\r\n",
    "df5 = pd.read_csv('.\\output2\\國藥.csv',low_memory=False,error_bad_lines=False)"
   ],
   "outputs": [
    {
     "output_type": "stream",
     "name": "stderr",
     "text": [
      "C:\\Users\\jeff0\\AppData\\Local\\Programs\\Python\\Python39\\lib\\site-packages\\IPython\\core\\interactiveshell.py:3441: FutureWarning: The error_bad_lines argument has been deprecated and will be removed in a future version.\n",
      "\n",
      "\n",
      "  exec(code_obj, self.user_global_ns, self.user_ns)\n"
     ]
    }
   ],
   "metadata": {}
  },
  {
   "cell_type": "code",
   "execution_count": 32,
   "source": [
    "df5 = df5.iloc[:10254]\r\n",
    "df5\r\n",
    "df5.to_csv('output2\\國藥.csv',encoding='utf-8-sig',index=False)"
   ],
   "outputs": [],
   "metadata": {}
  },
  {
   "cell_type": "code",
   "execution_count": 33,
   "source": [
    "df6 = df3[df3['key word'] == '嬌生']\r\n",
    "df6.to_csv('output2\\嬌生.csv',encoding='utf-8-sig',index=False)\r\n",
    "df6 = pd.read_csv('.\\output2\\嬌生.csv',low_memory=False,error_bad_lines=False)"
   ],
   "outputs": [
    {
     "output_type": "stream",
     "name": "stderr",
     "text": [
      "C:\\Users\\jeff0\\AppData\\Local\\Programs\\Python\\Python39\\lib\\site-packages\\IPython\\core\\interactiveshell.py:3441: FutureWarning: The error_bad_lines argument has been deprecated and will be removed in a future version.\n",
      "\n",
      "\n",
      "  exec(code_obj, self.user_global_ns, self.user_ns)\n"
     ]
    }
   ],
   "metadata": {}
  },
  {
   "cell_type": "code",
   "execution_count": 36,
   "source": [
    "df6 = df6.iloc[:16821]\r\n",
    "df6\r\n",
    "df6.to_csv('output2\\嬌生.csv',encoding='utf-8-sig',index=False)"
   ],
   "outputs": [],
   "metadata": {}
  },
  {
   "cell_type": "code",
   "execution_count": 2,
   "source": [
    "df7 = df3[df3['key word'] == '康希諾']\r\n",
    "df7.to_csv('output2\\康希諾.csv',encoding='utf-8-sig',index=False)\r\n",
    "df7 = pd.read_csv('.\\output2\\康希諾.csv',low_memory=False,error_bad_lines=False)"
   ],
   "outputs": [
    {
     "output_type": "stream",
     "name": "stderr",
     "text": [
      "C:\\Users\\jeff0\\AppData\\Local\\Programs\\Python\\Python39\\lib\\site-packages\\IPython\\core\\interactiveshell.py:3441: FutureWarning: The error_bad_lines argument has been deprecated and will be removed in a future version.\n",
      "\n",
      "\n",
      "  exec(code_obj, self.user_global_ns, self.user_ns)\n"
     ]
    }
   ],
   "metadata": {}
  },
  {
   "cell_type": "code",
   "execution_count": 3,
   "source": [
    "df8 = df3[df3['key word'] == '聯亞']\r\n",
    "df8.to_csv('output2\\聯亞.csv',encoding='utf-8-sig',index=False)\r\n",
    "df8 = pd.read_csv('.\\output2\\聯亞.csv',low_memory=False,error_bad_lines=False)"
   ],
   "outputs": [],
   "metadata": {}
  },
  {
   "cell_type": "code",
   "execution_count": 4,
   "source": [
    "df8 = df8.iloc[:27862]\r\n",
    "df8\r\n",
    "df8.to_csv('output2\\聯亞.csv',encoding='utf-8-sig',index=False)"
   ],
   "outputs": [],
   "metadata": {}
  },
  {
   "cell_type": "code",
   "execution_count": null,
   "source": [
    "import pandas as pd\r\n",
    "df9 = pd.read_csv('../data_fix/疫苗相關1_fix.csv',low_memory=False,error_bad_lines=False)\r\n",
    "df9"
   ],
   "outputs": [],
   "metadata": {}
  },
  {
   "cell_type": "code",
   "execution_count": null,
   "source": [
    "df10 = df9[df9['key word'] == 'AstraZeneca']\r\n",
    "df10.to_csv('output/AstraZeneca.csv',encoding='utf-8-sig',index=False)\r\n",
    "df10 = pd.read_csv('./output/AstraZeneca.csv',low_memory=False,error_bad_lines=False)"
   ],
   "outputs": [],
   "metadata": {}
  },
  {
   "cell_type": "code",
   "execution_count": null,
   "source": [
    "df11 = df9[df9['key word'] == '阿斯特捷利康']\r\n",
    "df11.to_csv('output/阿斯特捷利康.csv',encoding='utf-8-sig',index=False)\r\n",
    "df11 = pd.read_csv('./output/阿斯特捷利康.csv',low_memory=False,error_bad_lines=False)\r\n",
    "df11"
   ],
   "outputs": [],
   "metadata": {}
  },
  {
   "cell_type": "code",
   "execution_count": null,
   "source": [
    "df11 = df11.iloc[:187]\r\n",
    "df11\r\n",
    "df11.to_csv('output/阿斯特捷利康.csv',encoding='utf-8-sig',index=False)"
   ],
   "outputs": [],
   "metadata": {}
  },
  {
   "cell_type": "code",
   "execution_count": null,
   "source": [
    "df12 = df9[df9['key word'] == 'BioNTech']\r\n",
    "df12.to_csv('output/BioNTech.csv',encoding='utf-8-sig',index=False)\r\n",
    "df12 = pd.read_csv('./output/BioNTech.csv',low_memory=False,error_bad_lines=False)\r\n",
    "df12"
   ],
   "outputs": [],
   "metadata": {}
  },
  {
   "cell_type": "code",
   "execution_count": null,
   "source": [
    "df12 = df12.iloc[:1473]\r\n",
    "df12\r\n",
    "df12.to_csv('output/BioNTech.csv',encoding='utf-8-sig',index=False)"
   ],
   "outputs": [],
   "metadata": {}
  },
  {
   "cell_type": "code",
   "execution_count": null,
   "source": [
    "df13 = df9[df9['key word'] == 'Moderna']\r\n",
    "df13.to_csv('output/Moderna.csv',encoding='utf-8-sig',index=False)"
   ],
   "outputs": [],
   "metadata": {}
  },
  {
   "cell_type": "code",
   "execution_count": null,
   "source": [
    "import pandas as pd\r\n",
    "df14 = pd.read_csv('../data_fix/疫苗相關4_fix.csv',low_memory=False,error_bad_lines=False)\r\n",
    "df14 = df14.drop('index',axis=1)\r\n",
    "df14"
   ],
   "outputs": [],
   "metadata": {}
  },
  {
   "cell_type": "code",
   "execution_count": null,
   "source": [
    "df14 = df14.iloc[:1694247]\r\n",
    "df14.to_csv('output/疫苗.csv',encoding='utf-8-sig',index=False)\r\n"
   ],
   "outputs": [],
   "metadata": {}
  }
 ],
 "metadata": {
  "orig_nbformat": 4,
  "language_info": {
   "name": "python",
   "version": "3.9.7",
   "mimetype": "text/x-python",
   "codemirror_mode": {
    "name": "ipython",
    "version": 3
   },
   "pygments_lexer": "ipython3",
   "nbconvert_exporter": "python",
   "file_extension": ".py"
  },
  "kernelspec": {
   "name": "python3",
   "display_name": "Python 3.9.7 64-bit"
  },
  "interpreter": {
   "hash": "6b24c107649004459c65f34c896e2d1b40ea1d32dc5bbe16c91bbc2f39c8c8c5"
  }
 },
 "nbformat": 4,
 "nbformat_minor": 2
}